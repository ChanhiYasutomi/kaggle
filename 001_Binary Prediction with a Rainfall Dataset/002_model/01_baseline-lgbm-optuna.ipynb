{
 "cells": [
  {
   "cell_type": "markdown",
   "id": "bbf48455",
   "metadata": {
    "papermill": {
     "duration": 0.006947,
     "end_time": "2025-03-25T13:59:27.939022",
     "exception": false,
     "start_time": "2025-03-25T13:59:27.932075",
     "status": "completed"
    },
    "tags": []
   },
   "source": [
    "# Importing Libraries"
   ]
  },
  {
   "cell_type": "code",
   "execution_count": 1,
   "id": "b1315e29",
   "metadata": {
    "execution": {
     "iopub.execute_input": "2025-03-25T13:59:27.953275Z",
     "iopub.status.busy": "2025-03-25T13:59:27.952903Z",
     "iopub.status.idle": "2025-03-25T13:59:34.904889Z",
     "shell.execute_reply": "2025-03-25T13:59:34.903741Z"
    },
    "papermill": {
     "duration": 6.961,
     "end_time": "2025-03-25T13:59:34.906775",
     "exception": false,
     "start_time": "2025-03-25T13:59:27.945775",
     "status": "completed"
    },
    "tags": []
   },
   "outputs": [],
   "source": [
    "# table manipulation, calculating\n",
    "import pandas as pd\n",
    "import numpy as np\n",
    "pd.set_option('display.max_columns', 100) # increase the maximum number of columns\n",
    "\n",
    "# visualization\n",
    "import seaborn as sns\n",
    "import matplotlib.pyplot as plt\n",
    "\n",
    "# learning\n",
    "from sklearn.metrics import roc_auc_score, roc_curve, auc\n",
    "from sklearn.ensemble import VotingClassifier\n",
    "from sklearn.model_selection import KFold\n",
    "import lightgbm as lgb    \n",
    "\n",
    "# hyper parameter tuning\n",
    "import optuna\n",
    "import optuna.visualization as vis\n",
    "from IPython.display import IFrame, display\n",
    "\n",
    "# Ignore all warnings\n",
    "import warnings\n",
    "warnings.simplefilter(\"ignore\")"
   ]
  },
  {
   "cell_type": "code",
   "execution_count": null,
   "id": "1dd85a91",
   "metadata": {
    "papermill": {
     "duration": 0.005972,
     "end_time": "2025-03-25T13:59:34.919295",
     "exception": false,
     "start_time": "2025-03-25T13:59:34.913323",
     "status": "completed"
    },
    "tags": []
   },
   "outputs": [],
   "source": []
  },
  {
   "cell_type": "markdown",
   "id": "14ffadbb",
   "metadata": {
    "papermill": {
     "duration": 0.005902,
     "end_time": "2025-03-25T13:59:34.931561",
     "exception": false,
     "start_time": "2025-03-25T13:59:34.925659",
     "status": "completed"
    },
    "tags": []
   },
   "source": [
    "# Importing datasets"
   ]
  },
  {
   "cell_type": "code",
   "execution_count": 2,
   "id": "8a2b7000",
   "metadata": {
    "execution": {
     "iopub.execute_input": "2025-03-25T13:59:34.945595Z",
     "iopub.status.busy": "2025-03-25T13:59:34.944800Z",
     "iopub.status.idle": "2025-03-25T13:59:34.970324Z",
     "shell.execute_reply": "2025-03-25T13:59:34.969286Z"
    },
    "papermill": {
     "duration": 0.034409,
     "end_time": "2025-03-25T13:59:34.972213",
     "exception": false,
     "start_time": "2025-03-25T13:59:34.937804",
     "status": "completed"
    },
    "tags": []
   },
   "outputs": [],
   "source": [
    "df_train = pd.read_csv('/kaggle/input/playground-series-s5e3/train.csv')\n",
    "df_test = pd.read_csv('/kaggle/input/playground-series-s5e3/test.csv')"
   ]
  },
  {
   "cell_type": "code",
   "execution_count": 3,
   "id": "6e46c295",
   "metadata": {
    "execution": {
     "iopub.execute_input": "2025-03-25T13:59:34.986419Z",
     "iopub.status.busy": "2025-03-25T13:59:34.986077Z",
     "iopub.status.idle": "2025-03-25T13:59:35.026940Z",
     "shell.execute_reply": "2025-03-25T13:59:35.025708Z"
    },
    "papermill": {
     "duration": 0.049869,
     "end_time": "2025-03-25T13:59:35.028742",
     "exception": false,
     "start_time": "2025-03-25T13:59:34.978873",
     "status": "completed"
    },
    "tags": []
   },
   "outputs": [
    {
     "data": {
      "text/html": [
       "<div>\n",
       "<style scoped>\n",
       "    .dataframe tbody tr th:only-of-type {\n",
       "        vertical-align: middle;\n",
       "    }\n",
       "\n",
       "    .dataframe tbody tr th {\n",
       "        vertical-align: top;\n",
       "    }\n",
       "\n",
       "    .dataframe thead th {\n",
       "        text-align: right;\n",
       "    }\n",
       "</style>\n",
       "<table border=\"1\" class=\"dataframe\">\n",
       "  <thead>\n",
       "    <tr style=\"text-align: right;\">\n",
       "      <th></th>\n",
       "      <th>id</th>\n",
       "      <th>day</th>\n",
       "      <th>pressure</th>\n",
       "      <th>maxtemp</th>\n",
       "      <th>temparature</th>\n",
       "      <th>mintemp</th>\n",
       "      <th>dewpoint</th>\n",
       "      <th>humidity</th>\n",
       "      <th>cloud</th>\n",
       "      <th>sunshine</th>\n",
       "      <th>winddirection</th>\n",
       "      <th>windspeed</th>\n",
       "      <th>rainfall</th>\n",
       "    </tr>\n",
       "  </thead>\n",
       "  <tbody>\n",
       "    <tr>\n",
       "      <th>0</th>\n",
       "      <td>0</td>\n",
       "      <td>1</td>\n",
       "      <td>1017.4</td>\n",
       "      <td>21.2</td>\n",
       "      <td>20.6</td>\n",
       "      <td>19.9</td>\n",
       "      <td>19.4</td>\n",
       "      <td>87.0</td>\n",
       "      <td>88.0</td>\n",
       "      <td>1.1</td>\n",
       "      <td>60.0</td>\n",
       "      <td>17.2</td>\n",
       "      <td>1</td>\n",
       "    </tr>\n",
       "    <tr>\n",
       "      <th>1</th>\n",
       "      <td>1</td>\n",
       "      <td>2</td>\n",
       "      <td>1019.5</td>\n",
       "      <td>16.2</td>\n",
       "      <td>16.9</td>\n",
       "      <td>15.8</td>\n",
       "      <td>15.4</td>\n",
       "      <td>95.0</td>\n",
       "      <td>91.0</td>\n",
       "      <td>0.0</td>\n",
       "      <td>50.0</td>\n",
       "      <td>21.9</td>\n",
       "      <td>1</td>\n",
       "    </tr>\n",
       "    <tr>\n",
       "      <th>2</th>\n",
       "      <td>2</td>\n",
       "      <td>3</td>\n",
       "      <td>1024.1</td>\n",
       "      <td>19.4</td>\n",
       "      <td>16.1</td>\n",
       "      <td>14.6</td>\n",
       "      <td>9.3</td>\n",
       "      <td>75.0</td>\n",
       "      <td>47.0</td>\n",
       "      <td>8.3</td>\n",
       "      <td>70.0</td>\n",
       "      <td>18.1</td>\n",
       "      <td>1</td>\n",
       "    </tr>\n",
       "    <tr>\n",
       "      <th>3</th>\n",
       "      <td>3</td>\n",
       "      <td>4</td>\n",
       "      <td>1013.4</td>\n",
       "      <td>18.1</td>\n",
       "      <td>17.8</td>\n",
       "      <td>16.9</td>\n",
       "      <td>16.8</td>\n",
       "      <td>95.0</td>\n",
       "      <td>95.0</td>\n",
       "      <td>0.0</td>\n",
       "      <td>60.0</td>\n",
       "      <td>35.6</td>\n",
       "      <td>1</td>\n",
       "    </tr>\n",
       "    <tr>\n",
       "      <th>4</th>\n",
       "      <td>4</td>\n",
       "      <td>5</td>\n",
       "      <td>1021.8</td>\n",
       "      <td>21.3</td>\n",
       "      <td>18.4</td>\n",
       "      <td>15.2</td>\n",
       "      <td>9.6</td>\n",
       "      <td>52.0</td>\n",
       "      <td>45.0</td>\n",
       "      <td>3.6</td>\n",
       "      <td>40.0</td>\n",
       "      <td>24.8</td>\n",
       "      <td>0</td>\n",
       "    </tr>\n",
       "    <tr>\n",
       "      <th>...</th>\n",
       "      <td>...</td>\n",
       "      <td>...</td>\n",
       "      <td>...</td>\n",
       "      <td>...</td>\n",
       "      <td>...</td>\n",
       "      <td>...</td>\n",
       "      <td>...</td>\n",
       "      <td>...</td>\n",
       "      <td>...</td>\n",
       "      <td>...</td>\n",
       "      <td>...</td>\n",
       "      <td>...</td>\n",
       "      <td>...</td>\n",
       "    </tr>\n",
       "    <tr>\n",
       "      <th>2185</th>\n",
       "      <td>2185</td>\n",
       "      <td>361</td>\n",
       "      <td>1014.6</td>\n",
       "      <td>23.2</td>\n",
       "      <td>20.6</td>\n",
       "      <td>19.1</td>\n",
       "      <td>19.9</td>\n",
       "      <td>97.0</td>\n",
       "      <td>88.0</td>\n",
       "      <td>0.1</td>\n",
       "      <td>40.0</td>\n",
       "      <td>22.1</td>\n",
       "      <td>1</td>\n",
       "    </tr>\n",
       "    <tr>\n",
       "      <th>2186</th>\n",
       "      <td>2186</td>\n",
       "      <td>362</td>\n",
       "      <td>1012.4</td>\n",
       "      <td>17.2</td>\n",
       "      <td>17.3</td>\n",
       "      <td>16.3</td>\n",
       "      <td>15.3</td>\n",
       "      <td>91.0</td>\n",
       "      <td>88.0</td>\n",
       "      <td>0.0</td>\n",
       "      <td>50.0</td>\n",
       "      <td>35.3</td>\n",
       "      <td>1</td>\n",
       "    </tr>\n",
       "    <tr>\n",
       "      <th>2187</th>\n",
       "      <td>2187</td>\n",
       "      <td>363</td>\n",
       "      <td>1013.3</td>\n",
       "      <td>19.0</td>\n",
       "      <td>16.3</td>\n",
       "      <td>14.3</td>\n",
       "      <td>12.6</td>\n",
       "      <td>79.0</td>\n",
       "      <td>79.0</td>\n",
       "      <td>5.0</td>\n",
       "      <td>40.0</td>\n",
       "      <td>32.9</td>\n",
       "      <td>1</td>\n",
       "    </tr>\n",
       "    <tr>\n",
       "      <th>2188</th>\n",
       "      <td>2188</td>\n",
       "      <td>364</td>\n",
       "      <td>1022.3</td>\n",
       "      <td>16.4</td>\n",
       "      <td>15.2</td>\n",
       "      <td>13.8</td>\n",
       "      <td>14.7</td>\n",
       "      <td>92.0</td>\n",
       "      <td>93.0</td>\n",
       "      <td>0.1</td>\n",
       "      <td>40.0</td>\n",
       "      <td>18.0</td>\n",
       "      <td>1</td>\n",
       "    </tr>\n",
       "    <tr>\n",
       "      <th>2189</th>\n",
       "      <td>2189</td>\n",
       "      <td>365</td>\n",
       "      <td>1013.8</td>\n",
       "      <td>21.2</td>\n",
       "      <td>19.1</td>\n",
       "      <td>18.0</td>\n",
       "      <td>18.0</td>\n",
       "      <td>89.0</td>\n",
       "      <td>88.0</td>\n",
       "      <td>1.0</td>\n",
       "      <td>70.0</td>\n",
       "      <td>48.0</td>\n",
       "      <td>1</td>\n",
       "    </tr>\n",
       "  </tbody>\n",
       "</table>\n",
       "<p>2190 rows × 13 columns</p>\n",
       "</div>"
      ],
      "text/plain": [
       "        id  day  pressure  maxtemp  temparature  mintemp  dewpoint  humidity  \\\n",
       "0        0    1    1017.4     21.2         20.6     19.9      19.4      87.0   \n",
       "1        1    2    1019.5     16.2         16.9     15.8      15.4      95.0   \n",
       "2        2    3    1024.1     19.4         16.1     14.6       9.3      75.0   \n",
       "3        3    4    1013.4     18.1         17.8     16.9      16.8      95.0   \n",
       "4        4    5    1021.8     21.3         18.4     15.2       9.6      52.0   \n",
       "...    ...  ...       ...      ...          ...      ...       ...       ...   \n",
       "2185  2185  361    1014.6     23.2         20.6     19.1      19.9      97.0   \n",
       "2186  2186  362    1012.4     17.2         17.3     16.3      15.3      91.0   \n",
       "2187  2187  363    1013.3     19.0         16.3     14.3      12.6      79.0   \n",
       "2188  2188  364    1022.3     16.4         15.2     13.8      14.7      92.0   \n",
       "2189  2189  365    1013.8     21.2         19.1     18.0      18.0      89.0   \n",
       "\n",
       "      cloud  sunshine  winddirection  windspeed  rainfall  \n",
       "0      88.0       1.1           60.0       17.2         1  \n",
       "1      91.0       0.0           50.0       21.9         1  \n",
       "2      47.0       8.3           70.0       18.1         1  \n",
       "3      95.0       0.0           60.0       35.6         1  \n",
       "4      45.0       3.6           40.0       24.8         0  \n",
       "...     ...       ...            ...        ...       ...  \n",
       "2185   88.0       0.1           40.0       22.1         1  \n",
       "2186   88.0       0.0           50.0       35.3         1  \n",
       "2187   79.0       5.0           40.0       32.9         1  \n",
       "2188   93.0       0.1           40.0       18.0         1  \n",
       "2189   88.0       1.0           70.0       48.0         1  \n",
       "\n",
       "[2190 rows x 13 columns]"
      ]
     },
     "execution_count": 3,
     "metadata": {},
     "output_type": "execute_result"
    }
   ],
   "source": [
    "df_train"
   ]
  },
  {
   "cell_type": "code",
   "execution_count": 4,
   "id": "03b1357a",
   "metadata": {
    "execution": {
     "iopub.execute_input": "2025-03-25T13:59:35.043407Z",
     "iopub.status.busy": "2025-03-25T13:59:35.043065Z",
     "iopub.status.idle": "2025-03-25T13:59:35.063224Z",
     "shell.execute_reply": "2025-03-25T13:59:35.062149Z"
    },
    "papermill": {
     "duration": 0.02919,
     "end_time": "2025-03-25T13:59:35.064776",
     "exception": false,
     "start_time": "2025-03-25T13:59:35.035586",
     "status": "completed"
    },
    "tags": []
   },
   "outputs": [
    {
     "data": {
      "text/html": [
       "<div>\n",
       "<style scoped>\n",
       "    .dataframe tbody tr th:only-of-type {\n",
       "        vertical-align: middle;\n",
       "    }\n",
       "\n",
       "    .dataframe tbody tr th {\n",
       "        vertical-align: top;\n",
       "    }\n",
       "\n",
       "    .dataframe thead th {\n",
       "        text-align: right;\n",
       "    }\n",
       "</style>\n",
       "<table border=\"1\" class=\"dataframe\">\n",
       "  <thead>\n",
       "    <tr style=\"text-align: right;\">\n",
       "      <th></th>\n",
       "      <th>id</th>\n",
       "      <th>day</th>\n",
       "      <th>pressure</th>\n",
       "      <th>maxtemp</th>\n",
       "      <th>temparature</th>\n",
       "      <th>mintemp</th>\n",
       "      <th>dewpoint</th>\n",
       "      <th>humidity</th>\n",
       "      <th>cloud</th>\n",
       "      <th>sunshine</th>\n",
       "      <th>winddirection</th>\n",
       "      <th>windspeed</th>\n",
       "    </tr>\n",
       "  </thead>\n",
       "  <tbody>\n",
       "    <tr>\n",
       "      <th>0</th>\n",
       "      <td>2190</td>\n",
       "      <td>1</td>\n",
       "      <td>1019.5</td>\n",
       "      <td>17.5</td>\n",
       "      <td>15.8</td>\n",
       "      <td>12.7</td>\n",
       "      <td>14.9</td>\n",
       "      <td>96.0</td>\n",
       "      <td>99.0</td>\n",
       "      <td>0.0</td>\n",
       "      <td>50.0</td>\n",
       "      <td>24.3</td>\n",
       "    </tr>\n",
       "    <tr>\n",
       "      <th>1</th>\n",
       "      <td>2191</td>\n",
       "      <td>2</td>\n",
       "      <td>1016.5</td>\n",
       "      <td>17.5</td>\n",
       "      <td>16.5</td>\n",
       "      <td>15.8</td>\n",
       "      <td>15.1</td>\n",
       "      <td>97.0</td>\n",
       "      <td>99.0</td>\n",
       "      <td>0.0</td>\n",
       "      <td>50.0</td>\n",
       "      <td>35.3</td>\n",
       "    </tr>\n",
       "    <tr>\n",
       "      <th>2</th>\n",
       "      <td>2192</td>\n",
       "      <td>3</td>\n",
       "      <td>1023.9</td>\n",
       "      <td>11.2</td>\n",
       "      <td>10.4</td>\n",
       "      <td>9.4</td>\n",
       "      <td>8.9</td>\n",
       "      <td>86.0</td>\n",
       "      <td>96.0</td>\n",
       "      <td>0.0</td>\n",
       "      <td>40.0</td>\n",
       "      <td>16.9</td>\n",
       "    </tr>\n",
       "    <tr>\n",
       "      <th>3</th>\n",
       "      <td>2193</td>\n",
       "      <td>4</td>\n",
       "      <td>1022.9</td>\n",
       "      <td>20.6</td>\n",
       "      <td>17.3</td>\n",
       "      <td>15.2</td>\n",
       "      <td>9.5</td>\n",
       "      <td>75.0</td>\n",
       "      <td>45.0</td>\n",
       "      <td>7.1</td>\n",
       "      <td>20.0</td>\n",
       "      <td>50.6</td>\n",
       "    </tr>\n",
       "    <tr>\n",
       "      <th>4</th>\n",
       "      <td>2194</td>\n",
       "      <td>5</td>\n",
       "      <td>1022.2</td>\n",
       "      <td>16.1</td>\n",
       "      <td>13.8</td>\n",
       "      <td>6.4</td>\n",
       "      <td>4.3</td>\n",
       "      <td>68.0</td>\n",
       "      <td>49.0</td>\n",
       "      <td>9.2</td>\n",
       "      <td>20.0</td>\n",
       "      <td>19.4</td>\n",
       "    </tr>\n",
       "    <tr>\n",
       "      <th>...</th>\n",
       "      <td>...</td>\n",
       "      <td>...</td>\n",
       "      <td>...</td>\n",
       "      <td>...</td>\n",
       "      <td>...</td>\n",
       "      <td>...</td>\n",
       "      <td>...</td>\n",
       "      <td>...</td>\n",
       "      <td>...</td>\n",
       "      <td>...</td>\n",
       "      <td>...</td>\n",
       "      <td>...</td>\n",
       "    </tr>\n",
       "    <tr>\n",
       "      <th>725</th>\n",
       "      <td>2915</td>\n",
       "      <td>361</td>\n",
       "      <td>1020.8</td>\n",
       "      <td>18.2</td>\n",
       "      <td>17.6</td>\n",
       "      <td>16.1</td>\n",
       "      <td>13.7</td>\n",
       "      <td>96.0</td>\n",
       "      <td>95.0</td>\n",
       "      <td>0.0</td>\n",
       "      <td>20.0</td>\n",
       "      <td>34.3</td>\n",
       "    </tr>\n",
       "    <tr>\n",
       "      <th>726</th>\n",
       "      <td>2916</td>\n",
       "      <td>362</td>\n",
       "      <td>1011.7</td>\n",
       "      <td>23.2</td>\n",
       "      <td>18.1</td>\n",
       "      <td>16.0</td>\n",
       "      <td>16.0</td>\n",
       "      <td>78.0</td>\n",
       "      <td>80.0</td>\n",
       "      <td>1.6</td>\n",
       "      <td>40.0</td>\n",
       "      <td>25.2</td>\n",
       "    </tr>\n",
       "    <tr>\n",
       "      <th>727</th>\n",
       "      <td>2917</td>\n",
       "      <td>363</td>\n",
       "      <td>1022.7</td>\n",
       "      <td>21.0</td>\n",
       "      <td>18.5</td>\n",
       "      <td>17.0</td>\n",
       "      <td>15.5</td>\n",
       "      <td>92.0</td>\n",
       "      <td>96.0</td>\n",
       "      <td>0.0</td>\n",
       "      <td>50.0</td>\n",
       "      <td>21.9</td>\n",
       "    </tr>\n",
       "    <tr>\n",
       "      <th>728</th>\n",
       "      <td>2918</td>\n",
       "      <td>364</td>\n",
       "      <td>1014.4</td>\n",
       "      <td>21.0</td>\n",
       "      <td>20.0</td>\n",
       "      <td>19.7</td>\n",
       "      <td>19.8</td>\n",
       "      <td>94.0</td>\n",
       "      <td>93.0</td>\n",
       "      <td>0.0</td>\n",
       "      <td>50.0</td>\n",
       "      <td>39.5</td>\n",
       "    </tr>\n",
       "    <tr>\n",
       "      <th>729</th>\n",
       "      <td>2919</td>\n",
       "      <td>365</td>\n",
       "      <td>1020.9</td>\n",
       "      <td>22.2</td>\n",
       "      <td>18.8</td>\n",
       "      <td>17.0</td>\n",
       "      <td>13.3</td>\n",
       "      <td>79.0</td>\n",
       "      <td>89.0</td>\n",
       "      <td>0.2</td>\n",
       "      <td>60.0</td>\n",
       "      <td>50.6</td>\n",
       "    </tr>\n",
       "  </tbody>\n",
       "</table>\n",
       "<p>730 rows × 12 columns</p>\n",
       "</div>"
      ],
      "text/plain": [
       "       id  day  pressure  maxtemp  temparature  mintemp  dewpoint  humidity  \\\n",
       "0    2190    1    1019.5     17.5         15.8     12.7      14.9      96.0   \n",
       "1    2191    2    1016.5     17.5         16.5     15.8      15.1      97.0   \n",
       "2    2192    3    1023.9     11.2         10.4      9.4       8.9      86.0   \n",
       "3    2193    4    1022.9     20.6         17.3     15.2       9.5      75.0   \n",
       "4    2194    5    1022.2     16.1         13.8      6.4       4.3      68.0   \n",
       "..    ...  ...       ...      ...          ...      ...       ...       ...   \n",
       "725  2915  361    1020.8     18.2         17.6     16.1      13.7      96.0   \n",
       "726  2916  362    1011.7     23.2         18.1     16.0      16.0      78.0   \n",
       "727  2917  363    1022.7     21.0         18.5     17.0      15.5      92.0   \n",
       "728  2918  364    1014.4     21.0         20.0     19.7      19.8      94.0   \n",
       "729  2919  365    1020.9     22.2         18.8     17.0      13.3      79.0   \n",
       "\n",
       "     cloud  sunshine  winddirection  windspeed  \n",
       "0     99.0       0.0           50.0       24.3  \n",
       "1     99.0       0.0           50.0       35.3  \n",
       "2     96.0       0.0           40.0       16.9  \n",
       "3     45.0       7.1           20.0       50.6  \n",
       "4     49.0       9.2           20.0       19.4  \n",
       "..     ...       ...            ...        ...  \n",
       "725   95.0       0.0           20.0       34.3  \n",
       "726   80.0       1.6           40.0       25.2  \n",
       "727   96.0       0.0           50.0       21.9  \n",
       "728   93.0       0.0           50.0       39.5  \n",
       "729   89.0       0.2           60.0       50.6  \n",
       "\n",
       "[730 rows x 12 columns]"
      ]
     },
     "execution_count": 4,
     "metadata": {},
     "output_type": "execute_result"
    }
   ],
   "source": [
    "df_test"
   ]
  },
  {
   "cell_type": "code",
   "execution_count": null,
   "id": "002c22c4",
   "metadata": {
    "papermill": {
     "duration": 0.00694,
     "end_time": "2025-03-25T13:59:35.078628",
     "exception": false,
     "start_time": "2025-03-25T13:59:35.071688",
     "status": "completed"
    },
    "tags": []
   },
   "outputs": [],
   "source": []
  },
  {
   "cell_type": "markdown",
   "id": "56181ab4",
   "metadata": {
    "papermill": {
     "duration": 0.006455,
     "end_time": "2025-03-25T13:59:35.091744",
     "exception": false,
     "start_time": "2025-03-25T13:59:35.085289",
     "status": "completed"
    },
    "tags": []
   },
   "source": [
    "# EDA"
   ]
  },
  {
   "cell_type": "markdown",
   "id": "3cc5ba69",
   "metadata": {
    "papermill": {
     "duration": 0.006462,
     "end_time": "2025-03-25T13:59:35.104848",
     "exception": false,
     "start_time": "2025-03-25T13:59:35.098386",
     "status": "completed"
    },
    "tags": []
   },
   "source": [
    "## detail : https://www.kaggle.com/code/leonchani/eda-inspection-for-binary-prediction-with-rainfall/notebook#competiton-:-Binary-Prediction-with-a-Rainfall-Dataset"
   ]
  },
  {
   "cell_type": "code",
   "execution_count": null,
   "id": "37880ee8",
   "metadata": {
    "papermill": {
     "duration": 0.006372,
     "end_time": "2025-03-25T13:59:35.117931",
     "exception": false,
     "start_time": "2025-03-25T13:59:35.111559",
     "status": "completed"
    },
    "tags": []
   },
   "outputs": [],
   "source": []
  },
  {
   "cell_type": "markdown",
   "id": "99201028",
   "metadata": {
    "papermill": {
     "duration": 0.007007,
     "end_time": "2025-03-25T13:59:35.132083",
     "exception": false,
     "start_time": "2025-03-25T13:59:35.125076",
     "status": "completed"
    },
    "tags": []
   },
   "source": [
    "# Preprocessing"
   ]
  },
  {
   "cell_type": "code",
   "execution_count": null,
   "id": "01d97753",
   "metadata": {
    "papermill": {
     "duration": 0.006487,
     "end_time": "2025-03-25T13:59:35.145404",
     "exception": false,
     "start_time": "2025-03-25T13:59:35.138917",
     "status": "completed"
    },
    "tags": []
   },
   "outputs": [],
   "source": []
  },
  {
   "cell_type": "markdown",
   "id": "c27123e0",
   "metadata": {
    "papermill": {
     "duration": 0.006596,
     "end_time": "2025-03-25T13:59:35.159028",
     "exception": false,
     "start_time": "2025-03-25T13:59:35.152432",
     "status": "completed"
    },
    "tags": []
   },
   "source": [
    "# Feature Engineering"
   ]
  },
  {
   "cell_type": "code",
   "execution_count": null,
   "id": "e8a6f5eb",
   "metadata": {
    "papermill": {
     "duration": 0.006455,
     "end_time": "2025-03-25T13:59:35.172368",
     "exception": false,
     "start_time": "2025-03-25T13:59:35.165913",
     "status": "completed"
    },
    "tags": []
   },
   "outputs": [],
   "source": []
  },
  {
   "cell_type": "markdown",
   "id": "c15cc913",
   "metadata": {
    "papermill": {
     "duration": 0.006381,
     "end_time": "2025-03-25T13:59:35.185453",
     "exception": false,
     "start_time": "2025-03-25T13:59:35.179072",
     "status": "completed"
    },
    "tags": []
   },
   "source": [
    "# Modeling"
   ]
  },
  {
   "cell_type": "code",
   "execution_count": 5,
   "id": "1095a2cf",
   "metadata": {
    "execution": {
     "iopub.execute_input": "2025-03-25T13:59:35.200487Z",
     "iopub.status.busy": "2025-03-25T13:59:35.200046Z",
     "iopub.status.idle": "2025-03-25T13:59:35.204273Z",
     "shell.execute_reply": "2025-03-25T13:59:35.203279Z"
    },
    "papermill": {
     "duration": 0.013721,
     "end_time": "2025-03-25T13:59:35.206063",
     "exception": false,
     "start_time": "2025-03-25T13:59:35.192342",
     "status": "completed"
    },
    "tags": []
   },
   "outputs": [],
   "source": [
    "SEED = 42\n",
    "NUM_SPLITS = 10 # try different folds"
   ]
  },
  {
   "cell_type": "code",
   "execution_count": 6,
   "id": "e0386458",
   "metadata": {
    "execution": {
     "iopub.execute_input": "2025-03-25T13:59:35.221041Z",
     "iopub.status.busy": "2025-03-25T13:59:35.220632Z",
     "iopub.status.idle": "2025-03-25T13:59:35.227197Z",
     "shell.execute_reply": "2025-03-25T13:59:35.226305Z"
    },
    "papermill": {
     "duration": 0.015826,
     "end_time": "2025-03-25T13:59:35.228797",
     "exception": false,
     "start_time": "2025-03-25T13:59:35.212971",
     "status": "completed"
    },
    "tags": []
   },
   "outputs": [],
   "source": [
    "X = df_train.drop(columns=[\"rainfall\"])\n",
    "y = df_train[\"rainfall\"]"
   ]
  },
  {
   "cell_type": "code",
   "execution_count": 7,
   "id": "7e87f420",
   "metadata": {
    "execution": {
     "iopub.execute_input": "2025-03-25T13:59:35.243575Z",
     "iopub.status.busy": "2025-03-25T13:59:35.243253Z",
     "iopub.status.idle": "2025-03-25T13:59:35.251739Z",
     "shell.execute_reply": "2025-03-25T13:59:35.250774Z"
    },
    "papermill": {
     "duration": 0.017756,
     "end_time": "2025-03-25T13:59:35.253493",
     "exception": false,
     "start_time": "2025-03-25T13:59:35.235737",
     "status": "completed"
    },
    "tags": []
   },
   "outputs": [],
   "source": [
    "def objective(trial):\n",
    "    params = {\n",
    "        'objective': 'binary',\n",
    "        'metric': 'auc',\n",
    "        'boosting_type': 'gbdt',\n",
    "        'learning_rate': trial.suggest_float('learning_rate', 0.005, 0.05),\n",
    "        'num_leaves': trial.suggest_int('num_leaves', 20, 50),\n",
    "        'max_depth': trial.suggest_int('max_depth', 5, 10),\n",
    "        'feature_fraction': trial.suggest_float('feature_fraction', 0.5, 0.9),\n",
    "        'bagging_fraction': trial.suggest_float('bagging_fraction', 0.5, 0.9),\n",
    "        'bagging_freq': trial.suggest_int('bagging_freq', 1, 5),\n",
    "        'lambda_l1': trial.suggest_float('lambda_l1', 0.01, 0.2),\n",
    "        'lambda_l2': trial.suggest_float('lambda_l2', 0.01, 0.2),\n",
    "        'min_child_samples': trial.suggest_int('min_child_samples', 10, 30),\n",
    "        'min_data_in_leaf': trial.suggest_int('min_data_in_leaf', 20, 60),\n",
    "        'min_sum_hessian_in_leaf': trial.suggest_float('min_sum_hessian_in_leaf', 1e-3, 1e-1),\n",
    "        'verbosity': -1,\n",
    "        'early_stopping_rounds': 100,\n",
    "        'random_state': SEED,\n",
    "        'min_gain_to_split': trial.suggest_float('min_gain_to_split', 0.0, 1.0),\n",
    "        'drop_rate': trial.suggest_float('drop_rate', 0.0, 0.2),\n",
    "        'max_bin': trial.suggest_int('max_bin', 128, 512),\n",
    "    }\n",
    "\n",
    "    cv = KFold(n_splits=NUM_SPLITS, random_state=SEED, shuffle=True)\n",
    "    scores = []\n",
    "\n",
    "    for fold, (train_index, valid_index) in enumerate(cv.split(X)):\n",
    "        X_train, X_val = X.iloc[train_index], X.iloc[valid_index]\n",
    "        y_train, y_val = y.iloc[train_index], y.iloc[valid_index]\n",
    "\n",
    "        model = lgb.LGBMClassifier(**params)\n",
    "        model.fit(X_train, y_train, eval_set=[(X_val, y_val)], eval_metric='auc')\n",
    "\n",
    "        y_pred_val = model.predict_proba(X_val)[:, 1]\n",
    "        score = roc_auc_score(y_val, y_pred_val)\n",
    "        scores.append(score)\n",
    "\n",
    "    return sum(scores) / len(scores)  # Returns the average AUC"
   ]
  },
  {
   "cell_type": "code",
   "execution_count": 8,
   "id": "930e9bd8",
   "metadata": {
    "execution": {
     "iopub.execute_input": "2025-03-25T13:59:35.268533Z",
     "iopub.status.busy": "2025-03-25T13:59:35.268141Z",
     "iopub.status.idle": "2025-03-25T14:00:53.252749Z",
     "shell.execute_reply": "2025-03-25T14:00:53.251538Z"
    },
    "papermill": {
     "duration": 77.994147,
     "end_time": "2025-03-25T14:00:53.254567",
     "exception": false,
     "start_time": "2025-03-25T13:59:35.260420",
     "status": "completed"
    },
    "tags": []
   },
   "outputs": [
    {
     "name": "stderr",
     "output_type": "stream",
     "text": [
      "[I 2025-03-25 13:59:35,272] A new study created in memory with name: no-name-776629b5-a884-4392-841c-b4e23ce3824e\n",
      "[I 2025-03-25 13:59:35,897] Trial 0 finished with value: 0.8963740917914496 and parameters: {'learning_rate': 0.02528586526010927, 'num_leaves': 26, 'max_depth': 8, 'feature_fraction': 0.8886925276463131, 'bagging_fraction': 0.5201720199015416, 'bagging_freq': 4, 'lambda_l1': 0.09051848644096856, 'lambda_l2': 0.03270232641476192, 'min_child_samples': 11, 'min_data_in_leaf': 57, 'min_sum_hessian_in_leaf': 0.035970529177705, 'min_gain_to_split': 0.4080265529596786, 'drop_rate': 0.04413365691167033, 'max_bin': 162}. Best is trial 0 with value: 0.8963740917914496.\n",
      "[I 2025-03-25 13:59:36,558] Trial 1 finished with value: 0.8969945302419845 and parameters: {'learning_rate': 0.01756294211614657, 'num_leaves': 35, 'max_depth': 7, 'feature_fraction': 0.7555527588051434, 'bagging_fraction': 0.6057000750663992, 'bagging_freq': 3, 'lambda_l1': 0.053381127447270235, 'lambda_l2': 0.02180027795352027, 'min_child_samples': 25, 'min_data_in_leaf': 37, 'min_sum_hessian_in_leaf': 0.09710034693110277, 'min_gain_to_split': 0.8704716416579613, 'drop_rate': 0.1320561825054446, 'max_bin': 242}. Best is trial 1 with value: 0.8969945302419845.\n",
      "[I 2025-03-25 13:59:37,533] Trial 2 finished with value: 0.8942658956289463 and parameters: {'learning_rate': 0.034817575005001614, 'num_leaves': 27, 'max_depth': 7, 'feature_fraction': 0.8215103054955146, 'bagging_fraction': 0.8834470377463328, 'bagging_freq': 3, 'lambda_l1': 0.11304323882822545, 'lambda_l2': 0.11365792541106756, 'min_child_samples': 16, 'min_data_in_leaf': 28, 'min_sum_hessian_in_leaf': 0.015784942820062167, 'min_gain_to_split': 0.13773275058762413, 'drop_rate': 0.02663027282258903, 'max_bin': 495}. Best is trial 1 with value: 0.8969945302419845.\n",
      "[I 2025-03-25 13:59:38,139] Trial 3 finished with value: 0.8960004960563156 and parameters: {'learning_rate': 0.04052340805824187, 'num_leaves': 42, 'max_depth': 5, 'feature_fraction': 0.6419979935131515, 'bagging_fraction': 0.8636398209871721, 'bagging_freq': 5, 'lambda_l1': 0.04203690557641162, 'lambda_l2': 0.09429713797792338, 'min_child_samples': 25, 'min_data_in_leaf': 45, 'min_sum_hessian_in_leaf': 0.0872608564977574, 'min_gain_to_split': 0.7961723905971718, 'drop_rate': 0.14592578321279234, 'max_bin': 244}. Best is trial 1 with value: 0.8969945302419845.\n",
      "[I 2025-03-25 13:59:38,771] Trial 4 finished with value: 0.8969145395311233 and parameters: {'learning_rate': 0.036965308731896414, 'num_leaves': 36, 'max_depth': 7, 'feature_fraction': 0.545682811180265, 'bagging_fraction': 0.67461004737268, 'bagging_freq': 1, 'lambda_l1': 0.18544290506333327, 'lambda_l2': 0.05578880455120546, 'min_child_samples': 13, 'min_data_in_leaf': 29, 'min_sum_hessian_in_leaf': 0.054225823327034045, 'min_gain_to_split': 0.9996150881366421, 'drop_rate': 0.10260229478923687, 'max_bin': 155}. Best is trial 1 with value: 0.8969945302419845.\n",
      "[I 2025-03-25 13:59:39,456] Trial 5 finished with value: 0.894486976338233 and parameters: {'learning_rate': 0.04320558192218509, 'num_leaves': 43, 'max_depth': 8, 'feature_fraction': 0.7984888014835378, 'bagging_fraction': 0.8359208630981083, 'bagging_freq': 1, 'lambda_l1': 0.06718098096189423, 'lambda_l2': 0.15671243707878493, 'min_child_samples': 19, 'min_data_in_leaf': 60, 'min_sum_hessian_in_leaf': 0.09799171860238984, 'min_gain_to_split': 0.3415931355671671, 'drop_rate': 0.12687871305795512, 'max_bin': 135}. Best is trial 1 with value: 0.8969945302419845.\n",
      "[I 2025-03-25 13:59:39,969] Trial 6 finished with value: 0.8972505344717885 and parameters: {'learning_rate': 0.02164394624765296, 'num_leaves': 31, 'max_depth': 6, 'feature_fraction': 0.5207980186189278, 'bagging_fraction': 0.5007087947475171, 'bagging_freq': 2, 'lambda_l1': 0.020276958192986264, 'lambda_l2': 0.017434686086992595, 'min_child_samples': 11, 'min_data_in_leaf': 59, 'min_sum_hessian_in_leaf': 0.031795824396676386, 'min_gain_to_split': 0.40864235758061596, 'drop_rate': 0.07211472829130604, 'max_bin': 166}. Best is trial 6 with value: 0.8972505344717885.\n",
      "[I 2025-03-25 13:59:40,689] Trial 7 finished with value: 0.893851868829169 and parameters: {'learning_rate': 0.02113182390559295, 'num_leaves': 42, 'max_depth': 7, 'feature_fraction': 0.7794426738895861, 'bagging_fraction': 0.5212559290421366, 'bagging_freq': 1, 'lambda_l1': 0.12356970020284129, 'lambda_l2': 0.024813231774879825, 'min_child_samples': 20, 'min_data_in_leaf': 24, 'min_sum_hessian_in_leaf': 0.004475710280239218, 'min_gain_to_split': 0.9484132398491, 'drop_rate': 0.003860453414924181, 'max_bin': 342}. Best is trial 6 with value: 0.8972505344717885.\n",
      "[I 2025-03-25 13:59:41,402] Trial 8 finished with value: 0.8958611714646215 and parameters: {'learning_rate': 0.01123353353432716, 'num_leaves': 30, 'max_depth': 5, 'feature_fraction': 0.6318189944998363, 'bagging_fraction': 0.8747927207863191, 'bagging_freq': 5, 'lambda_l1': 0.1211603435707908, 'lambda_l2': 0.19332252434832, 'min_child_samples': 11, 'min_data_in_leaf': 40, 'min_sum_hessian_in_leaf': 0.09327917670341167, 'min_gain_to_split': 0.07210062110311666, 'drop_rate': 0.18552792018589045, 'max_bin': 445}. Best is trial 6 with value: 0.8972505344717885.\n",
      "[I 2025-03-25 13:59:42,285] Trial 9 finished with value: 0.8944185541724122 and parameters: {'learning_rate': 0.013690200919974825, 'num_leaves': 38, 'max_depth': 6, 'feature_fraction': 0.5814659299064643, 'bagging_fraction': 0.8402017154055356, 'bagging_freq': 3, 'lambda_l1': 0.1964785726667622, 'lambda_l2': 0.15736233587758855, 'min_child_samples': 27, 'min_data_in_leaf': 24, 'min_sum_hessian_in_leaf': 0.008837623610335271, 'min_gain_to_split': 0.07867854693757592, 'drop_rate': 0.030660594067240244, 'max_bin': 229}. Best is trial 6 with value: 0.8972505344717885.\n",
      "[I 2025-03-25 13:59:43,090] Trial 10 finished with value: 0.8981385377292008 and parameters: {'learning_rate': 0.03007593058396094, 'num_leaves': 49, 'max_depth': 10, 'feature_fraction': 0.5126688186246224, 'bagging_fraction': 0.7414929131850584, 'bagging_freq': 2, 'lambda_l1': 0.020486439590439054, 'lambda_l2': 0.07320128975142037, 'min_child_samples': 15, 'min_data_in_leaf': 50, 'min_sum_hessian_in_leaf': 0.054353502232294605, 'min_gain_to_split': 0.5941712956482035, 'drop_rate': 0.06170892416093532, 'max_bin': 351}. Best is trial 10 with value: 0.8981385377292008.\n",
      "[I 2025-03-25 13:59:43,868] Trial 11 finished with value: 0.8964225411156892 and parameters: {'learning_rate': 0.029972382981426036, 'num_leaves': 48, 'max_depth': 10, 'feature_fraction': 0.5155213808336273, 'bagging_fraction': 0.7628837679230369, 'bagging_freq': 2, 'lambda_l1': 0.012181479927221073, 'lambda_l2': 0.07257113799698141, 'min_child_samples': 15, 'min_data_in_leaf': 51, 'min_sum_hessian_in_leaf': 0.055990262603802445, 'min_gain_to_split': 0.6314014463232723, 'drop_rate': 0.07154575104201334, 'max_bin': 365}. Best is trial 10 with value: 0.8981385377292008.\n",
      "[I 2025-03-25 13:59:44,568] Trial 12 finished with value: 0.895372207199084 and parameters: {'learning_rate': 0.006769216839373423, 'num_leaves': 22, 'max_depth': 10, 'feature_fraction': 0.5061274669136008, 'bagging_fraction': 0.7247252579679544, 'bagging_freq': 2, 'lambda_l1': 0.01070423535516947, 'lambda_l2': 0.0605877006310179, 'min_child_samples': 16, 'min_data_in_leaf': 52, 'min_sum_hessian_in_leaf': 0.03829971659898691, 'min_gain_to_split': 0.6242591421055713, 'drop_rate': 0.07308776379422399, 'max_bin': 406}. Best is trial 10 with value: 0.8981385377292008.\n",
      "[I 2025-03-25 13:59:45,324] Trial 13 finished with value: 0.8979254842357115 and parameters: {'learning_rate': 0.028233644386706114, 'num_leaves': 50, 'max_depth': 9, 'feature_fraction': 0.5977700971973366, 'bagging_fraction': 0.6406161861218501, 'bagging_freq': 2, 'lambda_l1': 0.04099975304880742, 'lambda_l2': 0.10472781749951299, 'min_child_samples': 13, 'min_data_in_leaf': 49, 'min_sum_hessian_in_leaf': 0.07152337453838857, 'min_gain_to_split': 0.2849302368026142, 'drop_rate': 0.07120340951054732, 'max_bin': 292}. Best is trial 10 with value: 0.8981385377292008.\n",
      "[I 2025-03-25 13:59:46,090] Trial 14 finished with value: 0.8982831333221913 and parameters: {'learning_rate': 0.03033540309105782, 'num_leaves': 50, 'max_depth': 9, 'feature_fraction': 0.6185832329283484, 'bagging_fraction': 0.6297163010855877, 'bagging_freq': 2, 'lambda_l1': 0.06588126125240121, 'lambda_l2': 0.11050990670378054, 'min_child_samples': 18, 'min_data_in_leaf': 47, 'min_sum_hessian_in_leaf': 0.07092953560162901, 'min_gain_to_split': 0.2544907666785809, 'drop_rate': 0.0968406197239231, 'max_bin': 295}. Best is trial 14 with value: 0.8982831333221913.\n",
      "[I 2025-03-25 13:59:46,904] Trial 15 finished with value: 0.8977783490387233 and parameters: {'learning_rate': 0.04799326408425704, 'num_leaves': 46, 'max_depth': 9, 'feature_fraction': 0.6955523518092069, 'bagging_fraction': 0.7749511939024702, 'bagging_freq': 4, 'lambda_l1': 0.06893720591676462, 'lambda_l2': 0.11483124540102004, 'min_child_samples': 23, 'min_data_in_leaf': 44, 'min_sum_hessian_in_leaf': 0.07203904582379475, 'min_gain_to_split': 0.6445598470638445, 'drop_rate': 0.10876836925647049, 'max_bin': 287}. Best is trial 14 with value: 0.8982831333221913.\n",
      "[I 2025-03-25 13:59:47,745] Trial 16 finished with value: 0.8981504186373124 and parameters: {'learning_rate': 0.03097856033345456, 'num_leaves': 46, 'max_depth': 9, 'feature_fraction': 0.6883486021435353, 'bagging_fraction': 0.5883418070891345, 'bagging_freq': 2, 'lambda_l1': 0.1497276636555547, 'lambda_l2': 0.13701840263797774, 'min_child_samples': 18, 'min_data_in_leaf': 36, 'min_sum_hessian_in_leaf': 0.0717566515573586, 'min_gain_to_split': 0.22925071403681763, 'drop_rate': 0.16477215480993462, 'max_bin': 383}. Best is trial 14 with value: 0.8982831333221913.\n",
      "[I 2025-03-25 13:59:48,565] Trial 17 finished with value: 0.8989522763191674 and parameters: {'learning_rate': 0.036532215492306966, 'num_leaves': 46, 'max_depth': 9, 'feature_fraction': 0.6985816088433882, 'bagging_fraction': 0.579695165551977, 'bagging_freq': 4, 'lambda_l1': 0.1551632046764766, 'lambda_l2': 0.13831552965559474, 'min_child_samples': 30, 'min_data_in_leaf': 37, 'min_sum_hessian_in_leaf': 0.07396802262682639, 'min_gain_to_split': 0.21110484717733688, 'drop_rate': 0.19534566102120274, 'max_bin': 413}. Best is trial 17 with value: 0.8989522763191674.\n",
      "[I 2025-03-25 13:59:49,447] Trial 18 finished with value: 0.8960824938084972 and parameters: {'learning_rate': 0.04848604814568437, 'num_leaves': 39, 'max_depth': 9, 'feature_fraction': 0.7443603764696783, 'bagging_fraction': 0.5781247354546972, 'bagging_freq': 4, 'lambda_l1': 0.16014351783326103, 'lambda_l2': 0.13884732969350536, 'min_child_samples': 30, 'min_data_in_leaf': 33, 'min_sum_hessian_in_leaf': 0.08440639287060847, 'min_gain_to_split': 0.21242516953655693, 'drop_rate': 0.18760638958966058, 'max_bin': 438}. Best is trial 17 with value: 0.8989522763191674.\n",
      "[I 2025-03-25 13:59:50,297] Trial 19 finished with value: 0.8984636292233983 and parameters: {'learning_rate': 0.0375203134260085, 'num_leaves': 45, 'max_depth': 8, 'feature_fraction': 0.654608072355532, 'bagging_fraction': 0.6711090857440845, 'bagging_freq': 4, 'lambda_l1': 0.09037864884741728, 'lambda_l2': 0.1982615724157733, 'min_child_samples': 22, 'min_data_in_leaf': 43, 'min_sum_hessian_in_leaf': 0.06523479705011179, 'min_gain_to_split': 0.01103059202755513, 'drop_rate': 0.15912052456962017, 'max_bin': 495}. Best is trial 17 with value: 0.8989522763191674.\n",
      "[I 2025-03-25 13:59:51,151] Trial 20 finished with value: 0.8977484019149005 and parameters: {'learning_rate': 0.0424639567080624, 'num_leaves': 45, 'max_depth': 8, 'feature_fraction': 0.6682959343060226, 'bagging_fraction': 0.6811668493428392, 'bagging_freq': 4, 'lambda_l1': 0.144229182121521, 'lambda_l2': 0.19337202614776916, 'min_child_samples': 30, 'min_data_in_leaf': 41, 'min_sum_hessian_in_leaf': 0.06184650727041434, 'min_gain_to_split': 0.006284323294692501, 'drop_rate': 0.16463802640731312, 'max_bin': 507}. Best is trial 17 with value: 0.8989522763191674.\n",
      "[I 2025-03-25 13:59:51,970] Trial 21 finished with value: 0.8980965431193143 and parameters: {'learning_rate': 0.03515754374285911, 'num_leaves': 50, 'max_depth': 9, 'feature_fraction': 0.7185788424989114, 'bagging_fraction': 0.6347354796856847, 'bagging_freq': 3, 'lambda_l1': 0.08882902924108446, 'lambda_l2': 0.17040169794518678, 'min_child_samples': 21, 'min_data_in_leaf': 46, 'min_sum_hessian_in_leaf': 0.08001283167250056, 'min_gain_to_split': 0.17453366827080521, 'drop_rate': 0.1651887517719085, 'max_bin': 465}. Best is trial 17 with value: 0.8989522763191674.\n",
      "[I 2025-03-25 13:59:52,744] Trial 22 finished with value: 0.8973412662746272 and parameters: {'learning_rate': 0.03998895976040753, 'num_leaves': 40, 'max_depth': 8, 'feature_fraction': 0.6143082800964483, 'bagging_fraction': 0.5568878703576123, 'bagging_freq': 5, 'lambda_l1': 0.08609490736303202, 'lambda_l2': 0.12909945519742885, 'min_child_samples': 22, 'min_data_in_leaf': 41, 'min_sum_hessian_in_leaf': 0.0650211247521702, 'min_gain_to_split': 0.010610900250390234, 'drop_rate': 0.19964593896393565, 'max_bin': 410}. Best is trial 17 with value: 0.8989522763191674.\n",
      "[I 2025-03-25 13:59:53,608] Trial 23 finished with value: 0.8971524631214166 and parameters: {'learning_rate': 0.03638292334574331, 'num_leaves': 45, 'max_depth': 9, 'feature_fraction': 0.5655295561903863, 'bagging_fraction': 0.6376897013616831, 'bagging_freq': 4, 'lambda_l1': 0.09904542304297703, 'lambda_l2': 0.17522918436544205, 'min_child_samples': 27, 'min_data_in_leaf': 36, 'min_sum_hessian_in_leaf': 0.04274225243163349, 'min_gain_to_split': 0.3095907846642649, 'drop_rate': 0.1462395688815646, 'max_bin': 308}. Best is trial 17 with value: 0.8989522763191674.\n",
      "[I 2025-03-25 13:59:54,575] Trial 24 finished with value: 0.8987772025659687 and parameters: {'learning_rate': 0.03274034115170664, 'num_leaves': 47, 'max_depth': 8, 'feature_fraction': 0.6623545150237655, 'bagging_fraction': 0.702663698851497, 'bagging_freq': 3, 'lambda_l1': 0.07271322075514637, 'lambda_l2': 0.15245534062462449, 'min_child_samples': 24, 'min_data_in_leaf': 32, 'min_sum_hessian_in_leaf': 0.08044677691832136, 'min_gain_to_split': 0.12106777067667401, 'drop_rate': 0.1194756882861262, 'max_bin': 474}. Best is trial 17 with value: 0.8989522763191674.\n",
      "[I 2025-03-25 13:59:55,697] Trial 25 finished with value: 0.8976779282819068 and parameters: {'learning_rate': 0.04462712132190842, 'num_leaves': 47, 'max_depth': 8, 'feature_fraction': 0.6571792814821361, 'bagging_fraction': 0.712504039841262, 'bagging_freq': 3, 'lambda_l1': 0.13161909819208256, 'lambda_l2': 0.17259298647059634, 'min_child_samples': 24, 'min_data_in_leaf': 32, 'min_sum_hessian_in_leaf': 0.08056151780622803, 'min_gain_to_split': 0.11534805268571012, 'drop_rate': 0.17771183382304392, 'max_bin': 475}. Best is trial 17 with value: 0.8989522763191674.\n",
      "[I 2025-03-25 13:59:57,294] Trial 26 finished with value: 0.8975825748257311 and parameters: {'learning_rate': 0.025241503832721324, 'num_leaves': 43, 'max_depth': 8, 'feature_fraction': 0.722652901304341, 'bagging_fraction': 0.7955332723209814, 'bagging_freq': 4, 'lambda_l1': 0.10511509943048986, 'lambda_l2': 0.15431576957298937, 'min_child_samples': 28, 'min_data_in_leaf': 20, 'min_sum_hessian_in_leaf': 0.0460116093291148, 'min_gain_to_split': 0.46308872865691586, 'drop_rate': 0.12382077701400629, 'max_bin': 436}. Best is trial 17 with value: 0.8989522763191674.\n",
      "[I 2025-03-25 13:59:58,111] Trial 27 finished with value: 0.8975641468012023 and parameters: {'learning_rate': 0.034224785565124274, 'num_leaves': 35, 'max_depth': 6, 'feature_fraction': 0.6778269590633345, 'bagging_fraction': 0.6691951544292499, 'bagging_freq': 5, 'lambda_l1': 0.17324996455432548, 'lambda_l2': 0.18784612667106595, 'min_child_samples': 28, 'min_data_in_leaf': 34, 'min_sum_hessian_in_leaf': 0.06347650133834148, 'min_gain_to_split': 0.001978648352258139, 'drop_rate': 0.15032829305451365, 'max_bin': 474}. Best is trial 17 with value: 0.8989522763191674.\n",
      "[I 2025-03-25 13:59:59,070] Trial 28 finished with value: 0.8980723979027824 and parameters: {'learning_rate': 0.040517541049314126, 'num_leaves': 44, 'max_depth': 10, 'feature_fraction': 0.7159715629075726, 'bagging_fraction': 0.6984380109113797, 'bagging_freq': 3, 'lambda_l1': 0.08020707556146672, 'lambda_l2': 0.14463812660780717, 'min_child_samples': 25, 'min_data_in_leaf': 38, 'min_sum_hessian_in_leaf': 0.08808291305238403, 'min_gain_to_split': 0.16069033242707506, 'drop_rate': 0.19882989421658903, 'max_bin': 413}. Best is trial 17 with value: 0.8989522763191674.\n",
      "[I 2025-03-25 13:59:59,945] Trial 29 finished with value: 0.8959584714805893 and parameters: {'learning_rate': 0.02527902496946284, 'num_leaves': 41, 'max_depth': 8, 'feature_fraction': 0.8602413681077332, 'bagging_fraction': 0.5646805849778677, 'bagging_freq': 4, 'lambda_l1': 0.13672263610255692, 'lambda_l2': 0.12858675857322524, 'min_child_samples': 22, 'min_data_in_leaf': 30, 'min_sum_hessian_in_leaf': 0.028210027201137806, 'min_gain_to_split': 0.35291869516145824, 'drop_rate': 0.17327931023847182, 'max_bin': 511}. Best is trial 17 with value: 0.8989522763191674.\n",
      "[I 2025-03-25 14:00:00,704] Trial 30 finished with value: 0.8984385449895923 and parameters: {'learning_rate': 0.04575834019663056, 'num_leaves': 20, 'max_depth': 8, 'feature_fraction': 0.6534169170349425, 'bagging_fraction': 0.5475334875937721, 'bagging_freq': 4, 'lambda_l1': 0.10067491283860372, 'lambda_l2': 0.18004051684713282, 'min_child_samples': 26, 'min_data_in_leaf': 42, 'min_sum_hessian_in_leaf': 0.07454053990071054, 'min_gain_to_split': 0.5335827706927602, 'drop_rate': 0.11376673568896957, 'max_bin': 456}. Best is trial 17 with value: 0.8989522763191674.\n",
      "[I 2025-03-25 14:00:01,417] Trial 31 finished with value: 0.898560799086139 and parameters: {'learning_rate': 0.03816642983400377, 'num_leaves': 21, 'max_depth': 8, 'feature_fraction': 0.6520527092854032, 'bagging_fraction': 0.5353953815893175, 'bagging_freq': 4, 'lambda_l1': 0.10106216394866824, 'lambda_l2': 0.17798855647068787, 'min_child_samples': 26, 'min_data_in_leaf': 44, 'min_sum_hessian_in_leaf': 0.07643914817165938, 'min_gain_to_split': 0.5459185227132992, 'drop_rate': 0.08888962368878646, 'max_bin': 458}. Best is trial 17 with value: 0.8989522763191674.\n",
      "[I 2025-03-25 14:00:02,111] Trial 32 finished with value: 0.897512731354046 and parameters: {'learning_rate': 0.038571673549184546, 'num_leaves': 24, 'max_depth': 7, 'feature_fraction': 0.7524376675823465, 'bagging_fraction': 0.6043373300889276, 'bagging_freq': 3, 'lambda_l1': 0.07828788075094181, 'lambda_l2': 0.16104825880326515, 'min_child_samples': 29, 'min_data_in_leaf': 54, 'min_sum_hessian_in_leaf': 0.07853505455074798, 'min_gain_to_split': 0.7911390858684195, 'drop_rate': 0.09153218648441777, 'max_bin': 476}. Best is trial 17 with value: 0.8989522763191674.\n",
      "[I 2025-03-25 14:00:02,908] Trial 33 finished with value: 0.8979620654984878 and parameters: {'learning_rate': 0.03151141016691903, 'num_leaves': 33, 'max_depth': 8, 'feature_fraction': 0.6756777952530558, 'bagging_fraction': 0.5348208804865247, 'bagging_freq': 3, 'lambda_l1': 0.0512075612679254, 'lambda_l2': 0.19938660548026704, 'min_child_samples': 24, 'min_data_in_leaf': 43, 'min_sum_hessian_in_leaf': 0.06490230786109655, 'min_gain_to_split': 0.08156910250351568, 'drop_rate': 0.13438920927862416, 'max_bin': 487}. Best is trial 17 with value: 0.8989522763191674.\n",
      "[I 2025-03-25 14:00:03,662] Trial 34 finished with value: 0.8975708551884708 and parameters: {'learning_rate': 0.032931964272223876, 'num_leaves': 28, 'max_depth': 7, 'feature_fraction': 0.6441405102504614, 'bagging_fraction': 0.5949940590455768, 'bagging_freq': 4, 'lambda_l1': 0.11336303312232303, 'lambda_l2': 0.18043196212357215, 'min_child_samples': 26, 'min_data_in_leaf': 37, 'min_sum_hessian_in_leaf': 0.09392066664163631, 'min_gain_to_split': 0.7104903573142722, 'drop_rate': 0.08450640898000068, 'max_bin': 426}. Best is trial 17 with value: 0.8989522763191674.\n",
      "[I 2025-03-25 14:00:04,470] Trial 35 finished with value: 0.897292731338689 and parameters: {'learning_rate': 0.037348993989826544, 'num_leaves': 25, 'max_depth': 9, 'feature_fraction': 0.600049550937304, 'bagging_fraction': 0.652843030601644, 'bagging_freq': 5, 'lambda_l1': 0.09627202219869112, 'lambda_l2': 0.16598261287834745, 'min_child_samples': 23, 'min_data_in_leaf': 39, 'min_sum_hessian_in_leaf': 0.05843782797471391, 'min_gain_to_split': 0.4768032793930722, 'drop_rate': 0.13827487192104645, 'max_bin': 389}. Best is trial 17 with value: 0.8989522763191674.\n",
      "[I 2025-03-25 14:00:05,402] Trial 36 finished with value: 0.8966446252629539 and parameters: {'learning_rate': 0.03356434096698931, 'num_leaves': 37, 'max_depth': 8, 'feature_fraction': 0.708763326676534, 'bagging_fraction': 0.6111297590848379, 'bagging_freq': 4, 'lambda_l1': 0.11130992657997046, 'lambda_l2': 0.146226597184474, 'min_child_samples': 26, 'min_data_in_leaf': 27, 'min_sum_hessian_in_leaf': 0.08709660068943037, 'min_gain_to_split': 0.4151815561037977, 'drop_rate': 0.048038613301337615, 'max_bin': 494}. Best is trial 17 with value: 0.8989522763191674.\n",
      "[I 2025-03-25 14:00:06,175] Trial 37 finished with value: 0.8976682305257032 and parameters: {'learning_rate': 0.027571890369881752, 'num_leaves': 48, 'max_depth': 7, 'feature_fraction': 0.6379538917125541, 'bagging_fraction': 0.5076889001957223, 'bagging_freq': 4, 'lambda_l1': 0.052431184206323714, 'lambda_l2': 0.1858179684247066, 'min_child_samples': 28, 'min_data_in_leaf': 31, 'min_sum_hessian_in_leaf': 0.04819582946029907, 'min_gain_to_split': 0.524298501115971, 'drop_rate': 0.12107674151014035, 'max_bin': 455}. Best is trial 17 with value: 0.8989522763191674.\n",
      "[I 2025-03-25 14:00:06,916] Trial 38 finished with value: 0.8994762946794934 and parameters: {'learning_rate': 0.042294931276354655, 'num_leaves': 42, 'max_depth': 8, 'feature_fraction': 0.7401037818287914, 'bagging_fraction': 0.5365547609892364, 'bagging_freq': 3, 'lambda_l1': 0.16687206027439352, 'lambda_l2': 0.124311011981686, 'min_child_samples': 20, 'min_data_in_leaf': 47, 'min_sum_hessian_in_leaf': 0.06777699700688969, 'min_gain_to_split': 0.14923382983369482, 'drop_rate': 0.14880956251926145, 'max_bin': 387}. Best is trial 38 with value: 0.8994762946794934.\n",
      "[I 2025-03-25 14:00:07,615] Trial 39 finished with value: 0.8982882017253735 and parameters: {'learning_rate': 0.04281279399608593, 'num_leaves': 41, 'max_depth': 7, 'feature_fraction': 0.7852774189306493, 'bagging_fraction': 0.5291939634302942, 'bagging_freq': 3, 'lambda_l1': 0.16952707822418417, 'lambda_l2': 0.1215751643814771, 'min_child_samples': 20, 'min_data_in_leaf': 54, 'min_sum_hessian_in_leaf': 0.07786298232734157, 'min_gain_to_split': 0.1921968144922448, 'drop_rate': 0.11439742410962023, 'max_bin': 376}. Best is trial 38 with value: 0.8994762946794934.\n",
      "[I 2025-03-25 14:00:08,398] Trial 40 finished with value: 0.8997177221201517 and parameters: {'learning_rate': 0.04615755917136073, 'num_leaves': 34, 'max_depth': 9, 'feature_fraction': 0.8318331662971309, 'bagging_fraction': 0.5702537982331766, 'bagging_freq': 3, 'lambda_l1': 0.1600048841663133, 'lambda_l2': 0.09395875885977173, 'min_child_samples': 24, 'min_data_in_leaf': 48, 'min_sum_hessian_in_leaf': 0.09218973804906554, 'min_gain_to_split': 0.36507202039193487, 'drop_rate': 0.08772433397069922, 'max_bin': 397}. Best is trial 40 with value: 0.8997177221201517.\n",
      "[I 2025-03-25 14:00:09,185] Trial 41 finished with value: 0.8960680790623625 and parameters: {'learning_rate': 0.049857384586163164, 'num_leaves': 29, 'max_depth': 9, 'feature_fraction': 0.8890553613473061, 'bagging_fraction': 0.5718670662983587, 'bagging_freq': 3, 'lambda_l1': 0.18339230521146316, 'lambda_l2': 0.08786933174119302, 'min_child_samples': 24, 'min_data_in_leaf': 47, 'min_sum_hessian_in_leaf': 0.09134201958098258, 'min_gain_to_split': 0.3498520137836776, 'drop_rate': 0.10171711975838449, 'max_bin': 333}. Best is trial 40 with value: 0.8997177221201517.\n",
      "[I 2025-03-25 14:00:09,974] Trial 42 finished with value: 0.8995393346724588 and parameters: {'learning_rate': 0.04579525100842278, 'num_leaves': 33, 'max_depth': 9, 'feature_fraction': 0.8126267143086199, 'bagging_fraction': 0.5373814984500871, 'bagging_freq': 3, 'lambda_l1': 0.15731251590958684, 'lambda_l2': 0.09059207595538883, 'min_child_samples': 20, 'min_data_in_leaf': 48, 'min_sum_hessian_in_leaf': 0.09643988500547362, 'min_gain_to_split': 0.12482358976447111, 'drop_rate': 0.088270829234456, 'max_bin': 400}. Best is trial 40 with value: 0.8997177221201517.\n",
      "[I 2025-03-25 14:00:10,674] Trial 43 finished with value: 0.8974610141953219 and parameters: {'learning_rate': 0.04453394541095533, 'num_leaves': 32, 'max_depth': 10, 'feature_fraction': 0.83044081227274, 'bagging_fraction': 0.5014259963972535, 'bagging_freq': 3, 'lambda_l1': 0.15429669488803352, 'lambda_l2': 0.09283424353872426, 'min_child_samples': 19, 'min_data_in_leaf': 57, 'min_sum_hessian_in_leaf': 0.09680551347103403, 'min_gain_to_split': 0.12823069264533843, 'drop_rate': 0.05787353281270534, 'max_bin': 395}. Best is trial 40 with value: 0.8997177221201517.\n",
      "[I 2025-03-25 14:00:11,462] Trial 44 finished with value: 0.8993584130875456 and parameters: {'learning_rate': 0.04685015208685884, 'num_leaves': 34, 'max_depth': 9, 'feature_fraction': 0.8348863333662659, 'bagging_fraction': 0.6154276743098791, 'bagging_freq': 3, 'lambda_l1': 0.1648667320835846, 'lambda_l2': 0.10224889052143626, 'min_child_samples': 20, 'min_data_in_leaf': 48, 'min_sum_hessian_in_leaf': 0.0985603632675459, 'min_gain_to_split': 0.2550170817834556, 'drop_rate': 0.08145276210993717, 'max_bin': 359}. Best is trial 40 with value: 0.8997177221201517.\n",
      "[I 2025-03-25 14:00:12,209] Trial 45 finished with value: 0.8980064230191962 and parameters: {'learning_rate': 0.04676556216933006, 'num_leaves': 34, 'max_depth': 10, 'feature_fraction': 0.8161892363514174, 'bagging_fraction': 0.549548745020111, 'bagging_freq': 3, 'lambda_l1': 0.1653201211535024, 'lambda_l2': 0.08150268065213913, 'min_child_samples': 17, 'min_data_in_leaf': 49, 'min_sum_hessian_in_leaf': 0.09608050489218216, 'min_gain_to_split': 0.27893921285692047, 'drop_rate': 0.08031120049131947, 'max_bin': 363}. Best is trial 40 with value: 0.8997177221201517.\n",
      "[I 2025-03-25 14:00:12,997] Trial 46 finished with value: 0.8978706831076915 and parameters: {'learning_rate': 0.042501348185381316, 'num_leaves': 36, 'max_depth': 9, 'feature_fraction': 0.8605724868303655, 'bagging_fraction': 0.6164424375202829, 'bagging_freq': 2, 'lambda_l1': 0.18119797409956084, 'lambda_l2': 0.10532512113713655, 'min_child_samples': 20, 'min_data_in_leaf': 53, 'min_sum_hessian_in_leaf': 0.09011862861770442, 'min_gain_to_split': 0.37982490865914614, 'drop_rate': 0.03600955181499066, 'max_bin': 325}. Best is trial 40 with value: 0.8997177221201517.\n",
      "[I 2025-03-25 14:00:13,721] Trial 47 finished with value: 0.9006157512455465 and parameters: {'learning_rate': 0.04971005523030016, 'num_leaves': 31, 'max_depth': 9, 'feature_fraction': 0.8588483820962165, 'bagging_fraction': 0.5798909289355062, 'bagging_freq': 3, 'lambda_l1': 0.19701694322860563, 'lambda_l2': 0.09914847147353577, 'min_child_samples': 19, 'min_data_in_leaf': 56, 'min_sum_hessian_in_leaf': 0.09998238311269378, 'min_gain_to_split': 0.24220712479288684, 'drop_rate': 0.010906450286022412, 'max_bin': 351}. Best is trial 47 with value: 0.9006157512455465.\n",
      "[I 2025-03-25 14:00:14,398] Trial 48 finished with value: 0.8988818622677126 and parameters: {'learning_rate': 0.04996790872285703, 'num_leaves': 32, 'max_depth': 10, 'feature_fraction': 0.8537500533482953, 'bagging_fraction': 0.5193376544424476, 'bagging_freq': 3, 'lambda_l1': 0.1920760141639749, 'lambda_l2': 0.04085491240240747, 'min_child_samples': 19, 'min_data_in_leaf': 57, 'min_sum_hessian_in_leaf': 0.0998399887477613, 'min_gain_to_split': 0.30808396184674985, 'drop_rate': 0.014535196590892155, 'max_bin': 355}. Best is trial 47 with value: 0.9006157512455465.\n",
      "[I 2025-03-25 14:00:15,162] Trial 49 finished with value: 0.8994068744118013 and parameters: {'learning_rate': 0.04605209067127212, 'num_leaves': 30, 'max_depth': 9, 'feature_fraction': 0.83797551654746, 'bagging_fraction': 0.551969033283985, 'bagging_freq': 3, 'lambda_l1': 0.19949695721003402, 'lambda_l2': 0.09950923674353787, 'min_child_samples': 18, 'min_data_in_leaf': 48, 'min_sum_hessian_in_leaf': 0.08460481293918355, 'min_gain_to_split': 0.060610536896155226, 'drop_rate': 0.0016117705854553112, 'max_bin': 347}. Best is trial 47 with value: 0.9006157512455465.\n",
      "[I 2025-03-25 14:00:15,924] Trial 50 finished with value: 0.9006083967603316 and parameters: {'learning_rate': 0.04469690309616878, 'num_leaves': 30, 'max_depth': 10, 'feature_fraction': 0.8064407554480363, 'bagging_fraction': 0.5473976214208001, 'bagging_freq': 2, 'lambda_l1': 0.19956517646106608, 'lambda_l2': 0.06491978854821767, 'min_child_samples': 17, 'min_data_in_leaf': 51, 'min_sum_hessian_in_leaf': 0.08532292719800808, 'min_gain_to_split': 0.06019275042624765, 'drop_rate': 0.006967265527558458, 'max_bin': 341}. Best is trial 47 with value: 0.9006157512455465.\n",
      "[I 2025-03-25 14:00:16,651] Trial 51 finished with value: 0.8972432239101338 and parameters: {'learning_rate': 0.04445385610579915, 'num_leaves': 30, 'max_depth': 10, 'feature_fraction': 0.8023791611002159, 'bagging_fraction': 0.5476995108671708, 'bagging_freq': 1, 'lambda_l1': 0.1955892394375106, 'lambda_l2': 0.0663202561521434, 'min_child_samples': 17, 'min_data_in_leaf': 51, 'min_sum_hessian_in_leaf': 0.08502572608044057, 'min_gain_to_split': 0.07872753289235526, 'drop_rate': 0.0014414219067592979, 'max_bin': 262}. Best is trial 47 with value: 0.9006157512455465.\n",
      "[I 2025-03-25 14:00:17,372] Trial 52 finished with value: 0.8974515597782116 and parameters: {'learning_rate': 0.046085462639501855, 'num_leaves': 27, 'max_depth': 10, 'feature_fraction': 0.8762924648242981, 'bagging_fraction': 0.5194675453159285, 'bagging_freq': 2, 'lambda_l1': 0.17505648976865285, 'lambda_l2': 0.043335327778342654, 'min_child_samples': 15, 'min_data_in_leaf': 57, 'min_sum_hessian_in_leaf': 0.09305856092615584, 'min_gain_to_split': 0.0455860524918755, 'drop_rate': 0.01563278679208419, 'max_bin': 345}. Best is trial 47 with value: 0.9006157512455465.\n",
      "[I 2025-03-25 14:00:18,092] Trial 53 finished with value: 0.900734351780278 and parameters: {'learning_rate': 0.04793400264766567, 'num_leaves': 31, 'max_depth': 9, 'feature_fraction': 0.7678355373550181, 'bagging_fraction': 0.5661665865173873, 'bagging_freq': 2, 'lambda_l1': 0.19060195514934875, 'lambda_l2': 0.08227956160633311, 'min_child_samples': 18, 'min_data_in_leaf': 55, 'min_sum_hessian_in_leaf': 0.08452489578299163, 'min_gain_to_split': 0.1600044438289924, 'drop_rate': 0.011873717822896217, 'max_bin': 338}. Best is trial 53 with value: 0.900734351780278.\n",
      "[I 2025-03-25 14:00:18,794] Trial 54 finished with value: 0.8976924929045644 and parameters: {'learning_rate': 0.048239249591691576, 'num_leaves': 31, 'max_depth': 9, 'feature_fraction': 0.7800321152760255, 'bagging_fraction': 0.5910394702724964, 'bagging_freq': 1, 'lambda_l1': 0.18775858570763554, 'lambda_l2': 0.08285074458880867, 'min_child_samples': 17, 'min_data_in_leaf': 60, 'min_sum_hessian_in_leaf': 0.08931631030896876, 'min_gain_to_split': 0.15173011463306801, 'drop_rate': 0.01380591138061721, 'max_bin': 316}. Best is trial 53 with value: 0.900734351780278.\n",
      "[I 2025-03-25 14:00:19,522] Trial 55 finished with value: 0.8999370822575667 and parameters: {'learning_rate': 0.0413061951665933, 'num_leaves': 28, 'max_depth': 10, 'feature_fraction': 0.7633333229545772, 'bagging_fraction': 0.5657522394331737, 'bagging_freq': 2, 'lambda_l1': 0.17649140683820214, 'lambda_l2': 0.07816003631656293, 'min_child_samples': 21, 'min_data_in_leaf': 55, 'min_sum_hessian_in_leaf': 0.0936471625168621, 'min_gain_to_split': 0.23992546936929715, 'drop_rate': 0.024593855708873347, 'max_bin': 375}. Best is trial 53 with value: 0.900734351780278.\n",
      "[I 2025-03-25 14:00:20,275] Trial 56 finished with value: 0.9004642755307637 and parameters: {'learning_rate': 0.04829664158429265, 'num_leaves': 28, 'max_depth': 10, 'feature_fraction': 0.8055253658183664, 'bagging_fraction': 0.5721547928434869, 'bagging_freq': 2, 'lambda_l1': 0.17901794039382843, 'lambda_l2': 0.054827233134023545, 'min_child_samples': 21, 'min_data_in_leaf': 56, 'min_sum_hessian_in_leaf': 0.09438317732875229, 'min_gain_to_split': 0.24385461870816175, 'drop_rate': 0.0245367605138044, 'max_bin': 370}. Best is trial 53 with value: 0.900734351780278.\n",
      "[I 2025-03-25 14:00:21,006] Trial 57 finished with value: 0.8991994215050505 and parameters: {'learning_rate': 0.04823145971582629, 'num_leaves': 27, 'max_depth': 10, 'feature_fraction': 0.766992305473795, 'bagging_fraction': 0.5703104343348236, 'bagging_freq': 2, 'lambda_l1': 0.17884843374640136, 'lambda_l2': 0.05575989919195555, 'min_child_samples': 21, 'min_data_in_leaf': 55, 'min_sum_hessian_in_leaf': 0.08363578530909477, 'min_gain_to_split': 0.25068900779911796, 'drop_rate': 0.025667140464359126, 'max_bin': 275}. Best is trial 53 with value: 0.900734351780278.\n",
      "[I 2025-03-25 14:00:21,758] Trial 58 finished with value: 0.8982123295875997 and parameters: {'learning_rate': 0.04982491260468263, 'num_leaves': 25, 'max_depth': 10, 'feature_fraction': 0.7979044872044444, 'bagging_fraction': 0.5872910200377477, 'bagging_freq': 2, 'lambda_l1': 0.18879909946884157, 'lambda_l2': 0.010184394960454597, 'min_child_samples': 13, 'min_data_in_leaf': 56, 'min_sum_hessian_in_leaf': 0.09327853273481723, 'min_gain_to_split': 0.41660565824865103, 'drop_rate': 0.041226094276431244, 'max_bin': 373}. Best is trial 53 with value: 0.900734351780278.\n",
      "[I 2025-03-25 14:00:22,445] Trial 59 finished with value: 0.9000543533372418 and parameters: {'learning_rate': 0.039747964106768584, 'num_leaves': 28, 'max_depth': 10, 'feature_fraction': 0.7645659935520978, 'bagging_fraction': 0.5681048434445881, 'bagging_freq': 2, 'lambda_l1': 0.19282824475665788, 'lambda_l2': 0.07327218067458835, 'min_child_samples': 16, 'min_data_in_leaf': 59, 'min_sum_hessian_in_leaf': 0.09922047848342698, 'min_gain_to_split': 0.22588702953497175, 'drop_rate': 0.024176076467938595, 'max_bin': 228}. Best is trial 53 with value: 0.900734351780278.\n",
      "[I 2025-03-25 14:00:23,335] Trial 60 finished with value: 0.8964897538347938 and parameters: {'learning_rate': 0.04390051101448628, 'num_leaves': 28, 'max_depth': 10, 'feature_fraction': 0.7678116916081066, 'bagging_fraction': 0.8973264023456323, 'bagging_freq': 1, 'lambda_l1': 0.19997749896570594, 'lambda_l2': 0.07233797328886941, 'min_child_samples': 15, 'min_data_in_leaf': 59, 'min_sum_hessian_in_leaf': 0.09982000919175932, 'min_gain_to_split': 0.19805451110676836, 'drop_rate': 0.02387116330585475, 'max_bin': 226}. Best is trial 53 with value: 0.900734351780278.\n",
      "[I 2025-03-25 14:00:24,018] Trial 61 finished with value: 0.8994010714754287 and parameters: {'learning_rate': 0.03988787868831352, 'num_leaves': 29, 'max_depth': 10, 'feature_fraction': 0.7341725081587429, 'bagging_fraction': 0.5638259299676529, 'bagging_freq': 2, 'lambda_l1': 0.18858373678069312, 'lambda_l2': 0.05230389275522236, 'min_child_samples': 16, 'min_data_in_leaf': 59, 'min_sum_hessian_in_leaf': 0.09169148889247167, 'min_gain_to_split': 0.31534644713335874, 'drop_rate': 0.007466622187323368, 'max_bin': 306}. Best is trial 53 with value: 0.900734351780278.\n",
      "[I 2025-03-25 14:00:24,785] Trial 62 finished with value: 0.8985899133376846 and parameters: {'learning_rate': 0.04157469750365098, 'num_leaves': 31, 'max_depth': 10, 'feature_fraction': 0.7906732838530295, 'bagging_fraction': 0.6003777201265672, 'bagging_freq': 2, 'lambda_l1': 0.17759675928039315, 'lambda_l2': 0.06437688175403787, 'min_child_samples': 14, 'min_data_in_leaf': 52, 'min_sum_hessian_in_leaf': 0.09504925797799915, 'min_gain_to_split': 0.22444533138707792, 'drop_rate': 0.020827967766220198, 'max_bin': 338}. Best is trial 53 with value: 0.900734351780278.\n",
      "[I 2025-03-25 14:00:25,522] Trial 63 finished with value: 0.8990154854743991 and parameters: {'learning_rate': 0.04783954033288538, 'num_leaves': 23, 'max_depth': 10, 'feature_fraction': 0.8478955237372332, 'bagging_fraction': 0.580893507176964, 'bagging_freq': 2, 'lambda_l1': 0.19388056123077166, 'lambda_l2': 0.08121754766161014, 'min_child_samples': 18, 'min_data_in_leaf': 55, 'min_sum_hessian_in_leaf': 0.08752723960357625, 'min_gain_to_split': 0.1698882032080233, 'drop_rate': 0.032326650778229556, 'max_bin': 213}. Best is trial 53 with value: 0.900734351780278.\n",
      "[I 2025-03-25 14:00:26,210] Trial 64 finished with value: 0.8966891783042369 and parameters: {'learning_rate': 0.014368726392570258, 'num_leaves': 26, 'max_depth': 10, 'feature_fraction': 0.8736623050490767, 'bagging_fraction': 0.561255190858614, 'bagging_freq': 2, 'lambda_l1': 0.18388192926995403, 'lambda_l2': 0.04523022594138325, 'min_child_samples': 21, 'min_data_in_leaf': 51, 'min_sum_hessian_in_leaf': 0.021400252908072414, 'min_gain_to_split': 0.27588427072783805, 'drop_rate': 0.00912644826542926, 'max_bin': 176}. Best is trial 53 with value: 0.900734351780278.\n",
      "[I 2025-03-25 14:00:26,966] Trial 65 finished with value: 0.9003466122780319 and parameters: {'learning_rate': 0.04394580454338365, 'num_leaves': 29, 'max_depth': 10, 'feature_fraction': 0.7696731565959194, 'bagging_fraction': 0.625163687722692, 'bagging_freq': 2, 'lambda_l1': 0.17200304810839329, 'lambda_l2': 0.06622114785492857, 'min_child_samples': 16, 'min_data_in_leaf': 58, 'min_sum_hessian_in_leaf': 0.08227444334067766, 'min_gain_to_split': 0.23364101014332891, 'drop_rate': 0.05108837891972253, 'max_bin': 371}. Best is trial 53 with value: 0.900734351780278.\n",
      "[I 2025-03-25 14:00:27,754] Trial 66 finished with value: 0.8998669855293538 and parameters: {'learning_rate': 0.03922583853878768, 'num_leaves': 29, 'max_depth': 10, 'feature_fraction': 0.7593259666835903, 'bagging_fraction': 0.6238669410672729, 'bagging_freq': 2, 'lambda_l1': 0.14583798073574825, 'lambda_l2': 0.07181060132337352, 'min_child_samples': 16, 'min_data_in_leaf': 58, 'min_sum_hessian_in_leaf': 0.08175698850763441, 'min_gain_to_split': 0.10309383220547157, 'drop_rate': 0.055465833218863315, 'max_bin': 324}. Best is trial 53 with value: 0.900734351780278.\n",
      "[I 2025-03-25 14:00:28,748] Trial 67 finished with value: 0.8995642599330574 and parameters: {'learning_rate': 0.04118386745281743, 'num_leaves': 26, 'max_depth': 10, 'feature_fraction': 0.7706828275993058, 'bagging_fraction': 0.6556004101870907, 'bagging_freq': 1, 'lambda_l1': 0.17341450170594763, 'lambda_l2': 0.03563817321876375, 'min_child_samples': 19, 'min_data_in_leaf': 55, 'min_sum_hessian_in_leaf': 0.08559853681869767, 'min_gain_to_split': 0.2374914918136231, 'drop_rate': 0.04576539765546212, 'max_bin': 369}. Best is trial 53 with value: 0.900734351780278.\n",
      "[I 2025-03-25 14:00:29,470] Trial 68 finished with value: 0.899297441002638 and parameters: {'learning_rate': 0.04462596346645517, 'num_leaves': 28, 'max_depth': 5, 'feature_fraction': 0.8074093517551977, 'bagging_fraction': 0.5821876547370564, 'bagging_freq': 2, 'lambda_l1': 0.19061877596646978, 'lambda_l2': 0.051694281957866295, 'min_child_samples': 14, 'min_data_in_leaf': 58, 'min_sum_hessian_in_leaf': 0.09028740835397747, 'min_gain_to_split': 0.1961205407819693, 'drop_rate': 0.030768554485605844, 'max_bin': 136}. Best is trial 53 with value: 0.900734351780278.\n",
      "[I 2025-03-25 14:00:30,230] Trial 69 finished with value: 0.8973400516266461 and parameters: {'learning_rate': 0.022416155040576466, 'num_leaves': 31, 'max_depth': 10, 'feature_fraction': 0.7327562715231704, 'bagging_fraction': 0.602233064300153, 'bagging_freq': 2, 'lambda_l1': 0.1834856818306178, 'lambda_l2': 0.07712093819647274, 'min_child_samples': 10, 'min_data_in_leaf': 53, 'min_sum_hessian_in_leaf': 0.0962185695775587, 'min_gain_to_split': 0.04353534625368416, 'drop_rate': 0.019988314938737834, 'max_bin': 423}. Best is trial 53 with value: 0.900734351780278.\n",
      "[I 2025-03-25 14:00:30,984] Trial 70 finished with value: 0.8973911367416972 and parameters: {'learning_rate': 0.035682359105947234, 'num_leaves': 25, 'max_depth': 10, 'feature_fraction': 0.8200824284692263, 'bagging_fraction': 0.6279442062123075, 'bagging_freq': 2, 'lambda_l1': 0.19513119554597771, 'lambda_l2': 0.06153473785946356, 'min_child_samples': 17, 'min_data_in_leaf': 56, 'min_sum_hessian_in_leaf': 0.001383660244679799, 'min_gain_to_split': 0.3259765190940788, 'drop_rate': 0.03845800193119027, 'max_bin': 307}. Best is trial 53 with value: 0.900734351780278.\n",
      "[I 2025-03-25 14:00:31,749] Trial 71 finished with value: 0.8998974897178622 and parameters: {'learning_rate': 0.038783035451107534, 'num_leaves': 29, 'max_depth': 10, 'feature_fraction': 0.7593429442801751, 'bagging_fraction': 0.6287288550430531, 'bagging_freq': 2, 'lambda_l1': 0.14887555949754458, 'lambda_l2': 0.06663995833446104, 'min_child_samples': 16, 'min_data_in_leaf': 60, 'min_sum_hessian_in_leaf': 0.08098334884534254, 'min_gain_to_split': 0.09826252218147785, 'drop_rate': 0.05540564957163243, 'max_bin': 320}. Best is trial 53 with value: 0.900734351780278.\n",
      "[I 2025-03-25 14:00:32,495] Trial 72 finished with value: 0.8995315752550385 and parameters: {'learning_rate': 0.043485889869420064, 'num_leaves': 29, 'max_depth': 10, 'feature_fraction': 0.7460543434540579, 'bagging_fraction': 0.6507658853379501, 'bagging_freq': 2, 'lambda_l1': 0.1777192848862772, 'lambda_l2': 0.07032048163963886, 'min_child_samples': 18, 'min_data_in_leaf': 60, 'min_sum_hessian_in_leaf': 0.08222358411499534, 'min_gain_to_split': 0.10015893313472632, 'drop_rate': 0.009452826401662258, 'max_bin': 188}. Best is trial 53 with value: 0.900734351780278.\n",
      "[I 2025-03-25 14:00:33,262] Trial 73 finished with value: 0.900544640114067 and parameters: {'learning_rate': 0.04759147135785388, 'num_leaves': 30, 'max_depth': 10, 'feature_fraction': 0.7591259761784349, 'bagging_fraction': 0.5925678374254753, 'bagging_freq': 2, 'lambda_l1': 0.17026963022626615, 'lambda_l2': 0.058580707178899634, 'min_child_samples': 16, 'min_data_in_leaf': 58, 'min_sum_hessian_in_leaf': 0.08783473876922157, 'min_gain_to_split': 0.28082909919454097, 'drop_rate': 0.048765431463764705, 'max_bin': 381}. Best is trial 53 with value: 0.900734351780278.\n",
      "[I 2025-03-25 14:00:33,985] Trial 74 finished with value: 0.9004079190303201 and parameters: {'learning_rate': 0.047541820398945826, 'num_leaves': 27, 'max_depth': 10, 'feature_fraction': 0.7937798014715811, 'bagging_fraction': 0.5572437478632368, 'bagging_freq': 2, 'lambda_l1': 0.16991970750765617, 'lambda_l2': 0.05703553062401599, 'min_child_samples': 14, 'min_data_in_leaf': 58, 'min_sum_hessian_in_leaf': 0.08708017140434011, 'min_gain_to_split': 0.28956450407904694, 'drop_rate': 0.028161796784675383, 'max_bin': 377}. Best is trial 53 with value: 0.900734351780278.\n",
      "[I 2025-03-25 14:00:34,714] Trial 75 finished with value: 0.8987519761880897 and parameters: {'learning_rate': 0.048884610686375195, 'num_leaves': 27, 'max_depth': 10, 'feature_fraction': 0.7881683158408386, 'bagging_fraction': 0.5925820848977567, 'bagging_freq': 1, 'lambda_l1': 0.17053602948984392, 'lambda_l2': 0.059606458728543615, 'min_child_samples': 12, 'min_data_in_leaf': 58, 'min_sum_hessian_in_leaf': 0.07537864342139056, 'min_gain_to_split': 0.28874208679539426, 'drop_rate': 0.06575995059950306, 'max_bin': 335}. Best is trial 53 with value: 0.900734351780278.\n",
      "[I 2025-03-25 14:00:35,435] Trial 76 finished with value: 0.8992209094200003 and parameters: {'learning_rate': 0.047177218547994705, 'num_leaves': 32, 'max_depth': 10, 'feature_fraction': 0.7966260825594738, 'bagging_fraction': 0.5430067205748031, 'bagging_freq': 2, 'lambda_l1': 0.1862213186873528, 'lambda_l2': 0.026227499015374703, 'min_child_samples': 14, 'min_data_in_leaf': 56, 'min_sum_hessian_in_leaf': 0.08728724282842143, 'min_gain_to_split': 0.3867402385438582, 'drop_rate': 0.047882754177288336, 'max_bin': 355}. Best is trial 53 with value: 0.900734351780278.\n",
      "[I 2025-03-25 14:00:36,169] Trial 77 finished with value: 0.8991125153393351 and parameters: {'learning_rate': 0.04879002751015203, 'num_leaves': 30, 'max_depth': 9, 'feature_fraction': 0.7740864624854359, 'bagging_fraction': 0.5259507537970189, 'bagging_freq': 2, 'lambda_l1': 0.14000854929279152, 'lambda_l2': 0.04630248913517678, 'min_child_samples': 16, 'min_data_in_leaf': 53, 'min_sum_hessian_in_leaf': 0.06944749505667948, 'min_gain_to_split': 0.21596879301660468, 'drop_rate': 0.033778798574936, 'max_bin': 383}. Best is trial 53 with value: 0.900734351780278.\n",
      "[I 2025-03-25 14:00:36,867] Trial 78 finished with value: 0.8976448823368374 and parameters: {'learning_rate': 0.04515683575588022, 'num_leaves': 24, 'max_depth': 10, 'feature_fraction': 0.7517988025974405, 'bagging_fraction': 0.5548133025460785, 'bagging_freq': 1, 'lambda_l1': 0.19858550226857238, 'lambda_l2': 0.05553684384001178, 'min_child_samples': 15, 'min_data_in_leaf': 59, 'min_sum_hessian_in_leaf': 0.07775561481360667, 'min_gain_to_split': 0.17239808348635038, 'drop_rate': 0.018257456336396846, 'max_bin': 297}. Best is trial 53 with value: 0.900734351780278.\n",
      "[I 2025-03-25 14:00:37,596] Trial 79 finished with value: 0.8992825080031224 and parameters: {'learning_rate': 0.04763009959289287, 'num_leaves': 26, 'max_depth': 9, 'feature_fraction': 0.8204478386651272, 'bagging_fraction': 0.5787574493099671, 'bagging_freq': 2, 'lambda_l1': 0.165345401430574, 'lambda_l2': 0.11124410261271091, 'min_child_samples': 13, 'min_data_in_leaf': 58, 'min_sum_hessian_in_leaf': 0.08825402542446557, 'min_gain_to_split': 0.26631498368914025, 'drop_rate': 0.028224930611250816, 'max_bin': 349}. Best is trial 53 with value: 0.900734351780278.\n",
      "[I 2025-03-25 14:00:38,530] Trial 80 finished with value: 0.8935256125432804 and parameters: {'learning_rate': 0.04902527077369912, 'num_leaves': 30, 'max_depth': 10, 'feature_fraction': 0.8963236441015621, 'bagging_fraction': 0.8502939928171582, 'bagging_freq': 2, 'lambda_l1': 0.19129040808109865, 'lambda_l2': 0.08639566176821169, 'min_child_samples': 12, 'min_data_in_leaf': 54, 'min_sum_hessian_in_leaf': 0.09729337186155296, 'min_gain_to_split': 0.29705249494502606, 'drop_rate': 0.006166192449115854, 'max_bin': 363}. Best is trial 53 with value: 0.900734351780278.\n",
      "[I 2025-03-25 14:00:39,259] Trial 81 finished with value: 0.8999335640943675 and parameters: {'learning_rate': 0.04349424881549056, 'num_leaves': 28, 'max_depth': 10, 'feature_fraction': 0.731095152800948, 'bagging_fraction': 0.5623127823623315, 'bagging_freq': 2, 'lambda_l1': 0.17155623684439167, 'lambda_l2': 0.07586192103534115, 'min_child_samples': 18, 'min_data_in_leaf': 56, 'min_sum_hessian_in_leaf': 0.09412847605639293, 'min_gain_to_split': 0.22646060724657652, 'drop_rate': 0.02539576010246329, 'max_bin': 377}. Best is trial 53 with value: 0.900734351780278.\n",
      "[I 2025-03-25 14:00:39,993] Trial 82 finished with value: 0.8995557131442149 and parameters: {'learning_rate': 0.047016781228484884, 'num_leaves': 27, 'max_depth': 10, 'feature_fraction': 0.781417887062192, 'bagging_fraction': 0.5745909707403472, 'bagging_freq': 2, 'lambda_l1': 0.18154128610887463, 'lambda_l2': 0.07758460834432163, 'min_child_samples': 17, 'min_data_in_leaf': 55, 'min_sum_hessian_in_leaf': 0.09032643213779326, 'min_gain_to_split': 0.3352754001639739, 'drop_rate': 0.011594732277373558, 'max_bin': 389}. Best is trial 53 with value: 0.900734351780278.\n",
      "[I 2025-03-25 14:00:40,761] Trial 83 finished with value: 0.8994434301295303 and parameters: {'learning_rate': 0.04106107292686805, 'num_leaves': 31, 'max_depth': 10, 'feature_fraction': 0.8060632529135126, 'bagging_fraction': 0.5989592499968573, 'bagging_freq': 2, 'lambda_l1': 0.16303651273708003, 'lambda_l2': 0.09791566914533563, 'min_child_samples': 21, 'min_data_in_leaf': 57, 'min_sum_hessian_in_leaf': 0.09453948864033809, 'min_gain_to_split': 0.17799262493175022, 'drop_rate': 0.04214480793531706, 'max_bin': 419}. Best is trial 53 with value: 0.900734351780278.\n",
      "[I 2025-03-25 14:00:41,491] Trial 84 finished with value: 0.8996040204500778 and parameters: {'learning_rate': 0.04528437126374529, 'num_leaves': 33, 'max_depth': 10, 'feature_fraction': 0.7568344699444322, 'bagging_fraction': 0.5428487118291128, 'bagging_freq': 2, 'lambda_l1': 0.17769845073421628, 'lambda_l2': 0.04855203501492414, 'min_child_samples': 19, 'min_data_in_leaf': 52, 'min_sum_hessian_in_leaf': 0.09963710439077031, 'min_gain_to_split': 0.24772511765009117, 'drop_rate': 0.020618628407866497, 'max_bin': 408}. Best is trial 53 with value: 0.900734351780278.\n",
      "[I 2025-03-25 14:00:42,270] Trial 85 finished with value: 0.8988765533876724 and parameters: {'learning_rate': 0.04250292537705339, 'num_leaves': 28, 'max_depth': 10, 'feature_fraction': 0.7902868624792923, 'bagging_fraction': 0.613251869990553, 'bagging_freq': 2, 'lambda_l1': 0.15297181876841656, 'lambda_l2': 0.06126464027750416, 'min_child_samples': 22, 'min_data_in_leaf': 54, 'min_sum_hessian_in_leaf': 0.08301439581078747, 'min_gain_to_split': 0.14189784609549796, 'drop_rate': 0.03773635161276297, 'max_bin': 371}. Best is trial 53 with value: 0.900734351780278.\n",
      "[I 2025-03-25 14:00:42,977] Trial 86 finished with value: 0.8987684712693029 and parameters: {'learning_rate': 0.047261871828935445, 'num_leaves': 32, 'max_depth': 6, 'feature_fraction': 0.7750903074405399, 'bagging_fraction': 0.5585606851729213, 'bagging_freq': 2, 'lambda_l1': 0.19376863484415796, 'lambda_l2': 0.037725712871985964, 'min_child_samples': 16, 'min_data_in_leaf': 59, 'min_sum_hessian_in_leaf': 0.0862922664151699, 'min_gain_to_split': 0.20994636044947496, 'drop_rate': 0.004485230874645429, 'max_bin': 331}. Best is trial 53 with value: 0.900734351780278.\n",
      "[I 2025-03-25 14:00:43,612] Trial 87 finished with value: 0.8990153500285543 and parameters: {'learning_rate': 0.0436538859160529, 'num_leaves': 29, 'max_depth': 9, 'feature_fraction': 0.7230533621141512, 'bagging_fraction': 0.5125734736158264, 'bagging_freq': 2, 'lambda_l1': 0.18568485676516028, 'lambda_l2': 0.06925350749237037, 'min_child_samples': 14, 'min_data_in_leaf': 57, 'min_sum_hessian_in_leaf': 0.09250415649410329, 'min_gain_to_split': 0.9455394020039902, 'drop_rate': 0.02884675597463294, 'max_bin': 342}. Best is trial 53 with value: 0.900734351780278.\n",
      "[I 2025-03-25 14:00:44,459] Trial 88 finished with value: 0.8990807443461886 and parameters: {'learning_rate': 0.04530542548524363, 'num_leaves': 28, 'max_depth': 10, 'feature_fraction': 0.7037069403738176, 'bagging_fraction': 0.7377593009197475, 'bagging_freq': 2, 'lambda_l1': 0.1746763205699972, 'lambda_l2': 0.08773318258495329, 'min_child_samples': 19, 'min_data_in_leaf': 50, 'min_sum_hessian_in_leaf': 0.09758942020755229, 'min_gain_to_split': 0.2787617412661091, 'drop_rate': 0.049667013717032894, 'max_bin': 380}. Best is trial 53 with value: 0.900734351780278.\n",
      "[I 2025-03-25 14:00:45,196] Trial 89 finished with value: 0.8971709213509289 and parameters: {'learning_rate': 0.048938976830370975, 'num_leaves': 30, 'max_depth': 10, 'feature_fraction': 0.8458798339838651, 'bagging_fraction': 0.5877984666323887, 'bagging_freq': 1, 'lambda_l1': 0.12818336422539628, 'lambda_l2': 0.06005929859097498, 'min_child_samples': 17, 'min_data_in_leaf': 60, 'min_sum_hessian_in_leaf': 0.07969497340177822, 'min_gain_to_split': 0.0311517271526671, 'drop_rate': 0.015776645197392594, 'max_bin': 397}. Best is trial 53 with value: 0.900734351780278.\n",
      "[I 2025-03-25 14:00:46,024] Trial 90 finished with value: 0.8967613010251443 and parameters: {'learning_rate': 0.041816641215315545, 'num_leaves': 27, 'max_depth': 9, 'feature_fraction': 0.7416975300933064, 'bagging_fraction': 0.7996808892386248, 'bagging_freq': 2, 'lambda_l1': 0.1583868591672149, 'lambda_l2': 0.05088481057514954, 'min_child_samples': 15, 'min_data_in_leaf': 56, 'min_sum_hessian_in_leaf': 0.07281200869680216, 'min_gain_to_split': 0.44316923106669937, 'drop_rate': 0.023002201846416482, 'max_bin': 362}. Best is trial 53 with value: 0.900734351780278.\n",
      "[I 2025-03-25 14:00:46,748] Trial 91 finished with value: 0.9011927010901823 and parameters: {'learning_rate': 0.043737839800685976, 'num_leaves': 28, 'max_depth': 10, 'feature_fraction': 0.7620560854136262, 'bagging_fraction': 0.5691079243891185, 'bagging_freq': 2, 'lambda_l1': 0.1694298303431855, 'lambda_l2': 0.07746709578214517, 'min_child_samples': 18, 'min_data_in_leaf': 56, 'min_sum_hessian_in_leaf': 0.09470738686763597, 'min_gain_to_split': 0.22690731149114454, 'drop_rate': 0.001030127416669583, 'max_bin': 378}. Best is trial 91 with value: 0.9011927010901823.\n",
      "[I 2025-03-25 14:00:47,508] Trial 92 finished with value: 0.8990689663468249 and parameters: {'learning_rate': 0.0461964358677794, 'num_leaves': 26, 'max_depth': 10, 'feature_fraction': 0.7968855798610708, 'bagging_fraction': 0.5743853596694642, 'bagging_freq': 2, 'lambda_l1': 0.16843539734933224, 'lambda_l2': 0.08130771002519306, 'min_child_samples': 18, 'min_data_in_leaf': 53, 'min_sum_hessian_in_leaf': 0.08939619023109852, 'min_gain_to_split': 0.23905457569809943, 'drop_rate': 0.011476980751889129, 'max_bin': 351}. Best is trial 91 with value: 0.9011927010901823.\n",
      "[I 2025-03-25 14:00:48,218] Trial 93 finished with value: 0.8992287049649322 and parameters: {'learning_rate': 0.04000665209544164, 'num_leaves': 31, 'max_depth': 10, 'feature_fraction': 0.7618759979846181, 'bagging_fraction': 0.5658430539919893, 'bagging_freq': 2, 'lambda_l1': 0.18898653118087091, 'lambda_l2': 0.06525524112875647, 'min_child_samples': 19, 'min_data_in_leaf': 58, 'min_sum_hessian_in_leaf': 0.09217572751300403, 'min_gain_to_split': 0.1933093064654829, 'drop_rate': 0.0024141769046185906, 'max_bin': 388}. Best is trial 91 with value: 0.9011927010901823.\n",
      "[I 2025-03-25 14:00:48,924] Trial 94 finished with value: 0.8982122650211947 and parameters: {'learning_rate': 0.044561264950887504, 'num_leaves': 29, 'max_depth': 10, 'feature_fraction': 0.8280015861952864, 'bagging_fraction': 0.5308138008858, 'bagging_freq': 2, 'lambda_l1': 0.17970480560466967, 'lambda_l2': 0.0755990514964841, 'min_child_samples': 18, 'min_data_in_leaf': 55, 'min_sum_hessian_in_leaf': 0.09477225025432043, 'min_gain_to_split': 0.30278380535335214, 'drop_rate': 0.018403053352013928, 'max_bin': 368}. Best is trial 91 with value: 0.9011927010901823.\n",
      "[I 2025-03-25 14:00:49,642] Trial 95 finished with value: 0.9007344389466146 and parameters: {'learning_rate': 0.049937658316074045, 'num_leaves': 27, 'max_depth': 10, 'feature_fraction': 0.777759029617227, 'bagging_fraction': 0.5551364987473569, 'bagging_freq': 2, 'lambda_l1': 0.16214970282778626, 'lambda_l2': 0.05644530734496042, 'min_child_samples': 17, 'min_data_in_leaf': 57, 'min_sum_hessian_in_leaf': 0.09804515630804655, 'min_gain_to_split': 0.2588926510744088, 'drop_rate': 0.00011675595125939554, 'max_bin': 379}. Best is trial 91 with value: 0.9011927010901823.\n",
      "[I 2025-03-25 14:00:50,309] Trial 96 finished with value: 0.8994523484651771 and parameters: {'learning_rate': 0.04936429603271252, 'num_leaves': 25, 'max_depth': 10, 'feature_fraction': 0.5322846001209546, 'bagging_fraction': 0.5424704854259712, 'bagging_freq': 2, 'lambda_l1': 0.1616901867297237, 'lambda_l2': 0.05809131995384253, 'min_child_samples': 17, 'min_data_in_leaf': 57, 'min_sum_hessian_in_leaf': 0.0975375127075651, 'min_gain_to_split': 0.2622212745257816, 'drop_rate': 0.005726206268883905, 'max_bin': 405}. Best is trial 91 with value: 0.9011927010901823.\n",
      "[I 2025-03-25 14:00:51,035] Trial 97 finished with value: 0.8997543947249333 and parameters: {'learning_rate': 0.04997636304725011, 'num_leaves': 30, 'max_depth': 10, 'feature_fraction': 0.8110070248772712, 'bagging_fraction': 0.5529772330284036, 'bagging_freq': 2, 'lambda_l1': 0.1950940884863595, 'lambda_l2': 0.05563962113270692, 'min_child_samples': 16, 'min_data_in_leaf': 58, 'min_sum_hessian_in_leaf': 0.08442229950154459, 'min_gain_to_split': 0.14924611502773868, 'drop_rate': 0.011941193306197126, 'max_bin': 359}. Best is trial 91 with value: 0.9011927010901823.\n",
      "[I 2025-03-25 14:00:51,767] Trial 98 finished with value: 0.9000724890314281 and parameters: {'learning_rate': 0.04649527507864917, 'num_leaves': 24, 'max_depth': 9, 'feature_fraction': 0.7505321995595494, 'bagging_fraction': 0.6059340148138839, 'bagging_freq': 2, 'lambda_l1': 0.16974535201330887, 'lambda_l2': 0.06723612971881453, 'min_child_samples': 15, 'min_data_in_leaf': 59, 'min_sum_hessian_in_leaf': 0.033121081001546294, 'min_gain_to_split': 0.3264870874326651, 'drop_rate': 0.01598406542346118, 'max_bin': 314}. Best is trial 91 with value: 0.9011927010901823.\n",
      "[I 2025-03-25 14:00:52,554] Trial 99 finished with value: 0.8985121895475567 and parameters: {'learning_rate': 0.048096787295011025, 'num_leaves': 22, 'max_depth': 9, 'feature_fraction': 0.7793347621364076, 'bagging_fraction': 0.6423484327499291, 'bagging_freq': 2, 'lambda_l1': 0.1709861684293019, 'lambda_l2': 0.030859546576720062, 'min_child_samples': 15, 'min_data_in_leaf': 54, 'min_sum_hessian_in_leaf': 0.031408790915961965, 'min_gain_to_split': 0.3708611495639422, 'drop_rate': 0.0022344069501705056, 'max_bin': 434}. Best is trial 91 with value: 0.9011927010901823.\n"
     ]
    },
    {
     "name": "stdout",
     "output_type": "stream",
     "text": [
      "Best trial:\n",
      "  Value: 0.9011927010901823\n",
      "  Params: \n",
      "    learning_rate: 0.043737839800685976\n",
      "    num_leaves: 28\n",
      "    max_depth: 10\n",
      "    feature_fraction: 0.7620560854136262\n",
      "    bagging_fraction: 0.5691079243891185\n",
      "    bagging_freq: 2\n",
      "    lambda_l1: 0.1694298303431855\n",
      "    lambda_l2: 0.07746709578214517\n",
      "    min_child_samples: 18\n",
      "    min_data_in_leaf: 56\n",
      "    min_sum_hessian_in_leaf: 0.09470738686763597\n",
      "    min_gain_to_split: 0.22690731149114454\n",
      "    drop_rate: 0.001030127416669583\n",
      "    max_bin: 378\n",
      "CV scores: [0.846301335972291, 0.8973922902494331, 0.9110623781676412, 0.887785875848203, 0.9423732666515118, 0.8731860515486246, 0.9349112426035503, 0.9458245243128963, 0.8921578421578422, 0.8809322033898305]\n",
      "CV mean score: 0.9011927010901823\n"
     ]
    }
   ],
   "source": [
    "study = optuna.create_study(direction='maximize')\n",
    "study.optimize(objective, n_trials=100)\n",
    "\n",
    "print('Best trial:')\n",
    "trial = study.best_trial\n",
    "print('  Value: {}'.format(trial.value))\n",
    "print('  Params: ')\n",
    "for key, value in trial.params.items():\n",
    "    print('    {}: {}'.format(key, value))\n",
    "\n",
    "# Train the model with optimized parameters\n",
    "best_params = trial.params\n",
    "best_params.update({\n",
    "    'objective': 'binary',\n",
    "    'metric': 'auc',\n",
    "    'boosting_type': 'gbdt',\n",
    "    'verbosity': -1,\n",
    "    'early_stopping_rounds': 100,\n",
    "    'random_state': SEED,\n",
    "})\n",
    "\n",
    "cv = KFold(n_splits=NUM_SPLITS, random_state=SEED, shuffle=True)\n",
    "scores = []\n",
    "models = []\n",
    "\n",
    "for fold, (train_index, valid_index) in enumerate(cv.split(X)):\n",
    "    X_train, X_val = X.iloc[train_index], X.iloc[valid_index]\n",
    "    y_train, y_val = y.iloc[train_index], y.iloc[valid_index]\n",
    "\n",
    "    model = lgb.LGBMClassifier(**best_params)\n",
    "    model.fit(X_train, y_train, eval_set=[(X_val, y_val)], eval_metric='auc')\n",
    "\n",
    "    y_pred_val = model.predict_proba(X_val)[:, 1]\n",
    "    score = roc_auc_score(y_val, y_pred_val)\n",
    "    scores.append(score)\n",
    "    models.append(model)\n",
    "\n",
    "print('CV scores:', scores)\n",
    "print('CV mean score:', sum(scores) / len(scores))"
   ]
  },
  {
   "cell_type": "code",
   "execution_count": 9,
   "id": "7e703fb2",
   "metadata": {
    "execution": {
     "iopub.execute_input": "2025-03-25T14:00:53.281201Z",
     "iopub.status.busy": "2025-03-25T14:00:53.280774Z",
     "iopub.status.idle": "2025-03-25T14:00:55.251545Z",
     "shell.execute_reply": "2025-03-25T14:00:55.250466Z"
    },
    "papermill": {
     "duration": 1.986021,
     "end_time": "2025-03-25T14:00:55.253373",
     "exception": false,
     "start_time": "2025-03-25T14:00:53.267352",
     "status": "completed"
    },
    "tags": []
   },
   "outputs": [
    {
     "data": {
      "text/plain": [
       "<Axes: title={'left': 'Hyperparameter Importances'}, xlabel='Hyperparameter Importance', ylabel='Hyperparameter'>"
      ]
     },
     "execution_count": 9,
     "metadata": {},
     "output_type": "execute_result"
    },
    {
     "data": {
      "image/png": "[encoded data removed]",
      "text/plain": [
       "<Figure size 640x480 with 1 Axes>"
      ]
     },
     "metadata": {},
     "output_type": "display_data"
    }
   ],
   "source": [
    "optuna.visualization.matplotlib.plot_param_importances(study)"
   ]
  },
  {
   "cell_type": "code",
   "execution_count": 10,
   "id": "d845273e",
   "metadata": {
    "execution": {
     "iopub.execute_input": "2025-03-25T14:00:55.282994Z",
     "iopub.status.busy": "2025-03-25T14:00:55.282613Z",
     "iopub.status.idle": "2025-03-25T14:00:57.252723Z",
     "shell.execute_reply": "2025-03-25T14:00:57.251671Z"
    },
    "papermill": {
     "duration": 1.98678,
     "end_time": "2025-03-25T14:00:57.254605",
     "exception": false,
     "start_time": "2025-03-25T14:00:55.267825",
     "status": "completed"
    },
    "tags": []
   },
   "outputs": [
    {
     "data": {
      "text/html": [
       "\n",
       "        <iframe\n",
       "            width=\"100%\"\n",
       "            height=\"500\"\n",
       "            src=\"optimization_history.html\"\n",
       "            frameborder=\"0\"\n",
       "            allowfullscreen\n",
       "            \n",
       "        ></iframe>\n",
       "        "
      ],
      "text/plain": [
       "<IPython.lib.display.IFrame at 0x78c8d71abee0>"
      ]
     },
     "metadata": {},
     "output_type": "display_data"
    },
    {
     "data": {
      "text/html": [
       "\n",
       "        <iframe\n",
       "            width=\"100%\"\n",
       "            height=\"500\"\n",
       "            src=\"parameter_importances.html\"\n",
       "            frameborder=\"0\"\n",
       "            allowfullscreen\n",
       "            \n",
       "        ></iframe>\n",
       "        "
      ],
      "text/plain": [
       "<IPython.lib.display.IFrame at 0x78c8fcf3b220>"
      ]
     },
     "metadata": {},
     "output_type": "display_data"
    }
   ],
   "source": [
    "# Parameter Importance Analysis\n",
    "fig_importances = vis.plot_param_importances(study)\n",
    "fig_importances.write_html(\"parameter_importances.html\")\n",
    "\n",
    "# Optimization history\n",
    "fig_history = vis.plot_optimization_history(study)\n",
    "fig_history.write_html(\"optimization_history.html\")\n",
    "\n",
    "# Display the saved HTML files inline using IFrame\n",
    "display(IFrame(src=\"optimization_history.html\", width=\"100%\", height=500))\n",
    "display(IFrame(src=\"parameter_importances.html\", width=\"100%\", height=500))"
   ]
  },
  {
   "cell_type": "code",
   "execution_count": 11,
   "id": "f82af881",
   "metadata": {
    "execution": {
     "iopub.execute_input": "2025-03-25T14:00:57.285139Z",
     "iopub.status.busy": "2025-03-25T14:00:57.284754Z",
     "iopub.status.idle": "2025-03-25T14:00:57.777171Z",
     "shell.execute_reply": "2025-03-25T14:00:57.776078Z"
    },
    "papermill": {
     "duration": 0.509751,
     "end_time": "2025-03-25T14:00:57.779053",
     "exception": false,
     "start_time": "2025-03-25T14:00:57.269302",
     "status": "completed"
    },
    "tags": []
   },
   "outputs": [
    {
     "data": {
      "image/png": "[encoded data removed]",
      "text/plain": [
       "<Figure size 1000x600 with 1 Axes>"
      ]
     },
     "metadata": {},
     "output_type": "display_data"
    },
    {
     "name": "stdout",
     "output_type": "stream",
     "text": [
      "Scores: [0.846301335972291, 0.8973922902494331, 0.9110623781676412, 0.887785875848203, 0.9423732666515118, 0.8731860515486246, 0.9349112426035503, 0.9458245243128963, 0.8921578421578422, 0.8809322033898305]\n"
     ]
    },
    {
     "data": {
      "image/png": "[encoded data removed]",
      "text/plain": [
       "<Figure size 800x600 with 1 Axes>"
      ]
     },
     "metadata": {},
     "output_type": "display_data"
    },
    {
     "name": "stdout",
     "output_type": "stream",
     "text": [
      "Cross-validated ROC AUC score: 0.90119 +/- 0.03067\n"
     ]
    }
   ],
   "source": [
    "# Visualize the scores of each fold with a box plot\n",
    "plt.figure(figsize=(10, 6))\n",
    "sns.boxplot(data=scores)\n",
    "plt.title('Distribution of ROC AUC Scores across Folds')\n",
    "plt.xlabel('Folds')\n",
    "plt.ylabel('ROC AUC Score')\n",
    "plt.show()\n",
    "\n",
    "# Display the scores of each fold in a list\n",
    "print(\"Scores:\", scores)\n",
    "\n",
    "# Plot the ROC curve for each fold\n",
    "plt.figure(figsize=(8, 6))\n",
    "for fold, model in enumerate(models):\n",
    "    y_pred_val = model.predict_proba(X.iloc[valid_index])[:, 1]\n",
    "    fpr, tpr, thresholds = roc_curve(y.iloc[valid_index], y_pred_val)\n",
    "    roc_auc = auc(fpr, tpr)\n",
    "    plt.plot(fpr, tpr, lw=2, label=f'Fold {fold+1} (AUC = {roc_auc:.2f})')\n",
    "\n",
    "# diagonal\n",
    "plt.plot([0, 1], [0, 1], linestyle='--', color='gray', label='Random')\n",
    "\n",
    "# Graph settings\n",
    "plt.xlabel('False Positive Rate')\n",
    "plt.ylabel('True Positive Rate')\n",
    "plt.title('ROC Curve')\n",
    "plt.legend()\n",
    "plt.show()\n",
    "\n",
    "# Shows the mean and standard deviation of AUC scores\n",
    "print(f'Cross-validated ROC AUC score: {np.mean(scores):.5f} +/- {np.std(scores):.5f}') "
   ]
  },
  {
   "cell_type": "code",
   "execution_count": null,
   "id": "b9c6aaf1",
   "metadata": {
    "papermill": {
     "duration": 0.015915,
     "end_time": "2025-03-25T14:00:57.812089",
     "exception": false,
     "start_time": "2025-03-25T14:00:57.796174",
     "status": "completed"
    },
    "tags": []
   },
   "outputs": [],
   "source": []
  },
  {
   "cell_type": "markdown",
   "id": "4c6d4325",
   "metadata": {
    "papermill": {
     "duration": 0.016293,
     "end_time": "2025-03-25T14:00:57.844635",
     "exception": false,
     "start_time": "2025-03-25T14:00:57.828342",
     "status": "completed"
    },
    "tags": []
   },
   "source": [
    "# Select Features"
   ]
  },
  {
   "cell_type": "markdown",
   "id": "1d7ceac3",
   "metadata": {
    "papermill": {
     "duration": 0.016041,
     "end_time": "2025-03-25T14:00:57.877360",
     "exception": false,
     "start_time": "2025-03-25T14:00:57.861319",
     "status": "completed"
    },
    "tags": []
   },
   "source": [
    "## feature_importance"
   ]
  },
  {
   "cell_type": "code",
   "execution_count": 12,
   "id": "181faa04",
   "metadata": {
    "execution": {
     "iopub.execute_input": "2025-03-25T14:00:57.911206Z",
     "iopub.status.busy": "2025-03-25T14:00:57.910809Z",
     "iopub.status.idle": "2025-03-25T14:00:58.192029Z",
     "shell.execute_reply": "2025-03-25T14:00:58.190931Z"
    },
    "papermill": {
     "duration": 0.300308,
     "end_time": "2025-03-25T14:00:58.193841",
     "exception": false,
     "start_time": "2025-03-25T14:00:57.893533",
     "status": "completed"
    },
    "tags": []
   },
   "outputs": [
    {
     "data": {
      "image/png": "[encoded data removed]",
      "text/plain": [
       "<Figure size 1200x600 with 1 Axes>"
      ]
     },
     "metadata": {},
     "output_type": "display_data"
    },
    {
     "data": {
      "text/html": [
       "<div>\n",
       "<style scoped>\n",
       "    .dataframe tbody tr th:only-of-type {\n",
       "        vertical-align: middle;\n",
       "    }\n",
       "\n",
       "    .dataframe tbody tr th {\n",
       "        vertical-align: top;\n",
       "    }\n",
       "\n",
       "    .dataframe thead th {\n",
       "        text-align: right;\n",
       "    }\n",
       "</style>\n",
       "<table border=\"1\" class=\"dataframe\">\n",
       "  <thead>\n",
       "    <tr style=\"text-align: right;\">\n",
       "      <th></th>\n",
       "      <th>Feature</th>\n",
       "      <th>LightGBM</th>\n",
       "    </tr>\n",
       "  </thead>\n",
       "  <tbody>\n",
       "    <tr>\n",
       "      <th>8</th>\n",
       "      <td>cloud</td>\n",
       "      <td>1556.105089</td>\n",
       "    </tr>\n",
       "    <tr>\n",
       "      <th>9</th>\n",
       "      <td>sunshine</td>\n",
       "      <td>290.017636</td>\n",
       "    </tr>\n",
       "    <tr>\n",
       "      <th>7</th>\n",
       "      <td>humidity</td>\n",
       "      <td>109.901521</td>\n",
       "    </tr>\n",
       "    <tr>\n",
       "      <th>5</th>\n",
       "      <td>mintemp</td>\n",
       "      <td>23.803650</td>\n",
       "    </tr>\n",
       "    <tr>\n",
       "      <th>3</th>\n",
       "      <td>maxtemp</td>\n",
       "      <td>15.743510</td>\n",
       "    </tr>\n",
       "    <tr>\n",
       "      <th>11</th>\n",
       "      <td>windspeed</td>\n",
       "      <td>15.194060</td>\n",
       "    </tr>\n",
       "    <tr>\n",
       "      <th>10</th>\n",
       "      <td>winddirection</td>\n",
       "      <td>13.744300</td>\n",
       "    </tr>\n",
       "    <tr>\n",
       "      <th>6</th>\n",
       "      <td>dewpoint</td>\n",
       "      <td>11.709510</td>\n",
       "    </tr>\n",
       "    <tr>\n",
       "      <th>1</th>\n",
       "      <td>day</td>\n",
       "      <td>7.668870</td>\n",
       "    </tr>\n",
       "    <tr>\n",
       "      <th>2</th>\n",
       "      <td>pressure</td>\n",
       "      <td>4.007300</td>\n",
       "    </tr>\n",
       "    <tr>\n",
       "      <th>0</th>\n",
       "      <td>id</td>\n",
       "      <td>3.800840</td>\n",
       "    </tr>\n",
       "    <tr>\n",
       "      <th>4</th>\n",
       "      <td>temparature</td>\n",
       "      <td>0.000000</td>\n",
       "    </tr>\n",
       "  </tbody>\n",
       "</table>\n",
       "</div>"
      ],
      "text/plain": [
       "          Feature     LightGBM\n",
       "8           cloud  1556.105089\n",
       "9        sunshine   290.017636\n",
       "7        humidity   109.901521\n",
       "5         mintemp    23.803650\n",
       "3         maxtemp    15.743510\n",
       "11      windspeed    15.194060\n",
       "10  winddirection    13.744300\n",
       "6        dewpoint    11.709510\n",
       "1             day     7.668870\n",
       "2        pressure     4.007300\n",
       "0              id     3.800840\n",
       "4     temparature     0.000000"
      ]
     },
     "metadata": {},
     "output_type": "display_data"
    }
   ],
   "source": [
    "# Get the importance of features for each model using gain\n",
    "lgb_importances = model.booster_.feature_importance(importance_type='gain')\n",
    "\n",
    "# Get the name of the feature\n",
    "feature_names = X.columns\n",
    "\n",
    "# Summarize feature importance in a DataFrame\n",
    "df_importances = pd.DataFrame({\n",
    "    'Feature': feature_names,\n",
    "    'LightGBM': lgb_importances,\n",
    "})\n",
    "\n",
    "# Visualize feature importance\n",
    "plt.figure(figsize=(12, 6))\n",
    "sns.barplot(x='LightGBM', y='Feature', data=df_importances.sort_values(by='LightGBM', ascending=False))\n",
    "plt.title('LightGBM Feature Importances (Gain)')\n",
    "plt.show()\n",
    "\n",
    "display(df_importances.sort_values(by='LightGBM', ascending=False))"
   ]
  },
  {
   "cell_type": "code",
   "execution_count": null,
   "id": "9d6b8c7e",
   "metadata": {
    "papermill": {
     "duration": 0.017103,
     "end_time": "2025-03-25T14:00:58.228338",
     "exception": false,
     "start_time": "2025-03-25T14:00:58.211235",
     "status": "completed"
    },
    "tags": []
   },
   "outputs": [],
   "source": []
  },
  {
   "cell_type": "markdown",
   "id": "55cb5165",
   "metadata": {
    "papermill": {
     "duration": 0.016839,
     "end_time": "2025-03-25T14:00:58.262472",
     "exception": false,
     "start_time": "2025-03-25T14:00:58.245633",
     "status": "completed"
    },
    "tags": []
   },
   "source": [
    "## SHAP"
   ]
  },
  {
   "cell_type": "code",
   "execution_count": 13,
   "id": "a6da282e",
   "metadata": {
    "execution": {
     "iopub.execute_input": "2025-03-25T14:00:58.298465Z",
     "iopub.status.busy": "2025-03-25T14:00:58.298123Z",
     "iopub.status.idle": "2025-03-25T14:01:05.328461Z",
     "shell.execute_reply": "2025-03-25T14:01:05.327423Z"
    },
    "papermill": {
     "duration": 7.050493,
     "end_time": "2025-03-25T14:01:05.330424",
     "exception": false,
     "start_time": "2025-03-25T14:00:58.279931",
     "status": "completed"
    },
    "tags": []
   },
   "outputs": [],
   "source": [
    "import shap\n",
    "\n",
    "# LGBM SHAP values\n",
    "explainer_lgb = shap.TreeExplainer(model)\n",
    "shap_values_lgb = explainer_lgb.shap_values(X)"
   ]
  },
  {
   "cell_type": "code",
   "execution_count": 14,
   "id": "7dc8cf83",
   "metadata": {
    "execution": {
     "iopub.execute_input": "2025-03-25T14:01:05.367696Z",
     "iopub.status.busy": "2025-03-25T14:01:05.366897Z",
     "iopub.status.idle": "2025-03-25T14:01:05.655836Z",
     "shell.execute_reply": "2025-03-25T14:01:05.654688Z"
    },
    "papermill": {
     "duration": 0.309609,
     "end_time": "2025-03-25T14:01:05.657702",
     "exception": false,
     "start_time": "2025-03-25T14:01:05.348093",
     "status": "completed"
    },
    "tags": []
   },
   "outputs": [
    {
     "data": {
      "image/png": "[encoded data removed]",
      "text/plain": [
       "<Figure size 800x630 with 1 Axes>"
      ]
     },
     "metadata": {},
     "output_type": "display_data"
    }
   ],
   "source": [
    "shap.summary_plot(shap_values_lgb, X)"
   ]
  },
  {
   "cell_type": "code",
   "execution_count": 15,
   "id": "b8d69702",
   "metadata": {
    "execution": {
     "iopub.execute_input": "2025-03-25T14:01:05.696360Z",
     "iopub.status.busy": "2025-03-25T14:01:05.695930Z",
     "iopub.status.idle": "2025-03-25T14:01:05.709203Z",
     "shell.execute_reply": "2025-03-25T14:01:05.708091Z"
    },
    "papermill": {
     "duration": 0.03428,
     "end_time": "2025-03-25T14:01:05.710911",
     "exception": false,
     "start_time": "2025-03-25T14:01:05.676631",
     "status": "completed"
    },
    "tags": []
   },
   "outputs": [
    {
     "data": {
      "text/html": [
       "<div>\n",
       "<style scoped>\n",
       "    .dataframe tbody tr th:only-of-type {\n",
       "        vertical-align: middle;\n",
       "    }\n",
       "\n",
       "    .dataframe tbody tr th {\n",
       "        vertical-align: top;\n",
       "    }\n",
       "\n",
       "    .dataframe thead th {\n",
       "        text-align: right;\n",
       "    }\n",
       "</style>\n",
       "<table border=\"1\" class=\"dataframe\">\n",
       "  <thead>\n",
       "    <tr style=\"text-align: right;\">\n",
       "      <th></th>\n",
       "      <th>feature</th>\n",
       "      <th>shap_importance</th>\n",
       "    </tr>\n",
       "  </thead>\n",
       "  <tbody>\n",
       "    <tr>\n",
       "      <th>8</th>\n",
       "      <td>cloud</td>\n",
       "      <td>0.185151</td>\n",
       "    </tr>\n",
       "    <tr>\n",
       "      <th>9</th>\n",
       "      <td>sunshine</td>\n",
       "      <td>0.045506</td>\n",
       "    </tr>\n",
       "    <tr>\n",
       "      <th>7</th>\n",
       "      <td>humidity</td>\n",
       "      <td>0.039594</td>\n",
       "    </tr>\n",
       "    <tr>\n",
       "      <th>5</th>\n",
       "      <td>mintemp</td>\n",
       "      <td>0.009315</td>\n",
       "    </tr>\n",
       "    <tr>\n",
       "      <th>10</th>\n",
       "      <td>winddirection</td>\n",
       "      <td>0.008796</td>\n",
       "    </tr>\n",
       "    <tr>\n",
       "      <th>11</th>\n",
       "      <td>windspeed</td>\n",
       "      <td>0.007432</td>\n",
       "    </tr>\n",
       "    <tr>\n",
       "      <th>2</th>\n",
       "      <td>pressure</td>\n",
       "      <td>0.006630</td>\n",
       "    </tr>\n",
       "    <tr>\n",
       "      <th>6</th>\n",
       "      <td>dewpoint</td>\n",
       "      <td>0.006295</td>\n",
       "    </tr>\n",
       "    <tr>\n",
       "      <th>3</th>\n",
       "      <td>maxtemp</td>\n",
       "      <td>0.006136</td>\n",
       "    </tr>\n",
       "    <tr>\n",
       "      <th>1</th>\n",
       "      <td>day</td>\n",
       "      <td>0.003148</td>\n",
       "    </tr>\n",
       "    <tr>\n",
       "      <th>0</th>\n",
       "      <td>id</td>\n",
       "      <td>0.002967</td>\n",
       "    </tr>\n",
       "    <tr>\n",
       "      <th>4</th>\n",
       "      <td>temparature</td>\n",
       "      <td>0.000000</td>\n",
       "    </tr>\n",
       "  </tbody>\n",
       "</table>\n",
       "</div>"
      ],
      "text/plain": [
       "          feature  shap_importance\n",
       "8           cloud         0.185151\n",
       "9        sunshine         0.045506\n",
       "7        humidity         0.039594\n",
       "5         mintemp         0.009315\n",
       "10  winddirection         0.008796\n",
       "11      windspeed         0.007432\n",
       "2        pressure         0.006630\n",
       "6        dewpoint         0.006295\n",
       "3         maxtemp         0.006136\n",
       "1             day         0.003148\n",
       "0              id         0.002967\n",
       "4     temparature         0.000000"
      ]
     },
     "metadata": {},
     "output_type": "display_data"
    }
   ],
   "source": [
    "# If shap_values_lgb is a list, convert it to a NumPy array\n",
    "if isinstance(shap_values_lgb, list):\n",
    "    shap_values_lgb = np.array(shap_values_lgb)\n",
    "\n",
    "# Handling the multiclass classification case\n",
    "if len(shap_values_lgb.shape) == 3:\n",
    "    shap_importance = np.abs(shap_values_lgb).mean(axis=1).mean(axis=0)\n",
    "# Handling binary classification cases\n",
    "else:\n",
    "    shap_importance = np.abs(shap_values_lgb).mean(axis=0)\n",
    "\n",
    "# Store in DataFrame\n",
    "df_importance = pd.DataFrame({\n",
    "    'feature': X.columns,\n",
    "    'shap_importance': shap_importance\n",
    "})\n",
    "\n",
    "# Sort by importance\n",
    "df_importance = df_importance.sort_values('shap_importance', ascending=False)\n",
    "\n",
    "# Show results\n",
    "display(df_importance)"
   ]
  },
  {
   "cell_type": "code",
   "execution_count": null,
   "id": "a69aa95f",
   "metadata": {
    "papermill": {
     "duration": 0.017978,
     "end_time": "2025-03-25T14:01:05.747444",
     "exception": false,
     "start_time": "2025-03-25T14:01:05.729466",
     "status": "completed"
    },
    "tags": []
   },
   "outputs": [],
   "source": []
  },
  {
   "cell_type": "markdown",
   "id": "192eedf5",
   "metadata": {
    "papermill": {
     "duration": 0.017864,
     "end_time": "2025-03-25T14:01:05.783556",
     "exception": false,
     "start_time": "2025-03-25T14:01:05.765692",
     "status": "completed"
    },
    "tags": []
   },
   "source": [
    "# Prediction"
   ]
  },
  {
   "cell_type": "code",
   "execution_count": 16,
   "id": "a5068cf7",
   "metadata": {
    "execution": {
     "iopub.execute_input": "2025-03-25T14:01:05.821385Z",
     "iopub.status.busy": "2025-03-25T14:01:05.820977Z",
     "iopub.status.idle": "2025-03-25T14:01:05.849311Z",
     "shell.execute_reply": "2025-03-25T14:01:05.848240Z"
    },
    "papermill": {
     "duration": 0.049868,
     "end_time": "2025-03-25T14:01:05.851587",
     "exception": false,
     "start_time": "2025-03-25T14:01:05.801719",
     "status": "completed"
    },
    "tags": []
   },
   "outputs": [],
   "source": [
    "test_id = df_test[\"id\"]\n",
    "test = df_test\n",
    "submit_score = []\n",
    "\n",
    "for fold_, model in enumerate(models):\n",
    "    # predict test data\n",
    "    pred_ = model.predict_proba(test)[:, 1]\n",
    "    submit_score.append(pred_)\n",
    "\n",
    "# predict test data\n",
    "pred = np.mean(submit_score, axis=0)"
   ]
  },
  {
   "cell_type": "code",
   "execution_count": null,
   "id": "db31b4c9",
   "metadata": {
    "papermill": {
     "duration": 0.018802,
     "end_time": "2025-03-25T14:01:05.889091",
     "exception": false,
     "start_time": "2025-03-25T14:01:05.870289",
     "status": "completed"
    },
    "tags": []
   },
   "outputs": [],
   "source": []
  },
  {
   "cell_type": "markdown",
   "id": "c84a798b",
   "metadata": {
    "papermill": {
     "duration": 0.017897,
     "end_time": "2025-03-25T14:01:05.925246",
     "exception": false,
     "start_time": "2025-03-25T14:01:05.907349",
     "status": "completed"
    },
    "tags": []
   },
   "source": [
    "# Submission"
   ]
  },
  {
   "cell_type": "code",
   "execution_count": 17,
   "id": "4eab2207",
   "metadata": {
    "execution": {
     "iopub.execute_input": "2025-03-25T14:01:05.963386Z",
     "iopub.status.busy": "2025-03-25T14:01:05.962990Z",
     "iopub.status.idle": "2025-03-25T14:01:05.983360Z",
     "shell.execute_reply": "2025-03-25T14:01:05.982257Z"
    },
    "papermill": {
     "duration": 0.041716,
     "end_time": "2025-03-25T14:01:05.985266",
     "exception": false,
     "start_time": "2025-03-25T14:01:05.943550",
     "status": "completed"
    },
    "tags": []
   },
   "outputs": [
    {
     "data": {
      "text/html": [
       "<div>\n",
       "<style scoped>\n",
       "    .dataframe tbody tr th:only-of-type {\n",
       "        vertical-align: middle;\n",
       "    }\n",
       "\n",
       "    .dataframe tbody tr th {\n",
       "        vertical-align: top;\n",
       "    }\n",
       "\n",
       "    .dataframe thead th {\n",
       "        text-align: right;\n",
       "    }\n",
       "</style>\n",
       "<table border=\"1\" class=\"dataframe\">\n",
       "  <thead>\n",
       "    <tr style=\"text-align: right;\">\n",
       "      <th></th>\n",
       "      <th>id</th>\n",
       "      <th>rainfall</th>\n",
       "    </tr>\n",
       "  </thead>\n",
       "  <tbody>\n",
       "    <tr>\n",
       "      <th>0</th>\n",
       "      <td>2190</td>\n",
       "      <td>0.894095</td>\n",
       "    </tr>\n",
       "    <tr>\n",
       "      <th>1</th>\n",
       "      <td>2191</td>\n",
       "      <td>0.896582</td>\n",
       "    </tr>\n",
       "    <tr>\n",
       "      <th>2</th>\n",
       "      <td>2192</td>\n",
       "      <td>0.855062</td>\n",
       "    </tr>\n",
       "    <tr>\n",
       "      <th>3</th>\n",
       "      <td>2193</td>\n",
       "      <td>0.387556</td>\n",
       "    </tr>\n",
       "    <tr>\n",
       "      <th>4</th>\n",
       "      <td>2194</td>\n",
       "      <td>0.347272</td>\n",
       "    </tr>\n",
       "    <tr>\n",
       "      <th>...</th>\n",
       "      <td>...</td>\n",
       "      <td>...</td>\n",
       "    </tr>\n",
       "    <tr>\n",
       "      <th>725</th>\n",
       "      <td>2915</td>\n",
       "      <td>0.882150</td>\n",
       "    </tr>\n",
       "    <tr>\n",
       "      <th>726</th>\n",
       "      <td>2916</td>\n",
       "      <td>0.797339</td>\n",
       "    </tr>\n",
       "    <tr>\n",
       "      <th>727</th>\n",
       "      <td>2917</td>\n",
       "      <td>0.881874</td>\n",
       "    </tr>\n",
       "    <tr>\n",
       "      <th>728</th>\n",
       "      <td>2918</td>\n",
       "      <td>0.895354</td>\n",
       "    </tr>\n",
       "    <tr>\n",
       "      <th>729</th>\n",
       "      <td>2919</td>\n",
       "      <td>0.865615</td>\n",
       "    </tr>\n",
       "  </tbody>\n",
       "</table>\n",
       "<p>730 rows × 2 columns</p>\n",
       "</div>"
      ],
      "text/plain": [
       "       id  rainfall\n",
       "0    2190  0.894095\n",
       "1    2191  0.896582\n",
       "2    2192  0.855062\n",
       "3    2193  0.387556\n",
       "4    2194  0.347272\n",
       "..    ...       ...\n",
       "725  2915  0.882150\n",
       "726  2916  0.797339\n",
       "727  2917  0.881874\n",
       "728  2918  0.895354\n",
       "729  2919  0.865615\n",
       "\n",
       "[730 rows x 2 columns]"
      ]
     },
     "execution_count": 17,
     "metadata": {},
     "output_type": "execute_result"
    }
   ],
   "source": [
    "submission = pd.DataFrame({\n",
    "    'id': test_id,\n",
    "    'rainfall': pred\n",
    "})\n",
    "\n",
    "# Save\n",
    "submission.to_csv('submission.csv', index=False)\n",
    "\n",
    "submission"
   ]
  }
 ],
 "metadata": {
  "kaggle": {
   "accelerator": "none",
   "dataSources": [
    {
     "databundleVersionId": 11251744,
     "sourceId": 91714,
     "sourceType": "competition"
    }
   ],
   "dockerImageVersionId": 30918,
   "isGpuEnabled": false,
   "isInternetEnabled": true,
   "language": "python",
   "sourceType": "notebook"
  },
  "kernelspec": {
   "display_name": "Python 3",
   "language": "python",
   "name": "python3"
  },
  "language_info": {
   "codemirror_mode": {
    "name": "ipython",
    "version": 3
   },
   "file_extension": ".py",
   "mimetype": "text/x-python",
   "name": "python",
   "nbconvert_exporter": "python",
   "pygments_lexer": "ipython3",
   "version": "3.10.12"
  },
  "papermill": {
   "default_parameters": {},
   "duration": 103.622086,
   "end_time": "2025-03-25T14:01:08.849488",
   "environment_variables": {},
   "exception": null,
   "input_path": "__notebook__.ipynb",
   "output_path": "__notebook__.ipynb",
   "parameters": {},
   "start_time": "2025-03-25T13:59:25.227402",
   "version": "2.6.0"
  }
 },
 "nbformat": 4,
 "nbformat_minor": 5
}

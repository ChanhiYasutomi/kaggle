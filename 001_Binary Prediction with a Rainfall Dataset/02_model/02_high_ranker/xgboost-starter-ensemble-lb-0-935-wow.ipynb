{
 "cells": [
  {
   "cell_type": "markdown",
   "id": "2153760c",
   "metadata": {},
   "source": [
    "# URL:https://www.kaggle.com/code/cdeotte/xgboost-starter-ensemble-lb-0-935-wow"
   ]
  },
  {
   "cell_type": "markdown",
   "id": "4f29b806",
   "metadata": {
    "execution": {
     "iopub.execute_input": "2025-03-15T19:57:00.901345Z",
     "iopub.status.busy": "2025-03-15T19:57:00.900846Z",
     "iopub.status.idle": "2025-03-15T19:57:00.905208Z",
     "shell.execute_reply": "2025-03-15T19:57:00.904170Z",
     "shell.execute_reply.started": "2025-03-15T19:57:00.901316Z"
    },
    "papermill": {
     "duration": 0.003331,
     "end_time": "2025-03-16T00:25:20.873873",
     "exception": false,
     "start_time": "2025-03-16T00:25:20.870542",
     "status": "completed"
    },
    "tags": []
   },
   "source": [
    "# XGBoost Starter Notebook - LB Ensemble 0.933! Wow!\n",
    "In this notebook, we train an XGBoost model and ensemble it with the best public notebook. The best public notebook achieves `LB = 0.915` and our ensemble achieves `LB = 0.935` Wow!\n",
    "\n",
    "# UPDATE\n",
    "In version 2 we increase `max_depth` from `3` to `6` to allow for more feature interaction and we add regularation `alpha=1` to prevent overifitting which improves generalization to LB test data. This improves ensemble LB score `LB 0.926 => LB 0.935` woohoo!\n",
    "\n",
    "# Load Data"
   ]
  },
  {
   "cell_type": "code",
   "execution_count": 1,
   "id": "d4b65278",
   "metadata": {
    "_cell_guid": "b1076dfc-b9ad-4769-8c92-a6c4dae69d19",
    "_uuid": "8f2839f25d086af736a60e9eeb907d3b93b6e0e5",
    "execution": {
     "iopub.execute_input": "2025-03-16T00:25:20.880932Z",
     "iopub.status.busy": "2025-03-16T00:25:20.880616Z",
     "iopub.status.idle": "2025-03-16T00:25:22.380258Z",
     "shell.execute_reply": "2025-03-16T00:25:22.379365Z"
    },
    "papermill": {
     "duration": 1.504643,
     "end_time": "2025-03-16T00:25:22.381633",
     "exception": false,
     "start_time": "2025-03-16T00:25:20.876990",
     "status": "completed"
    },
    "tags": []
   },
   "outputs": [
    {
     "name": "stdout",
     "output_type": "stream",
     "text": [
      "Train shape (2190, 13)\n"
     ]
    },
    {
     "data": {
      "text/html": [
       "<div>\n",
       "<style scoped>\n",
       "    .dataframe tbody tr th:only-of-type {\n",
       "        vertical-align: middle;\n",
       "    }\n",
       "\n",
       "    .dataframe tbody tr th {\n",
       "        vertical-align: top;\n",
       "    }\n",
       "\n",
       "    .dataframe thead th {\n",
       "        text-align: right;\n",
       "    }\n",
       "</style>\n",
       "<table border=\"1\" class=\"dataframe\">\n",
       "  <thead>\n",
       "    <tr style=\"text-align: right;\">\n",
       "      <th></th>\n",
       "      <th>id</th>\n",
       "      <th>day</th>\n",
       "      <th>pressure</th>\n",
       "      <th>maxtemp</th>\n",
       "      <th>temparature</th>\n",
       "      <th>mintemp</th>\n",
       "      <th>dewpoint</th>\n",
       "      <th>humidity</th>\n",
       "      <th>cloud</th>\n",
       "      <th>sunshine</th>\n",
       "      <th>winddirection</th>\n",
       "      <th>windspeed</th>\n",
       "      <th>rainfall</th>\n",
       "    </tr>\n",
       "  </thead>\n",
       "  <tbody>\n",
       "    <tr>\n",
       "      <th>0</th>\n",
       "      <td>0</td>\n",
       "      <td>1</td>\n",
       "      <td>1017.4</td>\n",
       "      <td>21.2</td>\n",
       "      <td>20.6</td>\n",
       "      <td>19.9</td>\n",
       "      <td>19.4</td>\n",
       "      <td>87.0</td>\n",
       "      <td>88.0</td>\n",
       "      <td>1.1</td>\n",
       "      <td>60.0</td>\n",
       "      <td>17.2</td>\n",
       "      <td>1</td>\n",
       "    </tr>\n",
       "    <tr>\n",
       "      <th>1</th>\n",
       "      <td>1</td>\n",
       "      <td>2</td>\n",
       "      <td>1019.5</td>\n",
       "      <td>16.2</td>\n",
       "      <td>16.9</td>\n",
       "      <td>15.8</td>\n",
       "      <td>15.4</td>\n",
       "      <td>95.0</td>\n",
       "      <td>91.0</td>\n",
       "      <td>0.0</td>\n",
       "      <td>50.0</td>\n",
       "      <td>21.9</td>\n",
       "      <td>1</td>\n",
       "    </tr>\n",
       "    <tr>\n",
       "      <th>2</th>\n",
       "      <td>2</td>\n",
       "      <td>3</td>\n",
       "      <td>1024.1</td>\n",
       "      <td>19.4</td>\n",
       "      <td>16.1</td>\n",
       "      <td>14.6</td>\n",
       "      <td>9.3</td>\n",
       "      <td>75.0</td>\n",
       "      <td>47.0</td>\n",
       "      <td>8.3</td>\n",
       "      <td>70.0</td>\n",
       "      <td>18.1</td>\n",
       "      <td>1</td>\n",
       "    </tr>\n",
       "    <tr>\n",
       "      <th>3</th>\n",
       "      <td>3</td>\n",
       "      <td>4</td>\n",
       "      <td>1013.4</td>\n",
       "      <td>18.1</td>\n",
       "      <td>17.8</td>\n",
       "      <td>16.9</td>\n",
       "      <td>16.8</td>\n",
       "      <td>95.0</td>\n",
       "      <td>95.0</td>\n",
       "      <td>0.0</td>\n",
       "      <td>60.0</td>\n",
       "      <td>35.6</td>\n",
       "      <td>1</td>\n",
       "    </tr>\n",
       "    <tr>\n",
       "      <th>4</th>\n",
       "      <td>4</td>\n",
       "      <td>5</td>\n",
       "      <td>1021.8</td>\n",
       "      <td>21.3</td>\n",
       "      <td>18.4</td>\n",
       "      <td>15.2</td>\n",
       "      <td>9.6</td>\n",
       "      <td>52.0</td>\n",
       "      <td>45.0</td>\n",
       "      <td>3.6</td>\n",
       "      <td>40.0</td>\n",
       "      <td>24.8</td>\n",
       "      <td>0</td>\n",
       "    </tr>\n",
       "  </tbody>\n",
       "</table>\n",
       "</div>"
      ],
      "text/plain": [
       "   id  day  pressure  maxtemp  temparature  mintemp  dewpoint  humidity  \\\n",
       "0   0    1    1017.4     21.2         20.6     19.9      19.4      87.0   \n",
       "1   1    2    1019.5     16.2         16.9     15.8      15.4      95.0   \n",
       "2   2    3    1024.1     19.4         16.1     14.6       9.3      75.0   \n",
       "3   3    4    1013.4     18.1         17.8     16.9      16.8      95.0   \n",
       "4   4    5    1021.8     21.3         18.4     15.2       9.6      52.0   \n",
       "\n",
       "   cloud  sunshine  winddirection  windspeed  rainfall  \n",
       "0   88.0       1.1           60.0       17.2         1  \n",
       "1   91.0       0.0           50.0       21.9         1  \n",
       "2   47.0       8.3           70.0       18.1         1  \n",
       "3   95.0       0.0           60.0       35.6         1  \n",
       "4   45.0       3.6           40.0       24.8         0  "
      ]
     },
     "execution_count": 1,
     "metadata": {},
     "output_type": "execute_result"
    }
   ],
   "source": [
    "import pandas as pd, numpy as np\n",
    "import matplotlib.pyplot as plt\n",
    "\n",
    "train = pd.read_csv(\"/kaggle/input/playground-series-s5e3/train.csv\")\n",
    "print(\"Train shape\", train.shape )\n",
    "train.head()"
   ]
  },
  {
   "cell_type": "code",
   "execution_count": 2,
   "id": "d5026c48",
   "metadata": {
    "execution": {
     "iopub.execute_input": "2025-03-16T00:25:22.389087Z",
     "iopub.status.busy": "2025-03-16T00:25:22.388845Z",
     "iopub.status.idle": "2025-03-16T00:25:22.411128Z",
     "shell.execute_reply": "2025-03-16T00:25:22.410404Z"
    },
    "papermill": {
     "duration": 0.027184,
     "end_time": "2025-03-16T00:25:22.412277",
     "exception": false,
     "start_time": "2025-03-16T00:25:22.385093",
     "status": "completed"
    },
    "tags": []
   },
   "outputs": [
    {
     "name": "stdout",
     "output_type": "stream",
     "text": [
      "Test shape: (730, 12)\n"
     ]
    },
    {
     "data": {
      "text/html": [
       "<div>\n",
       "<style scoped>\n",
       "    .dataframe tbody tr th:only-of-type {\n",
       "        vertical-align: middle;\n",
       "    }\n",
       "\n",
       "    .dataframe tbody tr th {\n",
       "        vertical-align: top;\n",
       "    }\n",
       "\n",
       "    .dataframe thead th {\n",
       "        text-align: right;\n",
       "    }\n",
       "</style>\n",
       "<table border=\"1\" class=\"dataframe\">\n",
       "  <thead>\n",
       "    <tr style=\"text-align: right;\">\n",
       "      <th></th>\n",
       "      <th>id</th>\n",
       "      <th>day</th>\n",
       "      <th>pressure</th>\n",
       "      <th>maxtemp</th>\n",
       "      <th>temparature</th>\n",
       "      <th>mintemp</th>\n",
       "      <th>dewpoint</th>\n",
       "      <th>humidity</th>\n",
       "      <th>cloud</th>\n",
       "      <th>sunshine</th>\n",
       "      <th>winddirection</th>\n",
       "      <th>windspeed</th>\n",
       "    </tr>\n",
       "  </thead>\n",
       "  <tbody>\n",
       "    <tr>\n",
       "      <th>0</th>\n",
       "      <td>2190</td>\n",
       "      <td>1</td>\n",
       "      <td>1019.5</td>\n",
       "      <td>17.5</td>\n",
       "      <td>15.8</td>\n",
       "      <td>12.7</td>\n",
       "      <td>14.9</td>\n",
       "      <td>96.0</td>\n",
       "      <td>99.0</td>\n",
       "      <td>0.0</td>\n",
       "      <td>50.0</td>\n",
       "      <td>24.3</td>\n",
       "    </tr>\n",
       "    <tr>\n",
       "      <th>1</th>\n",
       "      <td>2191</td>\n",
       "      <td>2</td>\n",
       "      <td>1016.5</td>\n",
       "      <td>17.5</td>\n",
       "      <td>16.5</td>\n",
       "      <td>15.8</td>\n",
       "      <td>15.1</td>\n",
       "      <td>97.0</td>\n",
       "      <td>99.0</td>\n",
       "      <td>0.0</td>\n",
       "      <td>50.0</td>\n",
       "      <td>35.3</td>\n",
       "    </tr>\n",
       "    <tr>\n",
       "      <th>2</th>\n",
       "      <td>2192</td>\n",
       "      <td>3</td>\n",
       "      <td>1023.9</td>\n",
       "      <td>11.2</td>\n",
       "      <td>10.4</td>\n",
       "      <td>9.4</td>\n",
       "      <td>8.9</td>\n",
       "      <td>86.0</td>\n",
       "      <td>96.0</td>\n",
       "      <td>0.0</td>\n",
       "      <td>40.0</td>\n",
       "      <td>16.9</td>\n",
       "    </tr>\n",
       "    <tr>\n",
       "      <th>3</th>\n",
       "      <td>2193</td>\n",
       "      <td>4</td>\n",
       "      <td>1022.9</td>\n",
       "      <td>20.6</td>\n",
       "      <td>17.3</td>\n",
       "      <td>15.2</td>\n",
       "      <td>9.5</td>\n",
       "      <td>75.0</td>\n",
       "      <td>45.0</td>\n",
       "      <td>7.1</td>\n",
       "      <td>20.0</td>\n",
       "      <td>50.6</td>\n",
       "    </tr>\n",
       "    <tr>\n",
       "      <th>4</th>\n",
       "      <td>2194</td>\n",
       "      <td>5</td>\n",
       "      <td>1022.2</td>\n",
       "      <td>16.1</td>\n",
       "      <td>13.8</td>\n",
       "      <td>6.4</td>\n",
       "      <td>4.3</td>\n",
       "      <td>68.0</td>\n",
       "      <td>49.0</td>\n",
       "      <td>9.2</td>\n",
       "      <td>20.0</td>\n",
       "      <td>19.4</td>\n",
       "    </tr>\n",
       "  </tbody>\n",
       "</table>\n",
       "</div>"
      ],
      "text/plain": [
       "     id  day  pressure  maxtemp  temparature  mintemp  dewpoint  humidity  \\\n",
       "0  2190    1    1019.5     17.5         15.8     12.7      14.9      96.0   \n",
       "1  2191    2    1016.5     17.5         16.5     15.8      15.1      97.0   \n",
       "2  2192    3    1023.9     11.2         10.4      9.4       8.9      86.0   \n",
       "3  2193    4    1022.9     20.6         17.3     15.2       9.5      75.0   \n",
       "4  2194    5    1022.2     16.1         13.8      6.4       4.3      68.0   \n",
       "\n",
       "   cloud  sunshine  winddirection  windspeed  \n",
       "0   99.0       0.0           50.0       24.3  \n",
       "1   99.0       0.0           50.0       35.3  \n",
       "2   96.0       0.0           40.0       16.9  \n",
       "3   45.0       7.1           20.0       50.6  \n",
       "4   49.0       9.2           20.0       19.4  "
      ]
     },
     "execution_count": 2,
     "metadata": {},
     "output_type": "execute_result"
    }
   ],
   "source": [
    "test = pd.read_csv(\"/kaggle/input/playground-series-s5e3/test.csv\")\n",
    "print(\"Test shape:\", test.shape )\n",
    "test.head()"
   ]
  },
  {
   "cell_type": "code",
   "execution_count": 3,
   "id": "6b458213",
   "metadata": {
    "execution": {
     "iopub.execute_input": "2025-03-16T00:25:22.418758Z",
     "iopub.status.busy": "2025-03-16T00:25:22.418528Z",
     "iopub.status.idle": "2025-03-16T00:25:22.422522Z",
     "shell.execute_reply": "2025-03-16T00:25:22.421822Z"
    },
    "papermill": {
     "duration": 0.008576,
     "end_time": "2025-03-16T00:25:22.423760",
     "exception": false,
     "start_time": "2025-03-16T00:25:22.415184",
     "status": "completed"
    },
    "tags": []
   },
   "outputs": [
    {
     "name": "stdout",
     "output_type": "stream",
     "text": [
      "Our features are:\n",
      "['day', 'pressure', 'maxtemp', 'temparature', 'mintemp', 'dewpoint', 'humidity', 'cloud', 'sunshine', 'winddirection', 'windspeed']\n"
     ]
    }
   ],
   "source": [
    "RMV = ['rainfall','id']\n",
    "FEATURES = [c for c in train.columns if not c in RMV]\n",
    "print(\"Our features are:\")\n",
    "print( FEATURES )"
   ]
  },
  {
   "cell_type": "markdown",
   "id": "815c3242",
   "metadata": {
    "papermill": {
     "duration": 0.002737,
     "end_time": "2025-03-16T00:25:22.429511",
     "exception": false,
     "start_time": "2025-03-16T00:25:22.426774",
     "status": "completed"
    },
    "tags": []
   },
   "source": [
    "# XGBoost\n",
    "We train 5 fold XGBoost model. We use `max_depth=6`, `colsample_bytree=0.9`, and `subsample=0.9`. These are the 3 hyperparameters that i like to tune."
   ]
  },
  {
   "cell_type": "code",
   "execution_count": 4,
   "id": "b401f5e9",
   "metadata": {
    "execution": {
     "iopub.execute_input": "2025-03-16T00:25:22.435839Z",
     "iopub.status.busy": "2025-03-16T00:25:22.435619Z",
     "iopub.status.idle": "2025-03-16T00:25:25.409006Z",
     "shell.execute_reply": "2025-03-16T00:25:25.408173Z"
    },
    "papermill": {
     "duration": 2.978013,
     "end_time": "2025-03-16T00:25:25.410424",
     "exception": false,
     "start_time": "2025-03-16T00:25:22.432411",
     "status": "completed"
    },
    "tags": []
   },
   "outputs": [
    {
     "name": "stdout",
     "output_type": "stream",
     "text": [
      "Using XGBoost version 2.0.3\n"
     ]
    }
   ],
   "source": [
    "from sklearn.model_selection import KFold\n",
    "from xgboost import XGBRegressor, XGBClassifier\n",
    "import xgboost\n",
    "print(\"Using XGBoost version\",xgboost.__version__)"
   ]
  },
  {
   "cell_type": "code",
   "execution_count": 5,
   "id": "ae270680",
   "metadata": {
    "execution": {
     "iopub.execute_input": "2025-03-16T00:25:25.417680Z",
     "iopub.status.busy": "2025-03-16T00:25:25.417281Z",
     "iopub.status.idle": "2025-03-16T00:25:28.107085Z",
     "shell.execute_reply": "2025-03-16T00:25:28.105819Z"
    },
    "papermill": {
     "duration": 2.695051,
     "end_time": "2025-03-16T00:25:28.108735",
     "exception": false,
     "start_time": "2025-03-16T00:25:25.413684",
     "status": "completed"
    },
    "tags": []
   },
   "outputs": [
    {
     "name": "stdout",
     "output_type": "stream",
     "text": [
      "#########################\n",
      "### Fold 1\n",
      "#########################\n",
      "[0]\tvalidation_0-auc:0.84676\n",
      "[100]\tvalidation_0-auc:0.86452\n",
      "[137]\tvalidation_0-auc:0.86173\n",
      "#########################\n",
      "### Fold 2\n",
      "#########################\n",
      "[0]\tvalidation_0-auc:0.86691\n"
     ]
    },
    {
     "name": "stderr",
     "output_type": "stream",
     "text": [
      "/usr/local/lib/python3.10/dist-packages/xgboost/core.py:160: UserWarning: [00:25:26] WARNING: /workspace/src/common/error_msg.cc:58: Falling back to prediction using DMatrix due to mismatched devices. This might lead to higher memory usage and slower performance. XGBoost is running on: cuda:0, while the input data is on: cpu.\n",
      "Potential solutions:\n",
      "- Use a data structure that matches the device ordinal in the booster.\n",
      "- Set the device for booster before call to inplace_predict.\n",
      "\n",
      "This warning will only be shown once.\n",
      "\n",
      "  warnings.warn(smsg, UserWarning)\n"
     ]
    },
    {
     "name": "stdout",
     "output_type": "stream",
     "text": [
      "[100]\tvalidation_0-auc:0.87036\n",
      "[117]\tvalidation_0-auc:0.86668\n",
      "#########################\n",
      "### Fold 3\n",
      "#########################\n",
      "[0]\tvalidation_0-auc:0.86882\n",
      "[100]\tvalidation_0-auc:0.90438\n",
      "[200]\tvalidation_0-auc:0.89831\n",
      "[202]\tvalidation_0-auc:0.89839\n",
      "#########################\n",
      "### Fold 4\n",
      "#########################\n",
      "[0]\tvalidation_0-auc:0.91471\n",
      "[100]\tvalidation_0-auc:0.91840\n",
      "[101]\tvalidation_0-auc:0.91840\n",
      "#########################\n",
      "### Fold 5\n",
      "#########################\n",
      "[0]\tvalidation_0-auc:0.85718\n",
      "[100]\tvalidation_0-auc:0.87551\n",
      "[132]\tvalidation_0-auc:0.87400\n",
      "CPU times: user 2.52 s, sys: 251 ms, total: 2.77 s\n",
      "Wall time: 2.68 s\n"
     ]
    }
   ],
   "source": [
    "%%time\n",
    "FOLDS = 5\n",
    "kf = KFold(n_splits=FOLDS, shuffle=True, random_state=42)\n",
    "    \n",
    "oof_xgb = np.zeros(len(train))\n",
    "pred_xgb = np.zeros(len(test))\n",
    "\n",
    "for i, (train_index, test_index) in enumerate(kf.split(train)):\n",
    "\n",
    "    print(\"#\"*25)\n",
    "    print(f\"### Fold {i+1}\")\n",
    "    print(\"#\"*25)\n",
    "    \n",
    "    x_train = train.loc[train_index,FEATURES].copy()\n",
    "    y_train = train.loc[train_index,\"rainfall\"]    \n",
    "    x_valid = train.loc[test_index,FEATURES].copy()\n",
    "    y_valid = train.loc[test_index,\"rainfall\"]\n",
    "    x_test = test[FEATURES].copy()\n",
    "\n",
    "    model = XGBClassifier(\n",
    "        device=\"cuda\",\n",
    "        max_depth=6,  \n",
    "        colsample_bytree=0.9, \n",
    "        subsample=0.9, \n",
    "        n_estimators=10_000,  \n",
    "        learning_rate=0.1, \n",
    "        eval_metric=\"auc\",\n",
    "        early_stopping_rounds=100,\n",
    "        alpha=1,\n",
    "    )\n",
    "    model.fit(\n",
    "        x_train, y_train,\n",
    "        eval_set=[(x_valid, y_valid)],  \n",
    "        verbose=100 \n",
    "    )\n",
    "\n",
    "    # INFER OOF\n",
    "    oof_xgb[test_index] = model.predict_proba(x_valid)[:,1]\n",
    "    # INFER TEST\n",
    "    pred_xgb += model.predict_proba(x_test)[:,1]\n",
    "\n",
    "# COMPUTE AVERAGE TEST PREDS\n",
    "pred_xgb /= FOLDS"
   ]
  },
  {
   "cell_type": "code",
   "execution_count": 6,
   "id": "93454e96",
   "metadata": {
    "execution": {
     "iopub.execute_input": "2025-03-16T00:25:28.120991Z",
     "iopub.status.busy": "2025-03-16T00:25:28.120763Z",
     "iopub.status.idle": "2025-03-16T00:25:28.141366Z",
     "shell.execute_reply": "2025-03-16T00:25:28.140551Z"
    },
    "papermill": {
     "duration": 0.027783,
     "end_time": "2025-03-16T00:25:28.142564",
     "exception": false,
     "start_time": "2025-03-16T00:25:28.114781",
     "status": "completed"
    },
    "tags": []
   },
   "outputs": [
    {
     "name": "stdout",
     "output_type": "stream",
     "text": [
      "XGBoost CV Score AUC = 0.861\n"
     ]
    }
   ],
   "source": [
    "from sklearn.metrics import roc_auc_score\n",
    "true = train.rainfall.values\n",
    "m = roc_auc_score(true, oof_xgb)\n",
    "print(f\"XGBoost CV Score AUC = {m:.3f}\")"
   ]
  },
  {
   "cell_type": "code",
   "execution_count": 7,
   "id": "7da56c8c",
   "metadata": {
    "execution": {
     "iopub.execute_input": "2025-03-16T00:25:28.151545Z",
     "iopub.status.busy": "2025-03-16T00:25:28.151313Z",
     "iopub.status.idle": "2025-03-16T00:25:28.521917Z",
     "shell.execute_reply": "2025-03-16T00:25:28.521134Z"
    },
    "papermill": {
     "duration": 0.376659,
     "end_time": "2025-03-16T00:25:28.523219",
     "exception": false,
     "start_time": "2025-03-16T00:25:28.146560",
     "status": "completed"
    },
    "tags": []
   },
   "outputs": [
    {
     "data": {
      "image/png": "[encoded data removed]",
      "text/plain": [
       "<Figure size 1000x500 with 1 Axes>"
      ]
     },
     "metadata": {},
     "output_type": "display_data"
    }
   ],
   "source": [
    "feature_importance = model.feature_importances_\n",
    "importance_df = pd.DataFrame({\n",
    "    \"Feature\": FEATURES,  \n",
    "    \"Importance\": feature_importance\n",
    "}).sort_values(by=\"Importance\", ascending=False)\n",
    "plt.figure(figsize=(10, 5))\n",
    "plt.barh(importance_df[\"Feature\"], importance_df[\"Importance\"])\n",
    "plt.xlabel(\"Importance\")\n",
    "plt.ylabel(\"Feature\")\n",
    "plt.title(\"XGBoost Feature Importance\")\n",
    "plt.gca().invert_yaxis()  \n",
    "plt.show()"
   ]
  },
  {
   "cell_type": "markdown",
   "id": "073cfc67",
   "metadata": {
    "papermill": {
     "duration": 0.004555,
     "end_time": "2025-03-16T00:25:28.532385",
     "exception": false,
     "start_time": "2025-03-16T00:25:28.527830",
     "status": "completed"
    },
    "tags": []
   },
   "source": [
    "# Submission CSV Ensemble!\n",
    "We load the best public notebook from version 17 of public notebook which achieves `LB 0.915` (from [here][1]). Then we ensemble our new XGBoost model preditions with weights `-1.0 * XGB + 2.0 * Public`. We use `scipy.stats.rankdata` to normalize predictions before ensemble. We achieve `LB 0.935` hooray!\n",
    "\n",
    "[1]: https://www.kaggle.com/code/act18l/auc-post-processing?scriptVersionId=227652340"
   ]
  },
  {
   "cell_type": "code",
   "execution_count": 8,
   "id": "14e0a0da",
   "metadata": {
    "execution": {
     "iopub.execute_input": "2025-03-16T00:25:28.542022Z",
     "iopub.status.busy": "2025-03-16T00:25:28.541806Z",
     "iopub.status.idle": "2025-03-16T00:25:28.560478Z",
     "shell.execute_reply": "2025-03-16T00:25:28.559725Z"
    },
    "papermill": {
     "duration": 0.02483,
     "end_time": "2025-03-16T00:25:28.561776",
     "exception": false,
     "start_time": "2025-03-16T00:25:28.536946",
     "status": "completed"
    },
    "tags": []
   },
   "outputs": [
    {
     "name": "stdout",
     "output_type": "stream",
     "text": [
      "Best Public Notebook achieves LB = 0.915!\n"
     ]
    },
    {
     "data": {
      "text/html": [
       "<div>\n",
       "<style scoped>\n",
       "    .dataframe tbody tr th:only-of-type {\n",
       "        vertical-align: middle;\n",
       "    }\n",
       "\n",
       "    .dataframe tbody tr th {\n",
       "        vertical-align: top;\n",
       "    }\n",
       "\n",
       "    .dataframe thead th {\n",
       "        text-align: right;\n",
       "    }\n",
       "</style>\n",
       "<table border=\"1\" class=\"dataframe\">\n",
       "  <thead>\n",
       "    <tr style=\"text-align: right;\">\n",
       "      <th></th>\n",
       "      <th>id</th>\n",
       "      <th>rainfall</th>\n",
       "    </tr>\n",
       "  </thead>\n",
       "  <tbody>\n",
       "    <tr>\n",
       "      <th>0</th>\n",
       "      <td>2190</td>\n",
       "      <td>0.978408</td>\n",
       "    </tr>\n",
       "    <tr>\n",
       "      <th>1</th>\n",
       "      <td>2191</td>\n",
       "      <td>0.983057</td>\n",
       "    </tr>\n",
       "    <tr>\n",
       "      <th>2</th>\n",
       "      <td>2192</td>\n",
       "      <td>0.812125</td>\n",
       "    </tr>\n",
       "    <tr>\n",
       "      <th>3</th>\n",
       "      <td>2193</td>\n",
       "      <td>0.160289</td>\n",
       "    </tr>\n",
       "    <tr>\n",
       "      <th>4</th>\n",
       "      <td>2194</td>\n",
       "      <td>0.091565</td>\n",
       "    </tr>\n",
       "  </tbody>\n",
       "</table>\n",
       "</div>"
      ],
      "text/plain": [
       "     id  rainfall\n",
       "0  2190  0.978408\n",
       "1  2191  0.983057\n",
       "2  2192  0.812125\n",
       "3  2193  0.160289\n",
       "4  2194  0.091565"
      ]
     },
     "metadata": {},
     "output_type": "display_data"
    }
   ],
   "source": [
    "print(\"Best Public Notebook achieves LB = 0.915!\")\n",
    "best_public = pd.read_csv(\"/kaggle/input/lb-915-public-notebook/submission.csv\")\n",
    "display( best_public.head() )\n",
    "best_public = best_public.rainfall.values"
   ]
  },
  {
   "cell_type": "code",
   "execution_count": 9,
   "id": "8cb3414f",
   "metadata": {
    "execution": {
     "iopub.execute_input": "2025-03-16T00:25:28.572218Z",
     "iopub.status.busy": "2025-03-16T00:25:28.572005Z",
     "iopub.status.idle": "2025-03-16T00:25:28.593220Z",
     "shell.execute_reply": "2025-03-16T00:25:28.592588Z"
    },
    "papermill": {
     "duration": 0.027936,
     "end_time": "2025-03-16T00:25:28.594474",
     "exception": false,
     "start_time": "2025-03-16T00:25:28.566538",
     "status": "completed"
    },
    "tags": []
   },
   "outputs": [
    {
     "name": "stdout",
     "output_type": "stream",
     "text": [
      "Ensemble achieves LB = 0.935! Hooray!\n",
      "(730, 2)\n"
     ]
    },
    {
     "data": {
      "text/html": [
       "<div>\n",
       "<style scoped>\n",
       "    .dataframe tbody tr th:only-of-type {\n",
       "        vertical-align: middle;\n",
       "    }\n",
       "\n",
       "    .dataframe tbody tr th {\n",
       "        vertical-align: top;\n",
       "    }\n",
       "\n",
       "    .dataframe thead th {\n",
       "        text-align: right;\n",
       "    }\n",
       "</style>\n",
       "<table border=\"1\" class=\"dataframe\">\n",
       "  <thead>\n",
       "    <tr style=\"text-align: right;\">\n",
       "      <th></th>\n",
       "      <th>id</th>\n",
       "      <th>rainfall</th>\n",
       "    </tr>\n",
       "  </thead>\n",
       "  <tbody>\n",
       "    <tr>\n",
       "      <th>0</th>\n",
       "      <td>2190</td>\n",
       "      <td>0.877397</td>\n",
       "    </tr>\n",
       "    <tr>\n",
       "      <th>1</th>\n",
       "      <td>2191</td>\n",
       "      <td>0.928767</td>\n",
       "    </tr>\n",
       "    <tr>\n",
       "      <th>2</th>\n",
       "      <td>2192</td>\n",
       "      <td>0.281507</td>\n",
       "    </tr>\n",
       "    <tr>\n",
       "      <th>3</th>\n",
       "      <td>2193</td>\n",
       "      <td>0.084932</td>\n",
       "    </tr>\n",
       "    <tr>\n",
       "      <th>4</th>\n",
       "      <td>2194</td>\n",
       "      <td>0.019863</td>\n",
       "    </tr>\n",
       "  </tbody>\n",
       "</table>\n",
       "</div>"
      ],
      "text/plain": [
       "     id  rainfall\n",
       "0  2190  0.877397\n",
       "1  2191  0.928767\n",
       "2  2192  0.281507\n",
       "3  2193  0.084932\n",
       "4  2194  0.019863"
      ]
     },
     "execution_count": 9,
     "metadata": {},
     "output_type": "execute_result"
    }
   ],
   "source": [
    "from scipy.stats import rankdata\n",
    "\n",
    "print(\"Ensemble achieves LB = 0.935! Hooray!\")\n",
    "sub = pd.read_csv(\"/kaggle/input/playground-series-s5e3/sample_submission.csv\")\n",
    "sub.rainfall = -1 * rankdata( pred_xgb ) + 2 * rankdata( best_public )\n",
    "sub.rainfall = rankdata( sub.rainfall ) / len(sub)\n",
    "print( sub.shape )\n",
    "sub.to_csv(f\"submission_ensemble.csv\",index=False)\n",
    "sub.head()"
   ]
  }
 ],
 "metadata": {
  "kaggle": {
   "accelerator": "nvidiaTeslaT4",
   "dataSources": [
    {
     "databundleVersionId": 11251744,
     "sourceId": 91714,
     "sourceType": "competition"
    },
    {
     "databundleVersionId": 11429101,
     "datasetId": 6879274,
     "sourceId": 11044487,
     "sourceType": "datasetVersion"
    }
   ],
   "dockerImageVersionId": 30919,
   "isGpuEnabled": true,
   "isInternetEnabled": false,
   "language": "python",
   "sourceType": "notebook"
  },
  "kernelspec": {
   "display_name": "Python 3",
   "language": "python",
   "name": "python3"
  },
  "language_info": {
   "codemirror_mode": {
    "name": "ipython",
    "version": 3
   },
   "file_extension": ".py",
   "mimetype": "text/x-python",
   "name": "python",
   "nbconvert_exporter": "python",
   "pygments_lexer": "ipython3",
   "version": "3.10.12"
  },
  "papermill": {
   "default_parameters": {},
   "duration": 12.139154,
   "end_time": "2025-03-16T00:25:29.216041",
   "environment_variables": {},
   "exception": null,
   "input_path": "__notebook__.ipynb",
   "output_path": "__notebook__.ipynb",
   "parameters": {},
   "start_time": "2025-03-16T00:25:17.076887",
   "version": "2.6.0"
  }
 },
 "nbformat": 4,
 "nbformat_minor": 5
}

{
 "cells": [
  {
   "cell_type": "markdown",
   "id": "accb3e51",
   "metadata": {},
   "source": [
    "# URL:https://www.kaggle.com/code/cdeotte/rapids-knn-starter-ensemble-lb-0-961-wow"
   ]
  },
  {
   "cell_type": "markdown",
   "id": "4d07be7e",
   "metadata": {
    "execution": {
     "iopub.execute_input": "2025-03-15T19:57:00.901345Z",
     "iopub.status.busy": "2025-03-15T19:57:00.900846Z",
     "iopub.status.idle": "2025-03-15T19:57:00.905208Z",
     "shell.execute_reply": "2025-03-15T19:57:00.904170Z",
     "shell.execute_reply.started": "2025-03-15T19:57:00.901316Z"
    },
    "papermill": {
     "duration": 0.002997,
     "end_time": "2025-03-17T16:34:16.073180",
     "exception": false,
     "start_time": "2025-03-17T16:34:16.070183",
     "status": "completed"
    },
    "tags": []
   },
   "source": [
    "# RAPIDS KNN Starter Notebook - LB Ensemble 0.961! Wow!\n",
    "In this notebook, we train a RAPIDS KNN model and ensemble it with the best public notebook. The best public notebook achieves `LB = 0.954` and our ensemble achieves `LB = 0.961` Wow!\n",
    "\n",
    "# DISCLAIMER\n",
    "Note that the ensemble weights in this notebook are overfitted to public LB and will not generalize to private LB. The purpopse of this notebook is to demonstrate that KNN offers model diversity and helps improve ensembles. \n",
    "\n",
    "To find the correct ensemble weights we use the KNN OOF predictions together will all OOF predictions from all models in our ensemble. We find weights to optimize OOF ensemble AUC locally and then use these weights for test predictions during submission (and we ignore public LB score)! Discussion [here][1]\n",
    "\n",
    "# UPDATE\n",
    "In version 2 we increase `n_neighbors` from `101` to `201`. And we give the feature `day` more importance during the KNN distance computation. This improves ensemble LB score `LB 0.956` => `LB 0.961` woohoo!\n",
    "\n",
    "# Load Data\n",
    "\n",
    "[1]: https://www.kaggle.com/competitions/playground-series-s5e3/discussion/568455"
   ]
  },
  {
   "cell_type": "code",
   "execution_count": 1,
   "id": "3890a36f",
   "metadata": {
    "_cell_guid": "b1076dfc-b9ad-4769-8c92-a6c4dae69d19",
    "_uuid": "8f2839f25d086af736a60e9eeb907d3b93b6e0e5",
    "execution": {
     "iopub.execute_input": "2025-03-17T16:34:16.079272Z",
     "iopub.status.busy": "2025-03-17T16:34:16.079036Z",
     "iopub.status.idle": "2025-03-17T16:34:17.393005Z",
     "shell.execute_reply": "2025-03-17T16:34:17.392144Z"
    },
    "papermill": {
     "duration": 1.318529,
     "end_time": "2025-03-17T16:34:17.394441",
     "exception": false,
     "start_time": "2025-03-17T16:34:16.075912",
     "status": "completed"
    },
    "tags": []
   },
   "outputs": [
    {
     "name": "stdout",
     "output_type": "stream",
     "text": [
      "Train shape (2190, 13)\n"
     ]
    },
    {
     "data": {
      "text/html": [
       "<div>\n",
       "<style scoped>\n",
       "    .dataframe tbody tr th:only-of-type {\n",
       "        vertical-align: middle;\n",
       "    }\n",
       "\n",
       "    .dataframe tbody tr th {\n",
       "        vertical-align: top;\n",
       "    }\n",
       "\n",
       "    .dataframe thead th {\n",
       "        text-align: right;\n",
       "    }\n",
       "</style>\n",
       "<table border=\"1\" class=\"dataframe\">\n",
       "  <thead>\n",
       "    <tr style=\"text-align: right;\">\n",
       "      <th></th>\n",
       "      <th>id</th>\n",
       "      <th>day</th>\n",
       "      <th>pressure</th>\n",
       "      <th>maxtemp</th>\n",
       "      <th>temparature</th>\n",
       "      <th>mintemp</th>\n",
       "      <th>dewpoint</th>\n",
       "      <th>humidity</th>\n",
       "      <th>cloud</th>\n",
       "      <th>sunshine</th>\n",
       "      <th>winddirection</th>\n",
       "      <th>windspeed</th>\n",
       "      <th>rainfall</th>\n",
       "    </tr>\n",
       "  </thead>\n",
       "  <tbody>\n",
       "    <tr>\n",
       "      <th>0</th>\n",
       "      <td>0</td>\n",
       "      <td>1</td>\n",
       "      <td>1017.4</td>\n",
       "      <td>21.2</td>\n",
       "      <td>20.6</td>\n",
       "      <td>19.9</td>\n",
       "      <td>19.4</td>\n",
       "      <td>87.0</td>\n",
       "      <td>88.0</td>\n",
       "      <td>1.1</td>\n",
       "      <td>60.0</td>\n",
       "      <td>17.2</td>\n",
       "      <td>1</td>\n",
       "    </tr>\n",
       "    <tr>\n",
       "      <th>1</th>\n",
       "      <td>1</td>\n",
       "      <td>2</td>\n",
       "      <td>1019.5</td>\n",
       "      <td>16.2</td>\n",
       "      <td>16.9</td>\n",
       "      <td>15.8</td>\n",
       "      <td>15.4</td>\n",
       "      <td>95.0</td>\n",
       "      <td>91.0</td>\n",
       "      <td>0.0</td>\n",
       "      <td>50.0</td>\n",
       "      <td>21.9</td>\n",
       "      <td>1</td>\n",
       "    </tr>\n",
       "    <tr>\n",
       "      <th>2</th>\n",
       "      <td>2</td>\n",
       "      <td>3</td>\n",
       "      <td>1024.1</td>\n",
       "      <td>19.4</td>\n",
       "      <td>16.1</td>\n",
       "      <td>14.6</td>\n",
       "      <td>9.3</td>\n",
       "      <td>75.0</td>\n",
       "      <td>47.0</td>\n",
       "      <td>8.3</td>\n",
       "      <td>70.0</td>\n",
       "      <td>18.1</td>\n",
       "      <td>1</td>\n",
       "    </tr>\n",
       "    <tr>\n",
       "      <th>3</th>\n",
       "      <td>3</td>\n",
       "      <td>4</td>\n",
       "      <td>1013.4</td>\n",
       "      <td>18.1</td>\n",
       "      <td>17.8</td>\n",
       "      <td>16.9</td>\n",
       "      <td>16.8</td>\n",
       "      <td>95.0</td>\n",
       "      <td>95.0</td>\n",
       "      <td>0.0</td>\n",
       "      <td>60.0</td>\n",
       "      <td>35.6</td>\n",
       "      <td>1</td>\n",
       "    </tr>\n",
       "    <tr>\n",
       "      <th>4</th>\n",
       "      <td>4</td>\n",
       "      <td>5</td>\n",
       "      <td>1021.8</td>\n",
       "      <td>21.3</td>\n",
       "      <td>18.4</td>\n",
       "      <td>15.2</td>\n",
       "      <td>9.6</td>\n",
       "      <td>52.0</td>\n",
       "      <td>45.0</td>\n",
       "      <td>3.6</td>\n",
       "      <td>40.0</td>\n",
       "      <td>24.8</td>\n",
       "      <td>0</td>\n",
       "    </tr>\n",
       "  </tbody>\n",
       "</table>\n",
       "</div>"
      ],
      "text/plain": [
       "   id  day  pressure  maxtemp  temparature  mintemp  dewpoint  humidity  \\\n",
       "0   0    1    1017.4     21.2         20.6     19.9      19.4      87.0   \n",
       "1   1    2    1019.5     16.2         16.9     15.8      15.4      95.0   \n",
       "2   2    3    1024.1     19.4         16.1     14.6       9.3      75.0   \n",
       "3   3    4    1013.4     18.1         17.8     16.9      16.8      95.0   \n",
       "4   4    5    1021.8     21.3         18.4     15.2       9.6      52.0   \n",
       "\n",
       "   cloud  sunshine  winddirection  windspeed  rainfall  \n",
       "0   88.0       1.1           60.0       17.2         1  \n",
       "1   91.0       0.0           50.0       21.9         1  \n",
       "2   47.0       8.3           70.0       18.1         1  \n",
       "3   95.0       0.0           60.0       35.6         1  \n",
       "4   45.0       3.6           40.0       24.8         0  "
      ]
     },
     "execution_count": 1,
     "metadata": {},
     "output_type": "execute_result"
    }
   ],
   "source": [
    "import pandas as pd, numpy as np\n",
    "import matplotlib.pyplot as plt\n",
    "\n",
    "train = pd.read_csv(\"/kaggle/input/playground-series-s5e3/train.csv\")\n",
    "print(\"Train shape\", train.shape )\n",
    "train.head()"
   ]
  },
  {
   "cell_type": "code",
   "execution_count": 2,
   "id": "31844c63",
   "metadata": {
    "execution": {
     "iopub.execute_input": "2025-03-17T16:34:17.401327Z",
     "iopub.status.busy": "2025-03-17T16:34:17.401097Z",
     "iopub.status.idle": "2025-03-17T16:34:17.420553Z",
     "shell.execute_reply": "2025-03-17T16:34:17.419882Z"
    },
    "papermill": {
     "duration": 0.024017,
     "end_time": "2025-03-17T16:34:17.421763",
     "exception": false,
     "start_time": "2025-03-17T16:34:17.397746",
     "status": "completed"
    },
    "tags": []
   },
   "outputs": [
    {
     "name": "stdout",
     "output_type": "stream",
     "text": [
      "Test shape: (730, 12)\n"
     ]
    },
    {
     "data": {
      "text/html": [
       "<div>\n",
       "<style scoped>\n",
       "    .dataframe tbody tr th:only-of-type {\n",
       "        vertical-align: middle;\n",
       "    }\n",
       "\n",
       "    .dataframe tbody tr th {\n",
       "        vertical-align: top;\n",
       "    }\n",
       "\n",
       "    .dataframe thead th {\n",
       "        text-align: right;\n",
       "    }\n",
       "</style>\n",
       "<table border=\"1\" class=\"dataframe\">\n",
       "  <thead>\n",
       "    <tr style=\"text-align: right;\">\n",
       "      <th></th>\n",
       "      <th>id</th>\n",
       "      <th>day</th>\n",
       "      <th>pressure</th>\n",
       "      <th>maxtemp</th>\n",
       "      <th>temparature</th>\n",
       "      <th>mintemp</th>\n",
       "      <th>dewpoint</th>\n",
       "      <th>humidity</th>\n",
       "      <th>cloud</th>\n",
       "      <th>sunshine</th>\n",
       "      <th>winddirection</th>\n",
       "      <th>windspeed</th>\n",
       "    </tr>\n",
       "  </thead>\n",
       "  <tbody>\n",
       "    <tr>\n",
       "      <th>0</th>\n",
       "      <td>2190</td>\n",
       "      <td>1</td>\n",
       "      <td>1019.5</td>\n",
       "      <td>17.5</td>\n",
       "      <td>15.8</td>\n",
       "      <td>12.7</td>\n",
       "      <td>14.9</td>\n",
       "      <td>96.0</td>\n",
       "      <td>99.0</td>\n",
       "      <td>0.0</td>\n",
       "      <td>50.0</td>\n",
       "      <td>24.3</td>\n",
       "    </tr>\n",
       "    <tr>\n",
       "      <th>1</th>\n",
       "      <td>2191</td>\n",
       "      <td>2</td>\n",
       "      <td>1016.5</td>\n",
       "      <td>17.5</td>\n",
       "      <td>16.5</td>\n",
       "      <td>15.8</td>\n",
       "      <td>15.1</td>\n",
       "      <td>97.0</td>\n",
       "      <td>99.0</td>\n",
       "      <td>0.0</td>\n",
       "      <td>50.0</td>\n",
       "      <td>35.3</td>\n",
       "    </tr>\n",
       "    <tr>\n",
       "      <th>2</th>\n",
       "      <td>2192</td>\n",
       "      <td>3</td>\n",
       "      <td>1023.9</td>\n",
       "      <td>11.2</td>\n",
       "      <td>10.4</td>\n",
       "      <td>9.4</td>\n",
       "      <td>8.9</td>\n",
       "      <td>86.0</td>\n",
       "      <td>96.0</td>\n",
       "      <td>0.0</td>\n",
       "      <td>40.0</td>\n",
       "      <td>16.9</td>\n",
       "    </tr>\n",
       "    <tr>\n",
       "      <th>3</th>\n",
       "      <td>2193</td>\n",
       "      <td>4</td>\n",
       "      <td>1022.9</td>\n",
       "      <td>20.6</td>\n",
       "      <td>17.3</td>\n",
       "      <td>15.2</td>\n",
       "      <td>9.5</td>\n",
       "      <td>75.0</td>\n",
       "      <td>45.0</td>\n",
       "      <td>7.1</td>\n",
       "      <td>20.0</td>\n",
       "      <td>50.6</td>\n",
       "    </tr>\n",
       "    <tr>\n",
       "      <th>4</th>\n",
       "      <td>2194</td>\n",
       "      <td>5</td>\n",
       "      <td>1022.2</td>\n",
       "      <td>16.1</td>\n",
       "      <td>13.8</td>\n",
       "      <td>6.4</td>\n",
       "      <td>4.3</td>\n",
       "      <td>68.0</td>\n",
       "      <td>49.0</td>\n",
       "      <td>9.2</td>\n",
       "      <td>20.0</td>\n",
       "      <td>19.4</td>\n",
       "    </tr>\n",
       "  </tbody>\n",
       "</table>\n",
       "</div>"
      ],
      "text/plain": [
       "     id  day  pressure  maxtemp  temparature  mintemp  dewpoint  humidity  \\\n",
       "0  2190    1    1019.5     17.5         15.8     12.7      14.9      96.0   \n",
       "1  2191    2    1016.5     17.5         16.5     15.8      15.1      97.0   \n",
       "2  2192    3    1023.9     11.2         10.4      9.4       8.9      86.0   \n",
       "3  2193    4    1022.9     20.6         17.3     15.2       9.5      75.0   \n",
       "4  2194    5    1022.2     16.1         13.8      6.4       4.3      68.0   \n",
       "\n",
       "   cloud  sunshine  winddirection  windspeed  \n",
       "0   99.0       0.0           50.0       24.3  \n",
       "1   99.0       0.0           50.0       35.3  \n",
       "2   96.0       0.0           40.0       16.9  \n",
       "3   45.0       7.1           20.0       50.6  \n",
       "4   49.0       9.2           20.0       19.4  "
      ]
     },
     "execution_count": 2,
     "metadata": {},
     "output_type": "execute_result"
    }
   ],
   "source": [
    "test = pd.read_csv(\"/kaggle/input/playground-series-s5e3/test.csv\")\n",
    "print(\"Test shape:\", test.shape )\n",
    "test.head()"
   ]
  },
  {
   "cell_type": "code",
   "execution_count": 3,
   "id": "9ded387a",
   "metadata": {
    "execution": {
     "iopub.execute_input": "2025-03-17T16:34:17.428414Z",
     "iopub.status.busy": "2025-03-17T16:34:17.428184Z",
     "iopub.status.idle": "2025-03-17T16:34:17.432622Z",
     "shell.execute_reply": "2025-03-17T16:34:17.431807Z"
    },
    "papermill": {
     "duration": 0.009061,
     "end_time": "2025-03-17T16:34:17.433760",
     "exception": false,
     "start_time": "2025-03-17T16:34:17.424699",
     "status": "completed"
    },
    "tags": []
   },
   "outputs": [
    {
     "name": "stdout",
     "output_type": "stream",
     "text": [
      "Our features are:\n",
      "['day', 'pressure', 'maxtemp', 'temparature', 'mintemp', 'dewpoint', 'humidity', 'cloud', 'sunshine', 'winddirection', 'windspeed']\n"
     ]
    }
   ],
   "source": [
    "RMV = ['rainfall','id']\n",
    "FEATURES = [c for c in train.columns if not c in RMV]\n",
    "print(\"Our features are:\")\n",
    "print( FEATURES )"
   ]
  },
  {
   "cell_type": "markdown",
   "id": "18ac9977",
   "metadata": {
    "papermill": {
     "duration": 0.002946,
     "end_time": "2025-03-17T16:34:17.439662",
     "exception": false,
     "start_time": "2025-03-17T16:34:17.436716",
     "status": "completed"
    },
    "tags": []
   },
   "source": [
    "# KNN Model\n",
    "We train 5 fold RAPIDS KNN classification model using 201 neighbors! We standardize all features to mean=0, std=1 because KNN likes this.\n",
    "\n",
    "**UPDATE**: We adjust the weights of the features to increase/decrease importance of certain features during KNN distance computation."
   ]
  },
  {
   "cell_type": "code",
   "execution_count": 4,
   "id": "5a6612af",
   "metadata": {
    "execution": {
     "iopub.execute_input": "2025-03-17T16:34:17.446029Z",
     "iopub.status.busy": "2025-03-17T16:34:17.445797Z",
     "iopub.status.idle": "2025-03-17T16:34:30.434964Z",
     "shell.execute_reply": "2025-03-17T16:34:30.434263Z"
    },
    "papermill": {
     "duration": 12.99409,
     "end_time": "2025-03-17T16:34:30.436672",
     "exception": false,
     "start_time": "2025-03-17T16:34:17.442582",
     "status": "completed"
    },
    "tags": []
   },
   "outputs": [],
   "source": [
    "from sklearn.model_selection import KFold\n",
    "from cuml.neighbors import KNeighborsClassifier"
   ]
  },
  {
   "cell_type": "code",
   "execution_count": 5,
   "id": "830e5020",
   "metadata": {
    "execution": {
     "iopub.execute_input": "2025-03-17T16:34:30.444246Z",
     "iopub.status.busy": "2025-03-17T16:34:30.443786Z",
     "iopub.status.idle": "2025-03-17T16:34:30.447706Z",
     "shell.execute_reply": "2025-03-17T16:34:30.446886Z"
    },
    "papermill": {
     "duration": 0.0087,
     "end_time": "2025-03-17T16:34:30.448972",
     "exception": false,
     "start_time": "2025-03-17T16:34:30.440272",
     "status": "completed"
    },
    "tags": []
   },
   "outputs": [],
   "source": [
    "# WEIGHTS TO ADJUST IMPORTANCE OF FEATURES DURING KNN\n",
    "WGT = {'day': 24, 'pressure': 1, 'maxtemp': 1, 'temparature': 1, 'mintemp': 1, 'dewpoint': 1, 'humidity': 1, \n",
    "       'cloud': 1, 'sunshine': 1, 'winddirection': 1, 'windspeed': 1}"
   ]
  },
  {
   "cell_type": "code",
   "execution_count": 6,
   "id": "404de9fd",
   "metadata": {
    "execution": {
     "iopub.execute_input": "2025-03-17T16:34:30.455568Z",
     "iopub.status.busy": "2025-03-17T16:34:30.455335Z",
     "iopub.status.idle": "2025-03-17T16:34:34.375551Z",
     "shell.execute_reply": "2025-03-17T16:34:34.374441Z"
    },
    "papermill": {
     "duration": 3.925303,
     "end_time": "2025-03-17T16:34:34.377281",
     "exception": false,
     "start_time": "2025-03-17T16:34:30.451978",
     "status": "completed"
    },
    "tags": []
   },
   "outputs": [
    {
     "name": "stdout",
     "output_type": "stream",
     "text": [
      "#########################\n",
      "### Fold 1\n",
      "#########################\n",
      "#########################\n",
      "### Fold 2\n",
      "#########################\n",
      "#########################\n",
      "### Fold 3\n",
      "#########################\n",
      "#########################\n",
      "### Fold 4\n",
      "#########################\n",
      "#########################\n",
      "### Fold 5\n",
      "#########################\n",
      "CPU times: user 2.32 s, sys: 493 ms, total: 2.81 s\n",
      "Wall time: 3.8 s\n",
      "Parser   : 113 ms\n"
     ]
    }
   ],
   "source": [
    "%%time\n",
    "FOLDS = 5\n",
    "kf = KFold(n_splits=FOLDS, shuffle=True, random_state=777)\n",
    "    \n",
    "oof_knn = np.zeros(len(train))\n",
    "pred_knn = np.zeros(len(test))\n",
    "\n",
    "for i, (train_index, test_index) in enumerate(kf.split(train)):\n",
    "\n",
    "    print(\"#\"*25)\n",
    "    print(f\"### Fold {i+1}\")\n",
    "    print(\"#\"*25)\n",
    "    \n",
    "    x_train = train.loc[train_index,FEATURES].copy()\n",
    "    y_train = train.loc[train_index,\"rainfall\"]    \n",
    "    x_valid = train.loc[test_index,FEATURES].copy()\n",
    "    y_valid = train.loc[test_index,\"rainfall\"]\n",
    "    x_test = test[FEATURES].copy()\n",
    "\n",
    "    for c in FEATURES:\n",
    "        m = x_train[c].mean()\n",
    "        s = x_train[c].std()\n",
    "        x_train[c] = WGT[c] * (x_train[c]-m)/s\n",
    "        x_valid[c] = WGT[c] * (x_valid[c]-m)/s\n",
    "        x_test[c] = WGT[c] * (x_test[c]-m)/s\n",
    "        x_test[c] = x_test[c].fillna(0)\n",
    "        x_train[c] = x_train[c].fillna(0)\n",
    "\n",
    "    model = KNeighborsClassifier(n_neighbors=201, p=1)\n",
    "    model.fit(x_train.values, y_train.values)\n",
    "\n",
    "    # INFER OOF\n",
    "    oof_knn[test_index] = model.predict_proba(x_valid.values)[:,1]\n",
    "    # INFER TEST\n",
    "    pred_knn += model.predict_proba(x_test.values)[:,1]\n",
    "\n",
    "# COMPUTE AVERAGE TEST PREDS\n",
    "pred_knn /= FOLDS"
   ]
  },
  {
   "cell_type": "code",
   "execution_count": 7,
   "id": "fe68e311",
   "metadata": {
    "execution": {
     "iopub.execute_input": "2025-03-17T16:34:34.385553Z",
     "iopub.status.busy": "2025-03-17T16:34:34.385305Z",
     "iopub.status.idle": "2025-03-17T16:34:34.398454Z",
     "shell.execute_reply": "2025-03-17T16:34:34.397649Z"
    },
    "papermill": {
     "duration": 0.018584,
     "end_time": "2025-03-17T16:34:34.399650",
     "exception": false,
     "start_time": "2025-03-17T16:34:34.381066",
     "status": "completed"
    },
    "tags": []
   },
   "outputs": [
    {
     "name": "stdout",
     "output_type": "stream",
     "text": [
      "KNN CV Score AUC = 0.751\n"
     ]
    }
   ],
   "source": [
    "from sklearn.metrics import roc_auc_score\n",
    "true = train.rainfall.values\n",
    "m = roc_auc_score(true, oof_knn)\n",
    "print(f\"KNN CV Score AUC = {m:.3f}\")"
   ]
  },
  {
   "cell_type": "markdown",
   "id": "1a075ad1",
   "metadata": {
    "papermill": {
     "duration": 0.003025,
     "end_time": "2025-03-17T16:34:34.405722",
     "exception": false,
     "start_time": "2025-03-17T16:34:34.402697",
     "status": "completed"
    },
    "tags": []
   },
   "source": [
    "# Submission CSV Ensemble!\n",
    "We load the best public notebook from version 1 of public notebook which achieves `LB 0.954` (from [here][1]). Then we ensemble our new KNN model preditions with weights `-0.25 * KNN + 1.25 * Public`. We use `scipy.stats.rankdata` to normalize predictions before ensemble. We achieve `LB 0.961` hooray!\n",
    "\n",
    "[1]: https://www.kaggle.com/code/act18l/lb-probing"
   ]
  },
  {
   "cell_type": "code",
   "execution_count": 8,
   "id": "2bb25533",
   "metadata": {
    "execution": {
     "iopub.execute_input": "2025-03-17T16:34:34.412540Z",
     "iopub.status.busy": "2025-03-17T16:34:34.412324Z",
     "iopub.status.idle": "2025-03-17T16:34:34.427577Z",
     "shell.execute_reply": "2025-03-17T16:34:34.426892Z"
    },
    "papermill": {
     "duration": 0.019991,
     "end_time": "2025-03-17T16:34:34.428782",
     "exception": false,
     "start_time": "2025-03-17T16:34:34.408791",
     "status": "completed"
    },
    "tags": []
   },
   "outputs": [
    {
     "name": "stdout",
     "output_type": "stream",
     "text": [
      "Best Public Notebook achieves LB = 0.954!\n"
     ]
    },
    {
     "data": {
      "text/html": [
       "<div>\n",
       "<style scoped>\n",
       "    .dataframe tbody tr th:only-of-type {\n",
       "        vertical-align: middle;\n",
       "    }\n",
       "\n",
       "    .dataframe tbody tr th {\n",
       "        vertical-align: top;\n",
       "    }\n",
       "\n",
       "    .dataframe thead th {\n",
       "        text-align: right;\n",
       "    }\n",
       "</style>\n",
       "<table border=\"1\" class=\"dataframe\">\n",
       "  <thead>\n",
       "    <tr style=\"text-align: right;\">\n",
       "      <th></th>\n",
       "      <th>id</th>\n",
       "      <th>rainfall</th>\n",
       "    </tr>\n",
       "  </thead>\n",
       "  <tbody>\n",
       "    <tr>\n",
       "      <th>0</th>\n",
       "      <td>2190</td>\n",
       "      <td>2.000000</td>\n",
       "    </tr>\n",
       "    <tr>\n",
       "      <th>1</th>\n",
       "      <td>2191</td>\n",
       "      <td>2.000000</td>\n",
       "    </tr>\n",
       "    <tr>\n",
       "      <th>2</th>\n",
       "      <td>2192</td>\n",
       "      <td>2.000000</td>\n",
       "    </tr>\n",
       "    <tr>\n",
       "      <th>3</th>\n",
       "      <td>2193</td>\n",
       "      <td>0.084932</td>\n",
       "    </tr>\n",
       "    <tr>\n",
       "      <th>4</th>\n",
       "      <td>2194</td>\n",
       "      <td>0.019863</td>\n",
       "    </tr>\n",
       "  </tbody>\n",
       "</table>\n",
       "</div>"
      ],
      "text/plain": [
       "     id  rainfall\n",
       "0  2190  2.000000\n",
       "1  2191  2.000000\n",
       "2  2192  2.000000\n",
       "3  2193  0.084932\n",
       "4  2194  0.019863"
      ]
     },
     "metadata": {},
     "output_type": "display_data"
    }
   ],
   "source": [
    "print(\"Best Public Notebook achieves LB = 0.954!\")\n",
    "best_public = pd.read_csv(\"/kaggle/input/lb-915-public-notebook/submission95427.csv\")\n",
    "display( best_public.head() )\n",
    "best_public = best_public.rainfall.values"
   ]
  },
  {
   "cell_type": "code",
   "execution_count": 9,
   "id": "698410b0",
   "metadata": {
    "execution": {
     "iopub.execute_input": "2025-03-17T16:34:34.436115Z",
     "iopub.status.busy": "2025-03-17T16:34:34.435824Z",
     "iopub.status.idle": "2025-03-17T16:34:34.457739Z",
     "shell.execute_reply": "2025-03-17T16:34:34.457026Z"
    },
    "papermill": {
     "duration": 0.027,
     "end_time": "2025-03-17T16:34:34.459096",
     "exception": false,
     "start_time": "2025-03-17T16:34:34.432096",
     "status": "completed"
    },
    "tags": []
   },
   "outputs": [
    {
     "name": "stdout",
     "output_type": "stream",
     "text": [
      "Ensemble achieves LB = 0.961! Hooray!\n",
      "(730, 2)\n"
     ]
    },
    {
     "data": {
      "text/html": [
       "<div>\n",
       "<style scoped>\n",
       "    .dataframe tbody tr th:only-of-type {\n",
       "        vertical-align: middle;\n",
       "    }\n",
       "\n",
       "    .dataframe tbody tr th {\n",
       "        vertical-align: top;\n",
       "    }\n",
       "\n",
       "    .dataframe thead th {\n",
       "        text-align: right;\n",
       "    }\n",
       "</style>\n",
       "<table border=\"1\" class=\"dataframe\">\n",
       "  <thead>\n",
       "    <tr style=\"text-align: right;\">\n",
       "      <th></th>\n",
       "      <th>id</th>\n",
       "      <th>rainfall</th>\n",
       "    </tr>\n",
       "  </thead>\n",
       "  <tbody>\n",
       "    <tr>\n",
       "      <th>0</th>\n",
       "      <td>2190</td>\n",
       "      <td>0.997260</td>\n",
       "    </tr>\n",
       "    <tr>\n",
       "      <th>1</th>\n",
       "      <td>2191</td>\n",
       "      <td>0.995890</td>\n",
       "    </tr>\n",
       "    <tr>\n",
       "      <th>2</th>\n",
       "      <td>2192</td>\n",
       "      <td>0.998630</td>\n",
       "    </tr>\n",
       "    <tr>\n",
       "      <th>3</th>\n",
       "      <td>2193</td>\n",
       "      <td>0.121918</td>\n",
       "    </tr>\n",
       "    <tr>\n",
       "      <th>4</th>\n",
       "      <td>2194</td>\n",
       "      <td>0.057534</td>\n",
       "    </tr>\n",
       "  </tbody>\n",
       "</table>\n",
       "</div>"
      ],
      "text/plain": [
       "     id  rainfall\n",
       "0  2190  0.997260\n",
       "1  2191  0.995890\n",
       "2  2192  0.998630\n",
       "3  2193  0.121918\n",
       "4  2194  0.057534"
      ]
     },
     "execution_count": 9,
     "metadata": {},
     "output_type": "execute_result"
    }
   ],
   "source": [
    "from scipy.stats import rankdata\n",
    "\n",
    "print(\"Ensemble achieves LB = 0.961! Hooray!\")\n",
    "sub = pd.read_csv(\"/kaggle/input/playground-series-s5e3/sample_submission.csv\")\n",
    "sub.rainfall = -0.25 * rankdata( pred_knn ) + 1.25 * rankdata( best_public )\n",
    "sub.rainfall = rankdata( sub.rainfall ) / len(sub)\n",
    "print( sub.shape )\n",
    "sub.to_csv(f\"submission_ensemble.csv\",index=False)\n",
    "sub.head()"
   ]
  }
 ],
 "metadata": {
  "kaggle": {
   "accelerator": "nvidiaTeslaT4",
   "dataSources": [
    {
     "databundleVersionId": 11251744,
     "isSourceIdPinned": false,
     "sourceId": 91714,
     "sourceType": "competition"
    },
    {
     "datasetId": 6879274,
     "sourceId": 11045221,
     "sourceType": "datasetVersion"
    }
   ],
   "dockerImageVersionId": 30919,
   "isGpuEnabled": true,
   "isInternetEnabled": false,
   "language": "python",
   "sourceType": "notebook"
  },
  "kernelspec": {
   "display_name": "Python 3",
   "language": "python",
   "name": "python3"
  },
  "language_info": {
   "codemirror_mode": {
    "name": "ipython",
    "version": 3
   },
   "file_extension": ".py",
   "mimetype": "text/x-python",
   "name": "python",
   "nbconvert_exporter": "python",
   "pygments_lexer": "ipython3",
   "version": "3.10.12"
  },
  "papermill": {
   "default_parameters": {},
   "duration": 24.30381,
   "end_time": "2025-03-17T16:34:36.711285",
   "environment_variables": {},
   "exception": null,
   "input_path": "__notebook__.ipynb",
   "output_path": "__notebook__.ipynb",
   "parameters": {},
   "start_time": "2025-03-17T16:34:12.407475",
   "version": "2.6.0"
  }
 },
 "nbformat": 4,
 "nbformat_minor": 5
}

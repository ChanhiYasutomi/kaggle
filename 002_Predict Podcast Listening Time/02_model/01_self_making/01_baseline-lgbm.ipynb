{
 "cells": [
  {
   "cell_type": "markdown",
   "id": "68b79215",
   "metadata": {
    "papermill": {
     "duration": 0.0072,
     "end_time": "2025-04-09T14:11:45.598889",
     "exception": false,
     "start_time": "2025-04-09T14:11:45.591689",
     "status": "completed"
    },
    "tags": []
   },
   "source": [
    "# Importing Libraries"
   ]
  },
  {
   "cell_type": "code",
   "execution_count": 1,
   "id": "59132c3c",
   "metadata": {
    "execution": {
     "iopub.execute_input": "2025-04-09T14:11:45.613858Z",
     "iopub.status.busy": "2025-04-09T14:11:45.613374Z",
     "iopub.status.idle": "2025-04-09T14:11:52.637521Z",
     "shell.execute_reply": "2025-04-09T14:11:52.636390Z"
    },
    "papermill": {
     "duration": 7.033875,
     "end_time": "2025-04-09T14:11:52.639584",
     "exception": false,
     "start_time": "2025-04-09T14:11:45.605709",
     "status": "completed"
    },
    "tags": []
   },
   "outputs": [],
   "source": [
    "# table manipulation, calculating\n",
    "import pandas as pd\n",
    "import numpy as np\n",
    "pd.set_option('display.max_columns', 100) # increase the maximum number of columns\n",
    "\n",
    "# visualization\n",
    "import seaborn as sns\n",
    "import matplotlib.pyplot as plt\n",
    "\n",
    "# learning\n",
    "from sklearn.metrics import mean_squared_error\n",
    "from sklearn.ensemble import VotingClassifier\n",
    "from sklearn.model_selection import KFold\n",
    "import lightgbm as lgb\n",
    "\n",
    "# Ignore all warnings\n",
    "import warnings\n",
    "warnings.simplefilter(\"ignore\")"
   ]
  },
  {
   "cell_type": "markdown",
   "id": "0ddbce8c",
   "metadata": {
    "papermill": {
     "duration": 0.006906,
     "end_time": "2025-04-09T14:11:52.653726",
     "exception": false,
     "start_time": "2025-04-09T14:11:52.646820",
     "status": "completed"
    },
    "tags": []
   },
   "source": [
    "# Importing Datasets"
   ]
  },
  {
   "cell_type": "code",
   "execution_count": 2,
   "id": "7d044b5d",
   "metadata": {
    "execution": {
     "iopub.execute_input": "2025-04-09T14:11:52.670111Z",
     "iopub.status.busy": "2025-04-09T14:11:52.669408Z",
     "iopub.status.idle": "2025-04-09T14:11:55.399850Z",
     "shell.execute_reply": "2025-04-09T14:11:55.398768Z"
    },
    "papermill": {
     "duration": 2.74102,
     "end_time": "2025-04-09T14:11:55.401885",
     "exception": false,
     "start_time": "2025-04-09T14:11:52.660865",
     "status": "completed"
    },
    "tags": []
   },
   "outputs": [],
   "source": [
    "df_train = pd.read_csv('/kaggle/input/playground-series-s5e4/train.csv')\n",
    "df_test = pd.read_csv('/kaggle/input/playground-series-s5e4/test.csv')"
   ]
  },
  {
   "cell_type": "code",
   "execution_count": 3,
   "id": "48d7da82",
   "metadata": {
    "execution": {
     "iopub.execute_input": "2025-04-09T14:11:55.417101Z",
     "iopub.status.busy": "2025-04-09T14:11:55.416758Z",
     "iopub.status.idle": "2025-04-09T14:11:55.457139Z",
     "shell.execute_reply": "2025-04-09T14:11:55.456111Z"
    },
    "papermill": {
     "duration": 0.050116,
     "end_time": "2025-04-09T14:11:55.459047",
     "exception": false,
     "start_time": "2025-04-09T14:11:55.408931",
     "status": "completed"
    },
    "tags": []
   },
   "outputs": [
    {
     "data": {
      "text/html": [
       "<div>\n",
       "<style scoped>\n",
       "    .dataframe tbody tr th:only-of-type {\n",
       "        vertical-align: middle;\n",
       "    }\n",
       "\n",
       "    .dataframe tbody tr th {\n",
       "        vertical-align: top;\n",
       "    }\n",
       "\n",
       "    .dataframe thead th {\n",
       "        text-align: right;\n",
       "    }\n",
       "</style>\n",
       "<table border=\"1\" class=\"dataframe\">\n",
       "  <thead>\n",
       "    <tr style=\"text-align: right;\">\n",
       "      <th></th>\n",
       "      <th>id</th>\n",
       "      <th>Podcast_Name</th>\n",
       "      <th>Episode_Title</th>\n",
       "      <th>Episode_Length_minutes</th>\n",
       "      <th>Genre</th>\n",
       "      <th>Host_Popularity_percentage</th>\n",
       "      <th>Publication_Day</th>\n",
       "      <th>Publication_Time</th>\n",
       "      <th>Guest_Popularity_percentage</th>\n",
       "      <th>Number_of_Ads</th>\n",
       "      <th>Episode_Sentiment</th>\n",
       "      <th>Listening_Time_minutes</th>\n",
       "    </tr>\n",
       "  </thead>\n",
       "  <tbody>\n",
       "    <tr>\n",
       "      <th>0</th>\n",
       "      <td>0</td>\n",
       "      <td>Mystery Matters</td>\n",
       "      <td>Episode 98</td>\n",
       "      <td>NaN</td>\n",
       "      <td>True Crime</td>\n",
       "      <td>74.81</td>\n",
       "      <td>Thursday</td>\n",
       "      <td>Night</td>\n",
       "      <td>NaN</td>\n",
       "      <td>0.0</td>\n",
       "      <td>Positive</td>\n",
       "      <td>31.41998</td>\n",
       "    </tr>\n",
       "    <tr>\n",
       "      <th>1</th>\n",
       "      <td>1</td>\n",
       "      <td>Joke Junction</td>\n",
       "      <td>Episode 26</td>\n",
       "      <td>119.80</td>\n",
       "      <td>Comedy</td>\n",
       "      <td>66.95</td>\n",
       "      <td>Saturday</td>\n",
       "      <td>Afternoon</td>\n",
       "      <td>75.95</td>\n",
       "      <td>2.0</td>\n",
       "      <td>Negative</td>\n",
       "      <td>88.01241</td>\n",
       "    </tr>\n",
       "    <tr>\n",
       "      <th>2</th>\n",
       "      <td>2</td>\n",
       "      <td>Study Sessions</td>\n",
       "      <td>Episode 16</td>\n",
       "      <td>73.90</td>\n",
       "      <td>Education</td>\n",
       "      <td>69.97</td>\n",
       "      <td>Tuesday</td>\n",
       "      <td>Evening</td>\n",
       "      <td>8.97</td>\n",
       "      <td>0.0</td>\n",
       "      <td>Negative</td>\n",
       "      <td>44.92531</td>\n",
       "    </tr>\n",
       "    <tr>\n",
       "      <th>3</th>\n",
       "      <td>3</td>\n",
       "      <td>Digital Digest</td>\n",
       "      <td>Episode 45</td>\n",
       "      <td>67.17</td>\n",
       "      <td>Technology</td>\n",
       "      <td>57.22</td>\n",
       "      <td>Monday</td>\n",
       "      <td>Morning</td>\n",
       "      <td>78.70</td>\n",
       "      <td>2.0</td>\n",
       "      <td>Positive</td>\n",
       "      <td>46.27824</td>\n",
       "    </tr>\n",
       "    <tr>\n",
       "      <th>4</th>\n",
       "      <td>4</td>\n",
       "      <td>Mind &amp; Body</td>\n",
       "      <td>Episode 86</td>\n",
       "      <td>110.51</td>\n",
       "      <td>Health</td>\n",
       "      <td>80.07</td>\n",
       "      <td>Monday</td>\n",
       "      <td>Afternoon</td>\n",
       "      <td>58.68</td>\n",
       "      <td>3.0</td>\n",
       "      <td>Neutral</td>\n",
       "      <td>75.61031</td>\n",
       "    </tr>\n",
       "    <tr>\n",
       "      <th>...</th>\n",
       "      <td>...</td>\n",
       "      <td>...</td>\n",
       "      <td>...</td>\n",
       "      <td>...</td>\n",
       "      <td>...</td>\n",
       "      <td>...</td>\n",
       "      <td>...</td>\n",
       "      <td>...</td>\n",
       "      <td>...</td>\n",
       "      <td>...</td>\n",
       "      <td>...</td>\n",
       "      <td>...</td>\n",
       "    </tr>\n",
       "    <tr>\n",
       "      <th>749995</th>\n",
       "      <td>749995</td>\n",
       "      <td>Learning Lab</td>\n",
       "      <td>Episode 25</td>\n",
       "      <td>75.66</td>\n",
       "      <td>Education</td>\n",
       "      <td>69.36</td>\n",
       "      <td>Saturday</td>\n",
       "      <td>Morning</td>\n",
       "      <td>NaN</td>\n",
       "      <td>0.0</td>\n",
       "      <td>Negative</td>\n",
       "      <td>56.87058</td>\n",
       "    </tr>\n",
       "    <tr>\n",
       "      <th>749996</th>\n",
       "      <td>749996</td>\n",
       "      <td>Business Briefs</td>\n",
       "      <td>Episode 21</td>\n",
       "      <td>75.75</td>\n",
       "      <td>Business</td>\n",
       "      <td>35.21</td>\n",
       "      <td>Saturday</td>\n",
       "      <td>Night</td>\n",
       "      <td>NaN</td>\n",
       "      <td>2.0</td>\n",
       "      <td>Neutral</td>\n",
       "      <td>45.46242</td>\n",
       "    </tr>\n",
       "    <tr>\n",
       "      <th>749997</th>\n",
       "      <td>749997</td>\n",
       "      <td>Lifestyle Lounge</td>\n",
       "      <td>Episode 51</td>\n",
       "      <td>30.98</td>\n",
       "      <td>Lifestyle</td>\n",
       "      <td>78.58</td>\n",
       "      <td>Thursday</td>\n",
       "      <td>Morning</td>\n",
       "      <td>84.89</td>\n",
       "      <td>0.0</td>\n",
       "      <td>Negative</td>\n",
       "      <td>15.26000</td>\n",
       "    </tr>\n",
       "    <tr>\n",
       "      <th>749998</th>\n",
       "      <td>749998</td>\n",
       "      <td>Style Guide</td>\n",
       "      <td>Episode 47</td>\n",
       "      <td>108.98</td>\n",
       "      <td>Lifestyle</td>\n",
       "      <td>45.39</td>\n",
       "      <td>Thursday</td>\n",
       "      <td>Morning</td>\n",
       "      <td>93.27</td>\n",
       "      <td>0.0</td>\n",
       "      <td>Negative</td>\n",
       "      <td>100.72939</td>\n",
       "    </tr>\n",
       "    <tr>\n",
       "      <th>749999</th>\n",
       "      <td>749999</td>\n",
       "      <td>Sports Central</td>\n",
       "      <td>Episode 99</td>\n",
       "      <td>24.10</td>\n",
       "      <td>Sports</td>\n",
       "      <td>22.45</td>\n",
       "      <td>Saturday</td>\n",
       "      <td>Night</td>\n",
       "      <td>36.72</td>\n",
       "      <td>0.0</td>\n",
       "      <td>Neutral</td>\n",
       "      <td>11.94439</td>\n",
       "    </tr>\n",
       "  </tbody>\n",
       "</table>\n",
       "<p>750000 rows × 12 columns</p>\n",
       "</div>"
      ],
      "text/plain": [
       "            id      Podcast_Name Episode_Title  Episode_Length_minutes  \\\n",
       "0            0   Mystery Matters    Episode 98                     NaN   \n",
       "1            1     Joke Junction    Episode 26                  119.80   \n",
       "2            2    Study Sessions    Episode 16                   73.90   \n",
       "3            3    Digital Digest    Episode 45                   67.17   \n",
       "4            4       Mind & Body    Episode 86                  110.51   \n",
       "...        ...               ...           ...                     ...   \n",
       "749995  749995      Learning Lab    Episode 25                   75.66   \n",
       "749996  749996   Business Briefs    Episode 21                   75.75   \n",
       "749997  749997  Lifestyle Lounge    Episode 51                   30.98   \n",
       "749998  749998       Style Guide    Episode 47                  108.98   \n",
       "749999  749999    Sports Central    Episode 99                   24.10   \n",
       "\n",
       "             Genre  Host_Popularity_percentage Publication_Day  \\\n",
       "0       True Crime                       74.81        Thursday   \n",
       "1           Comedy                       66.95        Saturday   \n",
       "2        Education                       69.97         Tuesday   \n",
       "3       Technology                       57.22          Monday   \n",
       "4           Health                       80.07          Monday   \n",
       "...            ...                         ...             ...   \n",
       "749995   Education                       69.36        Saturday   \n",
       "749996    Business                       35.21        Saturday   \n",
       "749997   Lifestyle                       78.58        Thursday   \n",
       "749998   Lifestyle                       45.39        Thursday   \n",
       "749999      Sports                       22.45        Saturday   \n",
       "\n",
       "       Publication_Time  Guest_Popularity_percentage  Number_of_Ads  \\\n",
       "0                 Night                          NaN            0.0   \n",
       "1             Afternoon                        75.95            2.0   \n",
       "2               Evening                         8.97            0.0   \n",
       "3               Morning                        78.70            2.0   \n",
       "4             Afternoon                        58.68            3.0   \n",
       "...                 ...                          ...            ...   \n",
       "749995          Morning                          NaN            0.0   \n",
       "749996            Night                          NaN            2.0   \n",
       "749997          Morning                        84.89            0.0   \n",
       "749998          Morning                        93.27            0.0   \n",
       "749999            Night                        36.72            0.0   \n",
       "\n",
       "       Episode_Sentiment  Listening_Time_minutes  \n",
       "0               Positive                31.41998  \n",
       "1               Negative                88.01241  \n",
       "2               Negative                44.92531  \n",
       "3               Positive                46.27824  \n",
       "4                Neutral                75.61031  \n",
       "...                  ...                     ...  \n",
       "749995          Negative                56.87058  \n",
       "749996           Neutral                45.46242  \n",
       "749997          Negative                15.26000  \n",
       "749998          Negative               100.72939  \n",
       "749999           Neutral                11.94439  \n",
       "\n",
       "[750000 rows x 12 columns]"
      ]
     },
     "execution_count": 3,
     "metadata": {},
     "output_type": "execute_result"
    }
   ],
   "source": [
    "df_train"
   ]
  },
  {
   "cell_type": "code",
   "execution_count": 4,
   "id": "8f25cc40",
   "metadata": {
    "execution": {
     "iopub.execute_input": "2025-04-09T14:11:55.474416Z",
     "iopub.status.busy": "2025-04-09T14:11:55.473989Z",
     "iopub.status.idle": "2025-04-09T14:11:55.492485Z",
     "shell.execute_reply": "2025-04-09T14:11:55.491231Z"
    },
    "papermill": {
     "duration": 0.028354,
     "end_time": "2025-04-09T14:11:55.494642",
     "exception": false,
     "start_time": "2025-04-09T14:11:55.466288",
     "status": "completed"
    },
    "tags": []
   },
   "outputs": [
    {
     "data": {
      "text/html": [
       "<div>\n",
       "<style scoped>\n",
       "    .dataframe tbody tr th:only-of-type {\n",
       "        vertical-align: middle;\n",
       "    }\n",
       "\n",
       "    .dataframe tbody tr th {\n",
       "        vertical-align: top;\n",
       "    }\n",
       "\n",
       "    .dataframe thead th {\n",
       "        text-align: right;\n",
       "    }\n",
       "</style>\n",
       "<table border=\"1\" class=\"dataframe\">\n",
       "  <thead>\n",
       "    <tr style=\"text-align: right;\">\n",
       "      <th></th>\n",
       "      <th>id</th>\n",
       "      <th>Podcast_Name</th>\n",
       "      <th>Episode_Title</th>\n",
       "      <th>Episode_Length_minutes</th>\n",
       "      <th>Genre</th>\n",
       "      <th>Host_Popularity_percentage</th>\n",
       "      <th>Publication_Day</th>\n",
       "      <th>Publication_Time</th>\n",
       "      <th>Guest_Popularity_percentage</th>\n",
       "      <th>Number_of_Ads</th>\n",
       "      <th>Episode_Sentiment</th>\n",
       "    </tr>\n",
       "  </thead>\n",
       "  <tbody>\n",
       "    <tr>\n",
       "      <th>0</th>\n",
       "      <td>750000</td>\n",
       "      <td>Educational Nuggets</td>\n",
       "      <td>Episode 73</td>\n",
       "      <td>78.96</td>\n",
       "      <td>Education</td>\n",
       "      <td>38.11</td>\n",
       "      <td>Saturday</td>\n",
       "      <td>Evening</td>\n",
       "      <td>53.33</td>\n",
       "      <td>1.0</td>\n",
       "      <td>Neutral</td>\n",
       "    </tr>\n",
       "    <tr>\n",
       "      <th>1</th>\n",
       "      <td>750001</td>\n",
       "      <td>Sound Waves</td>\n",
       "      <td>Episode 23</td>\n",
       "      <td>27.87</td>\n",
       "      <td>Music</td>\n",
       "      <td>71.29</td>\n",
       "      <td>Sunday</td>\n",
       "      <td>Morning</td>\n",
       "      <td>NaN</td>\n",
       "      <td>0.0</td>\n",
       "      <td>Neutral</td>\n",
       "    </tr>\n",
       "    <tr>\n",
       "      <th>2</th>\n",
       "      <td>750002</td>\n",
       "      <td>Joke Junction</td>\n",
       "      <td>Episode 11</td>\n",
       "      <td>69.10</td>\n",
       "      <td>Comedy</td>\n",
       "      <td>67.89</td>\n",
       "      <td>Friday</td>\n",
       "      <td>Evening</td>\n",
       "      <td>97.51</td>\n",
       "      <td>0.0</td>\n",
       "      <td>Positive</td>\n",
       "    </tr>\n",
       "    <tr>\n",
       "      <th>3</th>\n",
       "      <td>750003</td>\n",
       "      <td>Comedy Corner</td>\n",
       "      <td>Episode 73</td>\n",
       "      <td>115.39</td>\n",
       "      <td>Comedy</td>\n",
       "      <td>23.40</td>\n",
       "      <td>Sunday</td>\n",
       "      <td>Morning</td>\n",
       "      <td>51.75</td>\n",
       "      <td>2.0</td>\n",
       "      <td>Positive</td>\n",
       "    </tr>\n",
       "    <tr>\n",
       "      <th>4</th>\n",
       "      <td>750004</td>\n",
       "      <td>Life Lessons</td>\n",
       "      <td>Episode 50</td>\n",
       "      <td>72.32</td>\n",
       "      <td>Lifestyle</td>\n",
       "      <td>58.10</td>\n",
       "      <td>Wednesday</td>\n",
       "      <td>Morning</td>\n",
       "      <td>11.30</td>\n",
       "      <td>2.0</td>\n",
       "      <td>Neutral</td>\n",
       "    </tr>\n",
       "    <tr>\n",
       "      <th>...</th>\n",
       "      <td>...</td>\n",
       "      <td>...</td>\n",
       "      <td>...</td>\n",
       "      <td>...</td>\n",
       "      <td>...</td>\n",
       "      <td>...</td>\n",
       "      <td>...</td>\n",
       "      <td>...</td>\n",
       "      <td>...</td>\n",
       "      <td>...</td>\n",
       "      <td>...</td>\n",
       "    </tr>\n",
       "    <tr>\n",
       "      <th>249995</th>\n",
       "      <td>999995</td>\n",
       "      <td>Mind &amp; Body</td>\n",
       "      <td>Episode 100</td>\n",
       "      <td>21.05</td>\n",
       "      <td>Health</td>\n",
       "      <td>65.77</td>\n",
       "      <td>Saturday</td>\n",
       "      <td>Evening</td>\n",
       "      <td>96.40</td>\n",
       "      <td>3.0</td>\n",
       "      <td>Negative</td>\n",
       "    </tr>\n",
       "    <tr>\n",
       "      <th>249996</th>\n",
       "      <td>999996</td>\n",
       "      <td>Joke Junction</td>\n",
       "      <td>Episode 85</td>\n",
       "      <td>85.50</td>\n",
       "      <td>Comedy</td>\n",
       "      <td>41.47</td>\n",
       "      <td>Saturday</td>\n",
       "      <td>Night</td>\n",
       "      <td>30.52</td>\n",
       "      <td>2.0</td>\n",
       "      <td>Negative</td>\n",
       "    </tr>\n",
       "    <tr>\n",
       "      <th>249997</th>\n",
       "      <td>999997</td>\n",
       "      <td>Joke Junction</td>\n",
       "      <td>Episode 63</td>\n",
       "      <td>12.11</td>\n",
       "      <td>Comedy</td>\n",
       "      <td>25.92</td>\n",
       "      <td>Thursday</td>\n",
       "      <td>Evening</td>\n",
       "      <td>73.69</td>\n",
       "      <td>1.0</td>\n",
       "      <td>Neutral</td>\n",
       "    </tr>\n",
       "    <tr>\n",
       "      <th>249998</th>\n",
       "      <td>999998</td>\n",
       "      <td>Market Masters</td>\n",
       "      <td>Episode 46</td>\n",
       "      <td>113.46</td>\n",
       "      <td>Business</td>\n",
       "      <td>43.47</td>\n",
       "      <td>Friday</td>\n",
       "      <td>Night</td>\n",
       "      <td>93.59</td>\n",
       "      <td>3.0</td>\n",
       "      <td>Positive</td>\n",
       "    </tr>\n",
       "    <tr>\n",
       "      <th>249999</th>\n",
       "      <td>999999</td>\n",
       "      <td>Brain Boost</td>\n",
       "      <td>Episode 46</td>\n",
       "      <td>78.05</td>\n",
       "      <td>Education</td>\n",
       "      <td>41.72</td>\n",
       "      <td>Friday</td>\n",
       "      <td>Morning</td>\n",
       "      <td>50.77</td>\n",
       "      <td>0.0</td>\n",
       "      <td>Negative</td>\n",
       "    </tr>\n",
       "  </tbody>\n",
       "</table>\n",
       "<p>250000 rows × 11 columns</p>\n",
       "</div>"
      ],
      "text/plain": [
       "            id         Podcast_Name Episode_Title  Episode_Length_minutes  \\\n",
       "0       750000  Educational Nuggets    Episode 73                   78.96   \n",
       "1       750001          Sound Waves    Episode 23                   27.87   \n",
       "2       750002        Joke Junction    Episode 11                   69.10   \n",
       "3       750003        Comedy Corner    Episode 73                  115.39   \n",
       "4       750004         Life Lessons    Episode 50                   72.32   \n",
       "...        ...                  ...           ...                     ...   \n",
       "249995  999995          Mind & Body   Episode 100                   21.05   \n",
       "249996  999996        Joke Junction    Episode 85                   85.50   \n",
       "249997  999997        Joke Junction    Episode 63                   12.11   \n",
       "249998  999998       Market Masters    Episode 46                  113.46   \n",
       "249999  999999          Brain Boost    Episode 46                   78.05   \n",
       "\n",
       "            Genre  Host_Popularity_percentage Publication_Day  \\\n",
       "0       Education                       38.11        Saturday   \n",
       "1           Music                       71.29          Sunday   \n",
       "2          Comedy                       67.89          Friday   \n",
       "3          Comedy                       23.40          Sunday   \n",
       "4       Lifestyle                       58.10       Wednesday   \n",
       "...           ...                         ...             ...   \n",
       "249995     Health                       65.77        Saturday   \n",
       "249996     Comedy                       41.47        Saturday   \n",
       "249997     Comedy                       25.92        Thursday   \n",
       "249998   Business                       43.47          Friday   \n",
       "249999  Education                       41.72          Friday   \n",
       "\n",
       "       Publication_Time  Guest_Popularity_percentage  Number_of_Ads  \\\n",
       "0               Evening                        53.33            1.0   \n",
       "1               Morning                          NaN            0.0   \n",
       "2               Evening                        97.51            0.0   \n",
       "3               Morning                        51.75            2.0   \n",
       "4               Morning                        11.30            2.0   \n",
       "...                 ...                          ...            ...   \n",
       "249995          Evening                        96.40            3.0   \n",
       "249996            Night                        30.52            2.0   \n",
       "249997          Evening                        73.69            1.0   \n",
       "249998            Night                        93.59            3.0   \n",
       "249999          Morning                        50.77            0.0   \n",
       "\n",
       "       Episode_Sentiment  \n",
       "0                Neutral  \n",
       "1                Neutral  \n",
       "2               Positive  \n",
       "3               Positive  \n",
       "4                Neutral  \n",
       "...                  ...  \n",
       "249995          Negative  \n",
       "249996          Negative  \n",
       "249997           Neutral  \n",
       "249998          Positive  \n",
       "249999          Negative  \n",
       "\n",
       "[250000 rows x 11 columns]"
      ]
     },
     "execution_count": 4,
     "metadata": {},
     "output_type": "execute_result"
    }
   ],
   "source": [
    "df_test"
   ]
  },
  {
   "cell_type": "code",
   "execution_count": null,
   "id": "cebb7e6c",
   "metadata": {
    "papermill": {
     "duration": 0.006932,
     "end_time": "2025-04-09T14:11:55.509465",
     "exception": false,
     "start_time": "2025-04-09T14:11:55.502533",
     "status": "completed"
    },
    "tags": []
   },
   "outputs": [],
   "source": []
  },
  {
   "cell_type": "markdown",
   "id": "734a067b",
   "metadata": {
    "papermill": {
     "duration": 0.006876,
     "end_time": "2025-04-09T14:11:55.523766",
     "exception": false,
     "start_time": "2025-04-09T14:11:55.516890",
     "status": "completed"
    },
    "tags": []
   },
   "source": [
    "# EDA"
   ]
  },
  {
   "cell_type": "markdown",
   "id": "090b6095",
   "metadata": {
    "papermill": {
     "duration": 0.006939,
     "end_time": "2025-04-09T14:11:55.537920",
     "exception": false,
     "start_time": "2025-04-09T14:11:55.530981",
     "status": "completed"
    },
    "tags": []
   },
   "source": [
    "detail : "
   ]
  },
  {
   "cell_type": "code",
   "execution_count": null,
   "id": "61704e62",
   "metadata": {
    "papermill": {
     "duration": 0.00714,
     "end_time": "2025-04-09T14:11:55.552155",
     "exception": false,
     "start_time": "2025-04-09T14:11:55.545015",
     "status": "completed"
    },
    "tags": []
   },
   "outputs": [],
   "source": []
  },
  {
   "cell_type": "markdown",
   "id": "506f9121",
   "metadata": {
    "papermill": {
     "duration": 0.007051,
     "end_time": "2025-04-09T14:11:55.567373",
     "exception": false,
     "start_time": "2025-04-09T14:11:55.560322",
     "status": "completed"
    },
    "tags": []
   },
   "source": [
    "# Preprocessing"
   ]
  },
  {
   "cell_type": "code",
   "execution_count": 5,
   "id": "0b1bcc32",
   "metadata": {
    "execution": {
     "iopub.execute_input": "2025-04-09T14:11:55.583391Z",
     "iopub.status.busy": "2025-04-09T14:11:55.582877Z",
     "iopub.status.idle": "2025-04-09T14:12:04.022658Z",
     "shell.execute_reply": "2025-04-09T14:12:04.021332Z"
    },
    "papermill": {
     "duration": 8.450816,
     "end_time": "2025-04-09T14:12:04.025364",
     "exception": false,
     "start_time": "2025-04-09T14:11:55.574548",
     "status": "completed"
    },
    "tags": []
   },
   "outputs": [],
   "source": [
    "# df_train\n",
    "# Get the name of the categorical column\n",
    "categorical_cols = df_train.select_dtypes(include=['object', 'category', 'bool']).columns\n",
    "\n",
    "# Perform one-hot encoding on categorical columns and remove the original column\n",
    "for col in categorical_cols:\n",
    "    one_hot_encoded = pd.get_dummies(df_train[col], prefix=col, dtype=int)\n",
    "    df_train = pd.concat([df_train, one_hot_encoded], axis=1)\n",
    "    df_train = df_train.drop(col, axis=1)"
   ]
  },
  {
   "cell_type": "code",
   "execution_count": 6,
   "id": "3aa4276b",
   "metadata": {
    "execution": {
     "iopub.execute_input": "2025-04-09T14:12:04.041975Z",
     "iopub.status.busy": "2025-04-09T14:12:04.041587Z",
     "iopub.status.idle": "2025-04-09T14:12:06.645755Z",
     "shell.execute_reply": "2025-04-09T14:12:06.644614Z"
    },
    "papermill": {
     "duration": 2.614923,
     "end_time": "2025-04-09T14:12:06.647809",
     "exception": false,
     "start_time": "2025-04-09T14:12:04.032886",
     "status": "completed"
    },
    "tags": []
   },
   "outputs": [],
   "source": [
    "# df_test\n",
    "# Get the name of the categorical column\n",
    "categorical_cols = df_test.select_dtypes(include=['object', 'category', 'bool']).columns\n",
    "\n",
    "# Perform one-hot encoding on categorical columns and remove the original column\n",
    "for col in categorical_cols:\n",
    "    one_hot_encoded = pd.get_dummies(df_test[col], prefix=col, dtype=int)\n",
    "    df_test = pd.concat([df_test, one_hot_encoded], axis=1)\n",
    "    df_test = df_test.drop(col, axis=1)"
   ]
  },
  {
   "cell_type": "code",
   "execution_count": null,
   "id": "04132d2e",
   "metadata": {
    "papermill": {
     "duration": 0.006874,
     "end_time": "2025-04-09T14:12:06.662191",
     "exception": false,
     "start_time": "2025-04-09T14:12:06.655317",
     "status": "completed"
    },
    "tags": []
   },
   "outputs": [],
   "source": []
  },
  {
   "cell_type": "markdown",
   "id": "8fa0e6b8",
   "metadata": {
    "papermill": {
     "duration": 0.007421,
     "end_time": "2025-04-09T14:12:06.678722",
     "exception": false,
     "start_time": "2025-04-09T14:12:06.671301",
     "status": "completed"
    },
    "tags": []
   },
   "source": [
    "# Feature Engineering"
   ]
  },
  {
   "cell_type": "code",
   "execution_count": null,
   "id": "e02bf8fd",
   "metadata": {
    "papermill": {
     "duration": 0.007546,
     "end_time": "2025-04-09T14:12:06.695038",
     "exception": false,
     "start_time": "2025-04-09T14:12:06.687492",
     "status": "completed"
    },
    "tags": []
   },
   "outputs": [],
   "source": []
  },
  {
   "cell_type": "markdown",
   "id": "4568bc17",
   "metadata": {
    "papermill": {
     "duration": 0.006796,
     "end_time": "2025-04-09T14:12:06.709108",
     "exception": false,
     "start_time": "2025-04-09T14:12:06.702312",
     "status": "completed"
    },
    "tags": []
   },
   "source": [
    "# Modeling"
   ]
  },
  {
   "cell_type": "code",
   "execution_count": 7,
   "id": "5e8ae097",
   "metadata": {
    "execution": {
     "iopub.execute_input": "2025-04-09T14:12:06.724674Z",
     "iopub.status.busy": "2025-04-09T14:12:06.724275Z",
     "iopub.status.idle": "2025-04-09T14:12:06.728691Z",
     "shell.execute_reply": "2025-04-09T14:12:06.727485Z"
    },
    "papermill": {
     "duration": 0.0143,
     "end_time": "2025-04-09T14:12:06.730499",
     "exception": false,
     "start_time": "2025-04-09T14:12:06.716199",
     "status": "completed"
    },
    "tags": []
   },
   "outputs": [],
   "source": [
    "SEED = 42\n",
    "NUM_SPLITS = 10 # try different folds"
   ]
  },
  {
   "cell_type": "code",
   "execution_count": 8,
   "id": "a49e612f",
   "metadata": {
    "execution": {
     "iopub.execute_input": "2025-04-09T14:12:06.746421Z",
     "iopub.status.busy": "2025-04-09T14:12:06.746022Z",
     "iopub.status.idle": "2025-04-09T14:12:07.084505Z",
     "shell.execute_reply": "2025-04-09T14:12:07.082804Z"
    },
    "papermill": {
     "duration": 0.348776,
     "end_time": "2025-04-09T14:12:07.086570",
     "exception": false,
     "start_time": "2025-04-09T14:12:06.737794",
     "status": "completed"
    },
    "tags": []
   },
   "outputs": [],
   "source": [
    "X = df_train.drop(columns=[\"id\",\"Listening_Time_minutes\"])\n",
    "y = df_train[\"Listening_Time_minutes\"]"
   ]
  },
  {
   "cell_type": "code",
   "execution_count": 9,
   "id": "6fa22463",
   "metadata": {
    "execution": {
     "iopub.execute_input": "2025-04-09T14:12:07.104457Z",
     "iopub.status.busy": "2025-04-09T14:12:07.104018Z",
     "iopub.status.idle": "2025-04-09T14:13:23.466074Z",
     "shell.execute_reply": "2025-04-09T14:13:23.464513Z"
    },
    "papermill": {
     "duration": 76.373469,
     "end_time": "2025-04-09T14:13:23.468067",
     "exception": false,
     "start_time": "2025-04-09T14:12:07.094598",
     "status": "completed"
    },
    "tags": []
   },
   "outputs": [
    {
     "name": "stdout",
     "output_type": "stream",
     "text": [
      "Fold 1\n",
      "Fold 2\n",
      "Fold 3\n",
      "Fold 4\n",
      "Fold 5\n",
      "Fold 6\n",
      "Fold 7\n",
      "Fold 8\n",
      "Fold 9\n",
      "Fold 10\n",
      "\n",
      "Cross-validation RMSE scores: [15.836565541606701, 15.819810170342743, 15.840861559184281, 15.906836845404467, 15.85371691627219, 15.874450597141287, 15.84579970921399, 15.931489611233262, 15.748763605507659, 15.878261562477507]\n",
      "Mean RMSE: 15.85366\n",
      "Standard Deviation of RMSE: 0.04753\n"
     ]
    }
   ],
   "source": [
    "# Hyperparameters of LightGBM (fixed values)\n",
    "params = {\n",
    "    'objective': 'regression',\n",
    "    'metric': 'rmse',\n",
    "    'boosting_type': 'gbdt', # Boosting type: Gradient Boosting Decision Tree\n",
    "    'learning_rate': 0.01, # Learning rate: A smaller rate slows down learning but can improve accuracy\n",
    "    'num_leaves': 30,  # Number of leaves in a decision tree: Set smaller to prevent overfitting\n",
    "    'max_depth': 8,    # Maximum depth of a decision tree: Set smaller to prevent overfitting\n",
    "    # 'feature_fraction': 0.7, # Fraction of features to sample: 0.7 means 70% of columns are used for learning\n",
    "    # 'bagging_fraction': 0.7, # Fraction of data to sample: 0.7 means 70% of data is used for learning\n",
    "    # 'bagging_freq': 1, # Frequency to apply bagging_fraction: 1 means apply at each iteration\n",
    "    'lambda_l1': 0.1, # L1 regularization term weight: Prevents overfitting\n",
    "    'lambda_l2': 0.1, # L2 regularization term weight: Prevents overfitting\n",
    "    # 'min_child_samples': 20, # Minimum number of data needed in a leaf: Too small can cause overfitting\n",
    "    # 'min_data_in_leaf': 40, # Minimum number of data needed in a leaf: Too small can cause overfitting\n",
    "    # 'min_sum_hessian_in_leaf': 1e-2, # Minimum sum of hessians needed in a leaf: Too small can cause overfitting\n",
    "    'verbosity': -1, # Level of logging output during learning: -1 means no output\n",
    "    'early_stopping_rounds': 100, # Number of rounds for early stopping: Learning stops if the score doesn't improve for the specified rounds\n",
    "    'random_state': SEED, # Random seed: Ensures reproducibility\n",
    "    # 'colsample_bytree': 0.7, # Subsample ratio of columns when constructing each tree (prevents overfitting)\n",
    "    # 'min_child_weight': 1e-3, # Minimum sum of instance weight (hessian) needed in a child (leaf)\n",
    "    # 'path_smooth': 0.1, # Parameter to smooth decision tree path\n",
    "    'max_bin': 255, # Maximum number of bins to bucket feature values\n",
    "    'n_estimators': 100, # Number of boosting iterations (number of trees)\n",
    "    # 'scale_pos_weight': 1, # Weight for balancing unbalanced classes\n",
    "    # 'min_gain_to_split': 0.1, # Minimum loss reduction required to make a further partition on a leaf node\n",
    "    #'feature_fraction_bynode': 0.8, # Fraction of features to consider for each node split\n",
    "    #'force_col_wise': True, # Force column-wise histogram building\n",
    "    #'extra_trees': True, # Enable random forest like behavior\n",
    "    #'num_iterations': 2000, # Number of boosting iterations\n",
    "    # 'drop_rate': 0.1, # Dropout rate for Dropout Boosting\n",
    "    # 'skip_drop': 0.5, # Skip rate for Dropout Boosting\n",
    "    # 'top_rate': 0.2, # Ratio of top instances to keep for GOSS\n",
    "    # 'other_rate': 0.1, # Ratio of other instances to keep for GOSS\n",
    "    #'categorical_feature': [0, 1, 2], # Indices of categorical features (add as needed)\n",
    "    }\n",
    "\n",
    "# K-Fold Cross-Validation\n",
    "kf = KFold(n_splits=NUM_SPLITS, shuffle=True, random_state=SEED)\n",
    "rmse_scores = []\n",
    "models = []  # A list to store trained models\n",
    "\n",
    "for fold, (train_index, val_index) in enumerate(kf.split(X, y)):\n",
    "    print(f\"Fold {fold+1}\")\n",
    "    X_train, X_val = X.iloc[train_index], X.iloc[val_index]\n",
    "    y_train, y_val = y.iloc[train_index], y.iloc[val_index]\n",
    "\n",
    "    model = lgb.LGBMRegressor(**params)\n",
    "    model.fit(X_train, y_train,\n",
    "              eval_set=[(X_val, y_val)],\n",
    "              eval_metric='rmse',\n",
    "              callbacks=[lgb.early_stopping(100, verbose=False)])\n",
    "\n",
    "    y_pred = model.predict(X_val)\n",
    "    rmse = np.sqrt(mean_squared_error(y_val, y_pred))\n",
    "    rmse_scores.append(rmse)\n",
    "    models.append(model)  # Save the trained model\n",
    "\n",
    "# Show the mean and standard deviation of the cross-validation scores\n",
    "print(\"\\nCross-validation RMSE scores:\", rmse_scores)\n",
    "print(f\"Mean RMSE: {np.mean(rmse_scores):.5f}\")\n",
    "print(f\"Standard Deviation of RMSE: {np.std(rmse_scores):.5f}\")"
   ]
  },
  {
   "cell_type": "code",
   "execution_count": 10,
   "id": "c59ec0ce",
   "metadata": {
    "execution": {
     "iopub.execute_input": "2025-04-09T14:13:23.486339Z",
     "iopub.status.busy": "2025-04-09T14:13:23.485914Z",
     "iopub.status.idle": "2025-04-09T14:13:23.490040Z",
     "shell.execute_reply": "2025-04-09T14:13:23.489106Z"
    },
    "papermill": {
     "duration": 0.015747,
     "end_time": "2025-04-09T14:13:23.491864",
     "exception": false,
     "start_time": "2025-04-09T14:13:23.476117",
     "status": "completed"
    },
    "tags": []
   },
   "outputs": [],
   "source": [
    "# Simple version of cross validation\n",
    "# from sklearn.model_selection import cross_val_score\n",
    "\n",
    "# # Preparing the LightGBM model (hyperparameters are defined in params)\n",
    "# model = lgb.LGBMRegressor(**params)\n",
    "\n",
    "# # Preparation for K-Fold cross-validation\n",
    "# kf = KFold(n_splits=NUM_SPLITS, shuffle=True, random_state=SEED)\n",
    "\n",
    "# # Evaluate RMSE using cross_val_score\n",
    "# # By default, cross_val_score uses accuracy for classification and r2 for regression as the evaluation metric.\n",
    "# # You need to explicitly specify negative_root_mean_squared_error in your scoring parameters and transform the results.\n",
    "# neg_rmse_scores = cross_val_score(model, X, y, cv=kf, scoring='neg_root_mean_squared_error')\n",
    "# rmse_scores = -neg_rmse_scores\n",
    "\n",
    "# print(\"Cross-validation RMSE scores:\", rmse_scores)\n",
    "# print(f\"Mean RMSE: {np.mean(rmse_scores)}\")"
   ]
  },
  {
   "cell_type": "code",
   "execution_count": 11,
   "id": "5347b26d",
   "metadata": {
    "execution": {
     "iopub.execute_input": "2025-04-09T14:13:23.508569Z",
     "iopub.status.busy": "2025-04-09T14:13:23.508164Z",
     "iopub.status.idle": "2025-04-09T14:13:23.512783Z",
     "shell.execute_reply": "2025-04-09T14:13:23.511748Z"
    },
    "papermill": {
     "duration": 0.014717,
     "end_time": "2025-04-09T14:13:23.514461",
     "exception": false,
     "start_time": "2025-04-09T14:13:23.499744",
     "status": "completed"
    },
    "tags": []
   },
   "outputs": [],
   "source": [
    "# # Visualize the distribution of RMSE scores with box plots\n",
    "# plt.figure(figsize=(10, 6))\n",
    "# sns.boxplot(data=rmse_scores)\n",
    "# plt.title('Distribution of RMSE Scores across Folds')\n",
    "# plt.xlabel('Folds')\n",
    "# plt.ylabel('RMSE Score')\n",
    "# plt.xticks(range(1, NUM_SPLITS + 1))  # Fix X-axis label\n",
    "# plt.grid(True)\n",
    "# plt.show()\n",
    "\n",
    "# # Scatter plot of predicted vs. actual values for each fold\n",
    "# plt.figure(figsize=(8, 6))\n",
    "# for fold, model in enumerate(models):\n",
    "#     y_pred_val = model.predict(X.iloc[kf.split(X, y).__next__()[1]]) # Prediction of validation data for each fold\n",
    "#     y_val = y.iloc[kf.split(X, y).__next__()[1]] # Actual values of validation data for each fold\n",
    "#     plt.scatter(y_val, y_pred_val, label=f'Fold {fold+1}')\n",
    "\n",
    "# # Diagonal (ideal prediction)\n",
    "# min_val = min(y.min(), np.min([model.predict(X) for model in models]))\n",
    "# max_val = max(y.max(), np.max([model.predict(X) for model in models]))\n",
    "# plt.plot([min_val, max_val], [min_val, max_val], linestyle='--', color='gray', label='Ideal Prediction')\n",
    "\n",
    "# plt.xlabel('Actual Values')\n",
    "# plt.ylabel('Predicted Values')\n",
    "# plt.title('Actual vs. Predicted Values across Folds')\n",
    "# plt.legend()\n",
    "# plt.grid(True)\n",
    "# plt.show()\n",
    "\n",
    "# # (Optional) Residual plots for each fold\n",
    "# plt.figure(figsize=(8, 6))\n",
    "# for fold, model in enumerate(models):\n",
    "#     y_pred_val = model.predict(X.iloc[kf.split(X, y).__next__()[1]])\n",
    "#     y_val = y.iloc[kf.split(X, y).__next__()[1]]\n",
    "#     residuals = y_val - y_pred_val\n",
    "#     plt.scatter(y_pred_val, residuals, label=f'Fold {fold+1}')\n",
    "\n",
    "# plt.axhline(y=0, color='r', linestyle='--', label='Zero Residual')\n",
    "# plt.xlabel('Predicted Values')\n",
    "# plt.ylabel('Residuals (Actual - Predicted)')\n",
    "# plt.title('Residual Plot across Folds')\n",
    "# plt.legend()\n",
    "# plt.grid(True)\n",
    "# plt.show()"
   ]
  },
  {
   "cell_type": "code",
   "execution_count": null,
   "id": "62317791",
   "metadata": {
    "papermill": {
     "duration": 0.007573,
     "end_time": "2025-04-09T14:13:23.530160",
     "exception": false,
     "start_time": "2025-04-09T14:13:23.522587",
     "status": "completed"
    },
    "tags": []
   },
   "outputs": [],
   "source": []
  },
  {
   "cell_type": "markdown",
   "id": "b925e24e",
   "metadata": {
    "papermill": {
     "duration": 0.007389,
     "end_time": "2025-04-09T14:13:23.545672",
     "exception": false,
     "start_time": "2025-04-09T14:13:23.538283",
     "status": "completed"
    },
    "tags": []
   },
   "source": [
    "# Select Features"
   ]
  },
  {
   "cell_type": "markdown",
   "id": "54f6bc6a",
   "metadata": {
    "papermill": {
     "duration": 0.008493,
     "end_time": "2025-04-09T14:13:23.562038",
     "exception": false,
     "start_time": "2025-04-09T14:13:23.553545",
     "status": "completed"
    },
    "tags": []
   },
   "source": [
    "## feature_importance"
   ]
  },
  {
   "cell_type": "code",
   "execution_count": 12,
   "id": "f5077bc5",
   "metadata": {
    "execution": {
     "iopub.execute_input": "2025-04-09T14:13:23.579424Z",
     "iopub.status.busy": "2025-04-09T14:13:23.579028Z",
     "iopub.status.idle": "2025-04-09T14:13:25.859498Z",
     "shell.execute_reply": "2025-04-09T14:13:25.858338Z"
    },
    "papermill": {
     "duration": 2.294189,
     "end_time": "2025-04-09T14:13:25.864501",
     "exception": false,
     "start_time": "2025-04-09T14:13:23.570312",
     "status": "completed"
    },
    "tags": []
   },
   "outputs": [
    {
     "data": {
      "image/png": "[encoded data removed]",
      "text/plain": [
       "<Figure size 1200x600 with 1 Axes>"
      ]
     },
     "metadata": {},
     "output_type": "display_data"
    },
    {
     "data": {
      "text/html": [
       "<div>\n",
       "<style scoped>\n",
       "    .dataframe tbody tr th:only-of-type {\n",
       "        vertical-align: middle;\n",
       "    }\n",
       "\n",
       "    .dataframe tbody tr th {\n",
       "        vertical-align: top;\n",
       "    }\n",
       "\n",
       "    .dataframe thead th {\n",
       "        text-align: right;\n",
       "    }\n",
       "</style>\n",
       "<table border=\"1\" class=\"dataframe\">\n",
       "  <thead>\n",
       "    <tr style=\"text-align: right;\">\n",
       "      <th></th>\n",
       "      <th>Feature</th>\n",
       "      <th>LightGBM</th>\n",
       "    </tr>\n",
       "  </thead>\n",
       "  <tbody>\n",
       "    <tr>\n",
       "      <th>0</th>\n",
       "      <td>Episode_Length_minutes</td>\n",
       "      <td>1.626962e+10</td>\n",
       "    </tr>\n",
       "    <tr>\n",
       "      <th>3</th>\n",
       "      <td>Number_of_Ads</td>\n",
       "      <td>1.566539e+08</td>\n",
       "    </tr>\n",
       "    <tr>\n",
       "      <th>1</th>\n",
       "      <td>Host_Popularity_percentage</td>\n",
       "      <td>4.162847e+07</td>\n",
       "    </tr>\n",
       "    <tr>\n",
       "      <th>2</th>\n",
       "      <td>Guest_Popularity_percentage</td>\n",
       "      <td>2.910743e+06</td>\n",
       "    </tr>\n",
       "    <tr>\n",
       "      <th>166</th>\n",
       "      <td>Publication_Day_Thursday</td>\n",
       "      <td>7.404624e+05</td>\n",
       "    </tr>\n",
       "    <tr>\n",
       "      <th>...</th>\n",
       "      <td>...</td>\n",
       "      <td>...</td>\n",
       "    </tr>\n",
       "    <tr>\n",
       "      <th>64</th>\n",
       "      <td>Episode_Title_Episode 2</td>\n",
       "      <td>0.000000e+00</td>\n",
       "    </tr>\n",
       "    <tr>\n",
       "      <th>65</th>\n",
       "      <td>Episode_Title_Episode 20</td>\n",
       "      <td>0.000000e+00</td>\n",
       "    </tr>\n",
       "    <tr>\n",
       "      <th>66</th>\n",
       "      <td>Episode_Title_Episode 21</td>\n",
       "      <td>0.000000e+00</td>\n",
       "    </tr>\n",
       "    <tr>\n",
       "      <th>67</th>\n",
       "      <td>Episode_Title_Episode 22</td>\n",
       "      <td>0.000000e+00</td>\n",
       "    </tr>\n",
       "    <tr>\n",
       "      <th>88</th>\n",
       "      <td>Episode_Title_Episode 41</td>\n",
       "      <td>0.000000e+00</td>\n",
       "    </tr>\n",
       "  </tbody>\n",
       "</table>\n",
       "<p>176 rows × 2 columns</p>\n",
       "</div>"
      ],
      "text/plain": [
       "                         Feature      LightGBM\n",
       "0         Episode_Length_minutes  1.626962e+10\n",
       "3                  Number_of_Ads  1.566539e+08\n",
       "1     Host_Popularity_percentage  4.162847e+07\n",
       "2    Guest_Popularity_percentage  2.910743e+06\n",
       "166     Publication_Day_Thursday  7.404624e+05\n",
       "..                           ...           ...\n",
       "64       Episode_Title_Episode 2  0.000000e+00\n",
       "65      Episode_Title_Episode 20  0.000000e+00\n",
       "66      Episode_Title_Episode 21  0.000000e+00\n",
       "67      Episode_Title_Episode 22  0.000000e+00\n",
       "88      Episode_Title_Episode 41  0.000000e+00\n",
       "\n",
       "[176 rows x 2 columns]"
      ]
     },
     "metadata": {},
     "output_type": "display_data"
    }
   ],
   "source": [
    "# Get the importance of features for each model using gain\n",
    "lgb_importances = model.booster_.feature_importance(importance_type='gain')\n",
    "\n",
    "# Get the name of the feature\n",
    "feature_names = X.columns\n",
    "\n",
    "# Summarize feature importance in a DataFrame\n",
    "df_importances = pd.DataFrame({\n",
    "    'Feature': feature_names,\n",
    "    'LightGBM': lgb_importances,\n",
    "})\n",
    "\n",
    "# Visualize feature importance\n",
    "plt.figure(figsize=(12, 6))\n",
    "sns.barplot(x='LightGBM', y='Feature', data=df_importances.sort_values(by='LightGBM', ascending=False))\n",
    "plt.title('LightGBM Feature Importances (Gain)')\n",
    "plt.show()\n",
    "\n",
    "display(df_importances.sort_values(by='LightGBM', ascending=False))"
   ]
  },
  {
   "cell_type": "code",
   "execution_count": null,
   "id": "0cc2c960",
   "metadata": {
    "papermill": {
     "duration": 0.01295,
     "end_time": "2025-04-09T14:13:25.890565",
     "exception": false,
     "start_time": "2025-04-09T14:13:25.877615",
     "status": "completed"
    },
    "tags": []
   },
   "outputs": [],
   "source": []
  },
  {
   "cell_type": "markdown",
   "id": "8b26d4e5",
   "metadata": {
    "papermill": {
     "duration": 0.013118,
     "end_time": "2025-04-09T14:13:25.916855",
     "exception": false,
     "start_time": "2025-04-09T14:13:25.903737",
     "status": "completed"
    },
    "tags": []
   },
   "source": [
    "## SHAP"
   ]
  },
  {
   "cell_type": "code",
   "execution_count": 13,
   "id": "0c4eb2f5",
   "metadata": {
    "execution": {
     "iopub.execute_input": "2025-04-09T14:13:25.945037Z",
     "iopub.status.busy": "2025-04-09T14:13:25.944679Z",
     "iopub.status.idle": "2025-04-09T14:13:25.948696Z",
     "shell.execute_reply": "2025-04-09T14:13:25.947700Z"
    },
    "papermill": {
     "duration": 0.020093,
     "end_time": "2025-04-09T14:13:25.950342",
     "exception": false,
     "start_time": "2025-04-09T14:13:25.930249",
     "status": "completed"
    },
    "tags": []
   },
   "outputs": [],
   "source": [
    "# import shap\n",
    "\n",
    "# # LGBM SHAP values\n",
    "# explainer_lgb = shap.TreeExplainer(model)\n",
    "# shap_values_lgb = explainer_lgb.shap_values(X)"
   ]
  },
  {
   "cell_type": "code",
   "execution_count": 14,
   "id": "97ddd191",
   "metadata": {
    "execution": {
     "iopub.execute_input": "2025-04-09T14:13:25.978437Z",
     "iopub.status.busy": "2025-04-09T14:13:25.977965Z",
     "iopub.status.idle": "2025-04-09T14:13:25.982412Z",
     "shell.execute_reply": "2025-04-09T14:13:25.981140Z"
    },
    "papermill": {
     "duration": 0.02064,
     "end_time": "2025-04-09T14:13:25.984394",
     "exception": false,
     "start_time": "2025-04-09T14:13:25.963754",
     "status": "completed"
    },
    "tags": []
   },
   "outputs": [],
   "source": [
    "# shap.summary_plot(shap_values_lgb, X)"
   ]
  },
  {
   "cell_type": "code",
   "execution_count": 15,
   "id": "202bc685",
   "metadata": {
    "execution": {
     "iopub.execute_input": "2025-04-09T14:13:26.012662Z",
     "iopub.status.busy": "2025-04-09T14:13:26.012308Z",
     "iopub.status.idle": "2025-04-09T14:13:26.016948Z",
     "shell.execute_reply": "2025-04-09T14:13:26.015750Z"
    },
    "papermill": {
     "duration": 0.020646,
     "end_time": "2025-04-09T14:13:26.018867",
     "exception": false,
     "start_time": "2025-04-09T14:13:25.998221",
     "status": "completed"
    },
    "tags": []
   },
   "outputs": [],
   "source": [
    "# # If shap_values_lgb is a list, convert it to a NumPy array\n",
    "# if isinstance(shap_values_lgb, list):\n",
    "#     shap_values_lgb = np.array(shap_values_lgb)\n",
    "\n",
    "# # Handling the multiclass classification case\n",
    "# if len(shap_values_lgb.shape) == 3:\n",
    "#     shap_importance = np.abs(shap_values_lgb).mean(axis=1).mean(axis=0)\n",
    "# # Handling binary classification cases\n",
    "# else:\n",
    "#     shap_importance = np.abs(shap_values_lgb).mean(axis=0)\n",
    "\n",
    "# # Store in DataFrame\n",
    "# df_importance = pd.DataFrame({\n",
    "#     'feature': X.columns,\n",
    "#     'shap_importance': shap_importance\n",
    "# })\n",
    "\n",
    "# # Sort by importance\n",
    "# df_importance = df_importance.sort_values('shap_importance', ascending=False)\n",
    "\n",
    "# # Show results\n",
    "# display(df_importance"
   ]
  },
  {
   "cell_type": "code",
   "execution_count": null,
   "id": "2759bcd8",
   "metadata": {
    "papermill": {
     "duration": 0.013572,
     "end_time": "2025-04-09T14:13:26.045891",
     "exception": false,
     "start_time": "2025-04-09T14:13:26.032319",
     "status": "completed"
    },
    "tags": []
   },
   "outputs": [],
   "source": []
  },
  {
   "cell_type": "markdown",
   "id": "38067fdf",
   "metadata": {
    "papermill": {
     "duration": 0.013001,
     "end_time": "2025-04-09T14:13:26.072447",
     "exception": false,
     "start_time": "2025-04-09T14:13:26.059446",
     "status": "completed"
    },
    "tags": []
   },
   "source": [
    "# Prediction"
   ]
  },
  {
   "cell_type": "code",
   "execution_count": 16,
   "id": "71140c37",
   "metadata": {
    "execution": {
     "iopub.execute_input": "2025-04-09T14:13:26.100659Z",
     "iopub.status.busy": "2025-04-09T14:13:26.100305Z",
     "iopub.status.idle": "2025-04-09T14:13:35.511802Z",
     "shell.execute_reply": "2025-04-09T14:13:35.510323Z"
    },
    "papermill": {
     "duration": 9.428211,
     "end_time": "2025-04-09T14:13:35.514161",
     "exception": false,
     "start_time": "2025-04-09T14:13:26.085950",
     "status": "completed"
    },
    "tags": []
   },
   "outputs": [],
   "source": [
    "test_id = df_test[\"id\"]\n",
    "test = df_test.drop(columns=['id'])\n",
    "submit_score = []\n",
    "\n",
    "for fold_, model in enumerate(models):\n",
    "    # predict test data\n",
    "    pred_ = model.predict(test)\n",
    "    submit_score.append(pred_)\n",
    "\n",
    "# predict test data\n",
    "pred = np.mean(submit_score, axis=0)"
   ]
  },
  {
   "cell_type": "code",
   "execution_count": null,
   "id": "642e3990",
   "metadata": {
    "papermill": {
     "duration": 0.013436,
     "end_time": "2025-04-09T14:13:35.541811",
     "exception": false,
     "start_time": "2025-04-09T14:13:35.528375",
     "status": "completed"
    },
    "tags": []
   },
   "outputs": [],
   "source": []
  },
  {
   "cell_type": "markdown",
   "id": "1ce322f0",
   "metadata": {
    "papermill": {
     "duration": 0.013654,
     "end_time": "2025-04-09T14:13:35.568986",
     "exception": false,
     "start_time": "2025-04-09T14:13:35.555332",
     "status": "completed"
    },
    "tags": []
   },
   "source": [
    "# Submission"
   ]
  },
  {
   "cell_type": "code",
   "execution_count": 17,
   "id": "6ca61931",
   "metadata": {
    "execution": {
     "iopub.execute_input": "2025-04-09T14:13:35.598073Z",
     "iopub.status.busy": "2025-04-09T14:13:35.597705Z",
     "iopub.status.idle": "2025-04-09T14:13:36.104439Z",
     "shell.execute_reply": "2025-04-09T14:13:36.103339Z"
    },
    "papermill": {
     "duration": 0.523511,
     "end_time": "2025-04-09T14:13:36.106157",
     "exception": false,
     "start_time": "2025-04-09T14:13:35.582646",
     "status": "completed"
    },
    "tags": []
   },
   "outputs": [
    {
     "data": {
      "text/html": [
       "<div>\n",
       "<style scoped>\n",
       "    .dataframe tbody tr th:only-of-type {\n",
       "        vertical-align: middle;\n",
       "    }\n",
       "\n",
       "    .dataframe tbody tr th {\n",
       "        vertical-align: top;\n",
       "    }\n",
       "\n",
       "    .dataframe thead th {\n",
       "        text-align: right;\n",
       "    }\n",
       "</style>\n",
       "<table border=\"1\" class=\"dataframe\">\n",
       "  <thead>\n",
       "    <tr style=\"text-align: right;\">\n",
       "      <th></th>\n",
       "      <th>id</th>\n",
       "      <th>Listening_Time_minutes</th>\n",
       "    </tr>\n",
       "  </thead>\n",
       "  <tbody>\n",
       "    <tr>\n",
       "      <th>0</th>\n",
       "      <td>750000</td>\n",
       "      <td>53.102914</td>\n",
       "    </tr>\n",
       "    <tr>\n",
       "      <th>1</th>\n",
       "      <td>750001</td>\n",
       "      <td>27.750085</td>\n",
       "    </tr>\n",
       "    <tr>\n",
       "      <th>2</th>\n",
       "      <td>750002</td>\n",
       "      <td>47.638028</td>\n",
       "    </tr>\n",
       "    <tr>\n",
       "      <th>3</th>\n",
       "      <td>750003</td>\n",
       "      <td>68.256762</td>\n",
       "    </tr>\n",
       "    <tr>\n",
       "      <th>4</th>\n",
       "      <td>750004</td>\n",
       "      <td>48.188497</td>\n",
       "    </tr>\n",
       "    <tr>\n",
       "      <th>...</th>\n",
       "      <td>...</td>\n",
       "      <td>...</td>\n",
       "    </tr>\n",
       "    <tr>\n",
       "      <th>249995</th>\n",
       "      <td>999995</td>\n",
       "      <td>24.371429</td>\n",
       "    </tr>\n",
       "    <tr>\n",
       "      <th>249996</th>\n",
       "      <td>999996</td>\n",
       "      <td>53.202731</td>\n",
       "    </tr>\n",
       "    <tr>\n",
       "      <th>249997</th>\n",
       "      <td>999997</td>\n",
       "      <td>21.001889</td>\n",
       "    </tr>\n",
       "    <tr>\n",
       "      <th>249998</th>\n",
       "      <td>999998</td>\n",
       "      <td>64.607810</td>\n",
       "    </tr>\n",
       "    <tr>\n",
       "      <th>249999</th>\n",
       "      <td>999999</td>\n",
       "      <td>52.670676</td>\n",
       "    </tr>\n",
       "  </tbody>\n",
       "</table>\n",
       "<p>250000 rows × 2 columns</p>\n",
       "</div>"
      ],
      "text/plain": [
       "            id  Listening_Time_minutes\n",
       "0       750000               53.102914\n",
       "1       750001               27.750085\n",
       "2       750002               47.638028\n",
       "3       750003               68.256762\n",
       "4       750004               48.188497\n",
       "...        ...                     ...\n",
       "249995  999995               24.371429\n",
       "249996  999996               53.202731\n",
       "249997  999997               21.001889\n",
       "249998  999998               64.607810\n",
       "249999  999999               52.670676\n",
       "\n",
       "[250000 rows x 2 columns]"
      ]
     },
     "execution_count": 17,
     "metadata": {},
     "output_type": "execute_result"
    }
   ],
   "source": [
    "submission = pd.DataFrame({\n",
    "    'id': test_id,\n",
    "    'Listening_Time_minutes': pred\n",
    "})\n",
    "\n",
    "# Save\n",
    "submission.to_csv('submission.csv', index=False)\n",
    "\n",
    "submission"
   ]
  },
  {
   "cell_type": "code",
   "execution_count": null,
   "id": "ccd12771",
   "metadata": {
    "papermill": {
     "duration": 0.013009,
     "end_time": "2025-04-09T14:13:36.132802",
     "exception": false,
     "start_time": "2025-04-09T14:13:36.119793",
     "status": "completed"
    },
    "tags": []
   },
   "outputs": [],
   "source": []
  }
 ],
 "metadata": {
  "kaggle": {
   "accelerator": "none",
   "dataSources": [
    {
     "databundleVersionId": 11351736,
     "sourceId": 91715,
     "sourceType": "competition"
    }
   ],
   "dockerImageVersionId": 30918,
   "isGpuEnabled": false,
   "isInternetEnabled": true,
   "language": "python",
   "sourceType": "notebook"
  },
  "kernelspec": {
   "display_name": "Python 3",
   "language": "python",
   "name": "python3"
  },
  "language_info": {
   "codemirror_mode": {
    "name": "ipython",
    "version": 3
   },
   "file_extension": ".py",
   "mimetype": "text/x-python",
   "name": "python",
   "nbconvert_exporter": "python",
   "pygments_lexer": "ipython3",
   "version": "3.10.12"
  },
  "papermill": {
   "default_parameters": {},
   "duration": 114.601062,
   "end_time": "2025-04-09T14:13:37.269417",
   "environment_variables": {},
   "exception": null,
   "input_path": "__notebook__.ipynb",
   "output_path": "__notebook__.ipynb",
   "parameters": {},
   "start_time": "2025-04-09T14:11:42.668355",
   "version": "2.6.0"
  }
 },
 "nbformat": 4,
 "nbformat_minor": 5
}
